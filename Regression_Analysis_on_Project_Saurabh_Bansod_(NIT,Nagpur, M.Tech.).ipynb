{
 "cells": [
  {
   "cell_type": "code",
   "execution_count": 2,
   "metadata": {},
   "outputs": [],
   "source": [
    "import numpy as np \n",
    "import pandas as pd\n",
    "import matplotlib.pyplot as plt\n",
    "import seaborn as sns"
   ]
  },
  {
   "cell_type": "markdown",
   "metadata": {},
   "source": [
    "# Data Cleaning and Preprocessing"
   ]
  },
  {
   "cell_type": "code",
   "execution_count": 3,
   "metadata": {},
   "outputs": [],
   "source": [
    "df=pd.read_csv('C:\\\\Users\\\\ADMIN\\\\Desktop\\\\Mtech_project\\\\Saurabh_Bansod_MT18IND018\\\\DATA\\\\Regression data file\\\\traincsv.csv')"
   ]
  },
  {
   "cell_type": "code",
   "execution_count": 4,
   "metadata": {},
   "outputs": [
    {
     "data": {
      "text/html": [
       "<div>\n",
       "<style scoped>\n",
       "    .dataframe tbody tr th:only-of-type {\n",
       "        vertical-align: middle;\n",
       "    }\n",
       "\n",
       "    .dataframe tbody tr th {\n",
       "        vertical-align: top;\n",
       "    }\n",
       "\n",
       "    .dataframe thead th {\n",
       "        text-align: right;\n",
       "    }\n",
       "</style>\n",
       "<table border=\"1\" class=\"dataframe\">\n",
       "  <thead>\n",
       "    <tr style=\"text-align: right;\">\n",
       "      <th></th>\n",
       "      <th>taken date</th>\n",
       "      <th>date of departure</th>\n",
       "      <th>no.of_days_left</th>\n",
       "      <th>Airline</th>\n",
       "      <th>Aeroplane_ID</th>\n",
       "      <th>source</th>\n",
       "      <th>destination</th>\n",
       "      <th>Dep_Time</th>\n",
       "      <th>Arrival_Time</th>\n",
       "      <th>Duration</th>\n",
       "      <th>Cruidoilprice</th>\n",
       "      <th>no_of_competitors on root</th>\n",
       "      <th>price</th>\n",
       "    </tr>\n",
       "  </thead>\n",
       "  <tbody>\n",
       "    <tr>\n",
       "      <th>3001</th>\n",
       "      <td>1/8/2020</td>\n",
       "      <td>1/9/2020</td>\n",
       "      <td>1</td>\n",
       "      <td>Vistra</td>\n",
       "      <td>UK 811</td>\n",
       "      <td>New Delhi</td>\n",
       "      <td>Bengaluru</td>\n",
       "      <td>6:20</td>\n",
       "      <td>9:05</td>\n",
       "      <td>2h 45m</td>\n",
       "      <td>59.61</td>\n",
       "      <td>5</td>\n",
       "      <td>6883</td>\n",
       "    </tr>\n",
       "    <tr>\n",
       "      <th>3002</th>\n",
       "      <td>1/8/2020</td>\n",
       "      <td>1/9/2020</td>\n",
       "      <td>1</td>\n",
       "      <td>Vistra</td>\n",
       "      <td>UK 815</td>\n",
       "      <td>New Delhi</td>\n",
       "      <td>Bengaluru</td>\n",
       "      <td>7:55</td>\n",
       "      <td>10:45</td>\n",
       "      <td>2h 50m</td>\n",
       "      <td>59.61</td>\n",
       "      <td>5</td>\n",
       "      <td>9178</td>\n",
       "    </tr>\n",
       "    <tr>\n",
       "      <th>3003</th>\n",
       "      <td>1/8/2020</td>\n",
       "      <td>1/9/2020</td>\n",
       "      <td>1</td>\n",
       "      <td>Vistra</td>\n",
       "      <td>UK 817</td>\n",
       "      <td>New Delhi</td>\n",
       "      <td>Bengaluru</td>\n",
       "      <td>16:05</td>\n",
       "      <td>18:50</td>\n",
       "      <td>2h 45m</td>\n",
       "      <td>59.61</td>\n",
       "      <td>5</td>\n",
       "      <td>8653</td>\n",
       "    </tr>\n",
       "    <tr>\n",
       "      <th>3004</th>\n",
       "      <td>1/8/2020</td>\n",
       "      <td>1/9/2020</td>\n",
       "      <td>1</td>\n",
       "      <td>Vistra</td>\n",
       "      <td>UK 813</td>\n",
       "      <td>New Delhi</td>\n",
       "      <td>Bengaluru</td>\n",
       "      <td>17:35</td>\n",
       "      <td>20:25</td>\n",
       "      <td>2h 50m</td>\n",
       "      <td>59.61</td>\n",
       "      <td>5</td>\n",
       "      <td>7918</td>\n",
       "    </tr>\n",
       "    <tr>\n",
       "      <th>3005</th>\n",
       "      <td>1/8/2020</td>\n",
       "      <td>1/9/2020</td>\n",
       "      <td>1</td>\n",
       "      <td>Vistra</td>\n",
       "      <td>UK 819</td>\n",
       "      <td>New Delhi</td>\n",
       "      <td>Bengaluru</td>\n",
       "      <td>13:55</td>\n",
       "      <td>16:50</td>\n",
       "      <td>2h 55m</td>\n",
       "      <td>59.61</td>\n",
       "      <td>5</td>\n",
       "      <td>6883</td>\n",
       "    </tr>\n",
       "  </tbody>\n",
       "</table>\n",
       "</div>"
      ],
      "text/plain": [
       "     taken date date of departure  no.of_days_left Airline Aeroplane_ID  \\\n",
       "3001   1/8/2020          1/9/2020                1  Vistra       UK 811   \n",
       "3002   1/8/2020          1/9/2020                1  Vistra       UK 815   \n",
       "3003   1/8/2020          1/9/2020                1  Vistra       UK 817   \n",
       "3004   1/8/2020          1/9/2020                1  Vistra       UK 813   \n",
       "3005   1/8/2020          1/9/2020                1  Vistra       UK 819   \n",
       "\n",
       "         source destination Dep_Time Arrival_Time Duration  Cruidoilprice  \\\n",
       "3001  New Delhi   Bengaluru     6:20         9:05   2h 45m          59.61   \n",
       "3002  New Delhi   Bengaluru     7:55        10:45   2h 50m          59.61   \n",
       "3003  New Delhi   Bengaluru    16:05        18:50   2h 45m          59.61   \n",
       "3004  New Delhi   Bengaluru    17:35        20:25   2h 50m          59.61   \n",
       "3005  New Delhi   Bengaluru    13:55        16:50   2h 55m          59.61   \n",
       "\n",
       "      no_of_competitors on root  price   \n",
       "3001                          5    6883  \n",
       "3002                          5    9178  \n",
       "3003                          5    8653  \n",
       "3004                          5    7918  \n",
       "3005                          5    6883  "
      ]
     },
     "execution_count": 4,
     "metadata": {},
     "output_type": "execute_result"
    }
   ],
   "source": [
    "df.tail()"
   ]
  },
  {
   "cell_type": "code",
   "execution_count": 5,
   "metadata": {},
   "outputs": [
    {
     "data": {
      "text/plain": [
       "Index(['taken date', 'date of departure', 'no.of_days_left', 'Airline',\n",
       "       'Aeroplane_ID', 'source', 'destination', 'Dep_Time', 'Arrival_Time',\n",
       "       'Duration', 'Cruidoilprice', 'no_of_competitors on root', 'price '],\n",
       "      dtype='object')"
      ]
     },
     "execution_count": 5,
     "metadata": {},
     "output_type": "execute_result"
    }
   ],
   "source": [
    "df.columns"
   ]
  },
  {
   "cell_type": "code",
   "execution_count": 6,
   "metadata": {},
   "outputs": [],
   "source": [
    "df.drop(labels='date of departure',axis=1,inplace=True)\n"
   ]
  },
  {
   "cell_type": "code",
   "execution_count": 7,
   "metadata": {},
   "outputs": [],
   "source": [
    "df.drop(labels='source',axis=1,inplace=True)\n",
    "df.drop(labels='destination',axis=1,inplace=True)"
   ]
  },
  {
   "cell_type": "code",
   "execution_count": 8,
   "metadata": {},
   "outputs": [
    {
     "data": {
      "text/html": [
       "<div>\n",
       "<style scoped>\n",
       "    .dataframe tbody tr th:only-of-type {\n",
       "        vertical-align: middle;\n",
       "    }\n",
       "\n",
       "    .dataframe tbody tr th {\n",
       "        vertical-align: top;\n",
       "    }\n",
       "\n",
       "    .dataframe thead th {\n",
       "        text-align: right;\n",
       "    }\n",
       "</style>\n",
       "<table border=\"1\" class=\"dataframe\">\n",
       "  <thead>\n",
       "    <tr style=\"text-align: right;\">\n",
       "      <th></th>\n",
       "      <th>taken date</th>\n",
       "      <th>no.of_days_left</th>\n",
       "      <th>Airline</th>\n",
       "      <th>Aeroplane_ID</th>\n",
       "      <th>Dep_Time</th>\n",
       "      <th>Arrival_Time</th>\n",
       "      <th>Duration</th>\n",
       "      <th>Cruidoilprice</th>\n",
       "      <th>no_of_competitors on root</th>\n",
       "      <th>price</th>\n",
       "    </tr>\n",
       "  </thead>\n",
       "  <tbody>\n",
       "    <tr>\n",
       "      <th>0</th>\n",
       "      <td>11/1/2019</td>\n",
       "      <td>69</td>\n",
       "      <td>SpiceJet Ltd</td>\n",
       "      <td>SG 191</td>\n",
       "      <td>6:20</td>\n",
       "      <td>9:00</td>\n",
       "      <td>2h 40 m</td>\n",
       "      <td>56.2</td>\n",
       "      <td>5</td>\n",
       "      <td>3732</td>\n",
       "    </tr>\n",
       "    <tr>\n",
       "      <th>1</th>\n",
       "      <td>11/1/2019</td>\n",
       "      <td>69</td>\n",
       "      <td>SpiceJet Ltd</td>\n",
       "      <td>SG 197</td>\n",
       "      <td>16:35</td>\n",
       "      <td>19:25</td>\n",
       "      <td>2h 50m</td>\n",
       "      <td>56.2</td>\n",
       "      <td>5</td>\n",
       "      <td>3732</td>\n",
       "    </tr>\n",
       "    <tr>\n",
       "      <th>2</th>\n",
       "      <td>11/1/2019</td>\n",
       "      <td>69</td>\n",
       "      <td>SpiceJet Ltd</td>\n",
       "      <td>SG 8719</td>\n",
       "      <td>18:25</td>\n",
       "      <td>21:15</td>\n",
       "      <td>2h 50m</td>\n",
       "      <td>56.2</td>\n",
       "      <td>5</td>\n",
       "      <td>3732</td>\n",
       "    </tr>\n",
       "    <tr>\n",
       "      <th>3</th>\n",
       "      <td>11/1/2019</td>\n",
       "      <td>69</td>\n",
       "      <td>SpiceJet Ltd</td>\n",
       "      <td>SG 8905</td>\n",
       "      <td>19:55</td>\n",
       "      <td>22:55</td>\n",
       "      <td>2h 30m</td>\n",
       "      <td>56.2</td>\n",
       "      <td>5</td>\n",
       "      <td>3732</td>\n",
       "    </tr>\n",
       "    <tr>\n",
       "      <th>4</th>\n",
       "      <td>11/1/2019</td>\n",
       "      <td>69</td>\n",
       "      <td>SpiceJet Ltd</td>\n",
       "      <td>SG 143</td>\n",
       "      <td>21:45</td>\n",
       "      <td>0:25</td>\n",
       "      <td>2h 40 m</td>\n",
       "      <td>56.2</td>\n",
       "      <td>5</td>\n",
       "      <td>4157</td>\n",
       "    </tr>\n",
       "  </tbody>\n",
       "</table>\n",
       "</div>"
      ],
      "text/plain": [
       "  taken date  no.of_days_left       Airline Aeroplane_ID Dep_Time  \\\n",
       "0  11/1/2019               69  SpiceJet Ltd       SG 191     6:20   \n",
       "1  11/1/2019               69  SpiceJet Ltd       SG 197    16:35   \n",
       "2  11/1/2019               69  SpiceJet Ltd      SG 8719    18:25   \n",
       "3  11/1/2019               69  SpiceJet Ltd      SG 8905    19:55   \n",
       "4  11/1/2019               69  SpiceJet Ltd       SG 143    21:45   \n",
       "\n",
       "  Arrival_Time Duration  Cruidoilprice  no_of_competitors on root  price   \n",
       "0         9:00  2h 40 m           56.2                          5    3732  \n",
       "1        19:25   2h 50m           56.2                          5    3732  \n",
       "2        21:15   2h 50m           56.2                          5    3732  \n",
       "3        22:55   2h 30m           56.2                          5    3732  \n",
       "4         0:25  2h 40 m           56.2                          5    4157  "
      ]
     },
     "execution_count": 8,
     "metadata": {},
     "output_type": "execute_result"
    }
   ],
   "source": [
    "df.head()"
   ]
  },
  {
   "cell_type": "code",
   "execution_count": 9,
   "metadata": {},
   "outputs": [],
   "source": [
    "df['taken date']=pd.to_datetime(df['taken date'])"
   ]
  },
  {
   "cell_type": "code",
   "execution_count": 10,
   "metadata": {},
   "outputs": [
    {
     "data": {
      "text/html": [
       "<div>\n",
       "<style scoped>\n",
       "    .dataframe tbody tr th:only-of-type {\n",
       "        vertical-align: middle;\n",
       "    }\n",
       "\n",
       "    .dataframe tbody tr th {\n",
       "        vertical-align: top;\n",
       "    }\n",
       "\n",
       "    .dataframe thead th {\n",
       "        text-align: right;\n",
       "    }\n",
       "</style>\n",
       "<table border=\"1\" class=\"dataframe\">\n",
       "  <thead>\n",
       "    <tr style=\"text-align: right;\">\n",
       "      <th></th>\n",
       "      <th>taken date</th>\n",
       "      <th>no.of_days_left</th>\n",
       "      <th>Airline</th>\n",
       "      <th>Aeroplane_ID</th>\n",
       "      <th>Dep_Time</th>\n",
       "      <th>Arrival_Time</th>\n",
       "      <th>Duration</th>\n",
       "      <th>Cruidoilprice</th>\n",
       "      <th>no_of_competitors on root</th>\n",
       "      <th>price</th>\n",
       "    </tr>\n",
       "  </thead>\n",
       "  <tbody>\n",
       "    <tr>\n",
       "      <th>0</th>\n",
       "      <td>2019-11-01</td>\n",
       "      <td>69</td>\n",
       "      <td>SpiceJet Ltd</td>\n",
       "      <td>SG 191</td>\n",
       "      <td>6:20</td>\n",
       "      <td>9:00</td>\n",
       "      <td>2h 40 m</td>\n",
       "      <td>56.2</td>\n",
       "      <td>5</td>\n",
       "      <td>3732</td>\n",
       "    </tr>\n",
       "    <tr>\n",
       "      <th>1</th>\n",
       "      <td>2019-11-01</td>\n",
       "      <td>69</td>\n",
       "      <td>SpiceJet Ltd</td>\n",
       "      <td>SG 197</td>\n",
       "      <td>16:35</td>\n",
       "      <td>19:25</td>\n",
       "      <td>2h 50m</td>\n",
       "      <td>56.2</td>\n",
       "      <td>5</td>\n",
       "      <td>3732</td>\n",
       "    </tr>\n",
       "    <tr>\n",
       "      <th>2</th>\n",
       "      <td>2019-11-01</td>\n",
       "      <td>69</td>\n",
       "      <td>SpiceJet Ltd</td>\n",
       "      <td>SG 8719</td>\n",
       "      <td>18:25</td>\n",
       "      <td>21:15</td>\n",
       "      <td>2h 50m</td>\n",
       "      <td>56.2</td>\n",
       "      <td>5</td>\n",
       "      <td>3732</td>\n",
       "    </tr>\n",
       "    <tr>\n",
       "      <th>3</th>\n",
       "      <td>2019-11-01</td>\n",
       "      <td>69</td>\n",
       "      <td>SpiceJet Ltd</td>\n",
       "      <td>SG 8905</td>\n",
       "      <td>19:55</td>\n",
       "      <td>22:55</td>\n",
       "      <td>2h 30m</td>\n",
       "      <td>56.2</td>\n",
       "      <td>5</td>\n",
       "      <td>3732</td>\n",
       "    </tr>\n",
       "    <tr>\n",
       "      <th>4</th>\n",
       "      <td>2019-11-01</td>\n",
       "      <td>69</td>\n",
       "      <td>SpiceJet Ltd</td>\n",
       "      <td>SG 143</td>\n",
       "      <td>21:45</td>\n",
       "      <td>0:25</td>\n",
       "      <td>2h 40 m</td>\n",
       "      <td>56.2</td>\n",
       "      <td>5</td>\n",
       "      <td>4157</td>\n",
       "    </tr>\n",
       "  </tbody>\n",
       "</table>\n",
       "</div>"
      ],
      "text/plain": [
       "  taken date  no.of_days_left       Airline Aeroplane_ID Dep_Time  \\\n",
       "0 2019-11-01               69  SpiceJet Ltd       SG 191     6:20   \n",
       "1 2019-11-01               69  SpiceJet Ltd       SG 197    16:35   \n",
       "2 2019-11-01               69  SpiceJet Ltd      SG 8719    18:25   \n",
       "3 2019-11-01               69  SpiceJet Ltd      SG 8905    19:55   \n",
       "4 2019-11-01               69  SpiceJet Ltd       SG 143    21:45   \n",
       "\n",
       "  Arrival_Time Duration  Cruidoilprice  no_of_competitors on root  price   \n",
       "0         9:00  2h 40 m           56.2                          5    3732  \n",
       "1        19:25   2h 50m           56.2                          5    3732  \n",
       "2        21:15   2h 50m           56.2                          5    3732  \n",
       "3        22:55   2h 30m           56.2                          5    3732  \n",
       "4         0:25  2h 40 m           56.2                          5    4157  "
      ]
     },
     "execution_count": 10,
     "metadata": {},
     "output_type": "execute_result"
    }
   ],
   "source": [
    "df.head()"
   ]
  },
  {
   "cell_type": "code",
   "execution_count": 11,
   "metadata": {},
   "outputs": [],
   "source": [
    "df['month']=df['taken date'].dt.month"
   ]
  },
  {
   "cell_type": "code",
   "execution_count": 12,
   "metadata": {},
   "outputs": [],
   "source": [
    "df['day']=df['taken date'].dt.day"
   ]
  },
  {
   "cell_type": "code",
   "execution_count": 13,
   "metadata": {},
   "outputs": [
    {
     "data": {
      "text/html": [
       "<div>\n",
       "<style scoped>\n",
       "    .dataframe tbody tr th:only-of-type {\n",
       "        vertical-align: middle;\n",
       "    }\n",
       "\n",
       "    .dataframe tbody tr th {\n",
       "        vertical-align: top;\n",
       "    }\n",
       "\n",
       "    .dataframe thead th {\n",
       "        text-align: right;\n",
       "    }\n",
       "</style>\n",
       "<table border=\"1\" class=\"dataframe\">\n",
       "  <thead>\n",
       "    <tr style=\"text-align: right;\">\n",
       "      <th></th>\n",
       "      <th>taken date</th>\n",
       "      <th>no.of_days_left</th>\n",
       "      <th>Airline</th>\n",
       "      <th>Aeroplane_ID</th>\n",
       "      <th>Dep_Time</th>\n",
       "      <th>Arrival_Time</th>\n",
       "      <th>Duration</th>\n",
       "      <th>Cruidoilprice</th>\n",
       "      <th>no_of_competitors on root</th>\n",
       "      <th>price</th>\n",
       "      <th>month</th>\n",
       "      <th>day</th>\n",
       "    </tr>\n",
       "  </thead>\n",
       "  <tbody>\n",
       "    <tr>\n",
       "      <th>0</th>\n",
       "      <td>2019-11-01</td>\n",
       "      <td>69</td>\n",
       "      <td>SpiceJet Ltd</td>\n",
       "      <td>SG 191</td>\n",
       "      <td>6:20</td>\n",
       "      <td>9:00</td>\n",
       "      <td>2h 40 m</td>\n",
       "      <td>56.2</td>\n",
       "      <td>5</td>\n",
       "      <td>3732</td>\n",
       "      <td>11</td>\n",
       "      <td>1</td>\n",
       "    </tr>\n",
       "    <tr>\n",
       "      <th>1</th>\n",
       "      <td>2019-11-01</td>\n",
       "      <td>69</td>\n",
       "      <td>SpiceJet Ltd</td>\n",
       "      <td>SG 197</td>\n",
       "      <td>16:35</td>\n",
       "      <td>19:25</td>\n",
       "      <td>2h 50m</td>\n",
       "      <td>56.2</td>\n",
       "      <td>5</td>\n",
       "      <td>3732</td>\n",
       "      <td>11</td>\n",
       "      <td>1</td>\n",
       "    </tr>\n",
       "    <tr>\n",
       "      <th>2</th>\n",
       "      <td>2019-11-01</td>\n",
       "      <td>69</td>\n",
       "      <td>SpiceJet Ltd</td>\n",
       "      <td>SG 8719</td>\n",
       "      <td>18:25</td>\n",
       "      <td>21:15</td>\n",
       "      <td>2h 50m</td>\n",
       "      <td>56.2</td>\n",
       "      <td>5</td>\n",
       "      <td>3732</td>\n",
       "      <td>11</td>\n",
       "      <td>1</td>\n",
       "    </tr>\n",
       "    <tr>\n",
       "      <th>3</th>\n",
       "      <td>2019-11-01</td>\n",
       "      <td>69</td>\n",
       "      <td>SpiceJet Ltd</td>\n",
       "      <td>SG 8905</td>\n",
       "      <td>19:55</td>\n",
       "      <td>22:55</td>\n",
       "      <td>2h 30m</td>\n",
       "      <td>56.2</td>\n",
       "      <td>5</td>\n",
       "      <td>3732</td>\n",
       "      <td>11</td>\n",
       "      <td>1</td>\n",
       "    </tr>\n",
       "    <tr>\n",
       "      <th>4</th>\n",
       "      <td>2019-11-01</td>\n",
       "      <td>69</td>\n",
       "      <td>SpiceJet Ltd</td>\n",
       "      <td>SG 143</td>\n",
       "      <td>21:45</td>\n",
       "      <td>0:25</td>\n",
       "      <td>2h 40 m</td>\n",
       "      <td>56.2</td>\n",
       "      <td>5</td>\n",
       "      <td>4157</td>\n",
       "      <td>11</td>\n",
       "      <td>1</td>\n",
       "    </tr>\n",
       "  </tbody>\n",
       "</table>\n",
       "</div>"
      ],
      "text/plain": [
       "  taken date  no.of_days_left       Airline Aeroplane_ID Dep_Time  \\\n",
       "0 2019-11-01               69  SpiceJet Ltd       SG 191     6:20   \n",
       "1 2019-11-01               69  SpiceJet Ltd       SG 197    16:35   \n",
       "2 2019-11-01               69  SpiceJet Ltd      SG 8719    18:25   \n",
       "3 2019-11-01               69  SpiceJet Ltd      SG 8905    19:55   \n",
       "4 2019-11-01               69  SpiceJet Ltd       SG 143    21:45   \n",
       "\n",
       "  Arrival_Time Duration  Cruidoilprice  no_of_competitors on root  price   \\\n",
       "0         9:00  2h 40 m           56.2                          5    3732   \n",
       "1        19:25   2h 50m           56.2                          5    3732   \n",
       "2        21:15   2h 50m           56.2                          5    3732   \n",
       "3        22:55   2h 30m           56.2                          5    3732   \n",
       "4         0:25  2h 40 m           56.2                          5    4157   \n",
       "\n",
       "   month  day  \n",
       "0     11    1  \n",
       "1     11    1  \n",
       "2     11    1  \n",
       "3     11    1  \n",
       "4     11    1  "
      ]
     },
     "execution_count": 13,
     "metadata": {},
     "output_type": "execute_result"
    }
   ],
   "source": [
    "df.head()"
   ]
  },
  {
   "cell_type": "code",
   "execution_count": 14,
   "metadata": {},
   "outputs": [],
   "source": [
    "#df.drop(labels='taken date',axis=1,inplace=True)"
   ]
  },
  {
   "cell_type": "code",
   "execution_count": 15,
   "metadata": {},
   "outputs": [],
   "source": [
    "#df.drop(labels='date',axis=1,inplace=True)"
   ]
  },
  {
   "cell_type": "code",
   "execution_count": 16,
   "metadata": {},
   "outputs": [
    {
     "data": {
      "text/html": [
       "<div>\n",
       "<style scoped>\n",
       "    .dataframe tbody tr th:only-of-type {\n",
       "        vertical-align: middle;\n",
       "    }\n",
       "\n",
       "    .dataframe tbody tr th {\n",
       "        vertical-align: top;\n",
       "    }\n",
       "\n",
       "    .dataframe thead th {\n",
       "        text-align: right;\n",
       "    }\n",
       "</style>\n",
       "<table border=\"1\" class=\"dataframe\">\n",
       "  <thead>\n",
       "    <tr style=\"text-align: right;\">\n",
       "      <th></th>\n",
       "      <th>taken date</th>\n",
       "      <th>no.of_days_left</th>\n",
       "      <th>Airline</th>\n",
       "      <th>Aeroplane_ID</th>\n",
       "      <th>Dep_Time</th>\n",
       "      <th>Arrival_Time</th>\n",
       "      <th>Duration</th>\n",
       "      <th>Cruidoilprice</th>\n",
       "      <th>no_of_competitors on root</th>\n",
       "      <th>price</th>\n",
       "      <th>month</th>\n",
       "      <th>day</th>\n",
       "    </tr>\n",
       "  </thead>\n",
       "  <tbody>\n",
       "    <tr>\n",
       "      <th>2906</th>\n",
       "      <td>2020-01-06</td>\n",
       "      <td>3</td>\n",
       "      <td>GoAirline</td>\n",
       "      <td>G8 113</td>\n",
       "      <td>5:50</td>\n",
       "      <td>8:40</td>\n",
       "      <td>2h 50m</td>\n",
       "      <td>63.27</td>\n",
       "      <td>5</td>\n",
       "      <td>7299</td>\n",
       "      <td>1</td>\n",
       "      <td>6</td>\n",
       "    </tr>\n",
       "    <tr>\n",
       "      <th>2907</th>\n",
       "      <td>2020-01-06</td>\n",
       "      <td>3</td>\n",
       "      <td>GoAirline</td>\n",
       "      <td>G8 124</td>\n",
       "      <td>15:20</td>\n",
       "      <td>18:05</td>\n",
       "      <td>2h 45m</td>\n",
       "      <td>63.27</td>\n",
       "      <td>5</td>\n",
       "      <td>7299</td>\n",
       "      <td>1</td>\n",
       "      <td>6</td>\n",
       "    </tr>\n",
       "    <tr>\n",
       "      <th>2908</th>\n",
       "      <td>2020-01-06</td>\n",
       "      <td>3</td>\n",
       "      <td>GoAirline</td>\n",
       "      <td>G8 404</td>\n",
       "      <td>10:30</td>\n",
       "      <td>14:40</td>\n",
       "      <td>2h 55m</td>\n",
       "      <td>63.27</td>\n",
       "      <td>5</td>\n",
       "      <td>5722</td>\n",
       "      <td>1</td>\n",
       "      <td>6</td>\n",
       "    </tr>\n",
       "    <tr>\n",
       "      <th>2909</th>\n",
       "      <td>2020-01-06</td>\n",
       "      <td>3</td>\n",
       "      <td>GoAirline</td>\n",
       "      <td>G8 557</td>\n",
       "      <td>18:40</td>\n",
       "      <td>21:35</td>\n",
       "      <td>2h 55m</td>\n",
       "      <td>63.27</td>\n",
       "      <td>5</td>\n",
       "      <td>7502</td>\n",
       "      <td>1</td>\n",
       "      <td>6</td>\n",
       "    </tr>\n",
       "    <tr>\n",
       "      <th>2910</th>\n",
       "      <td>2020-01-06</td>\n",
       "      <td>3</td>\n",
       "      <td>GoAirline</td>\n",
       "      <td>G8 286</td>\n",
       "      <td>10:45</td>\n",
       "      <td>15:10</td>\n",
       "      <td>4h 25m</td>\n",
       "      <td>63.27</td>\n",
       "      <td>5</td>\n",
       "      <td>5722</td>\n",
       "      <td>1</td>\n",
       "      <td>6</td>\n",
       "    </tr>\n",
       "    <tr>\n",
       "      <th>...</th>\n",
       "      <td>...</td>\n",
       "      <td>...</td>\n",
       "      <td>...</td>\n",
       "      <td>...</td>\n",
       "      <td>...</td>\n",
       "      <td>...</td>\n",
       "      <td>...</td>\n",
       "      <td>...</td>\n",
       "      <td>...</td>\n",
       "      <td>...</td>\n",
       "      <td>...</td>\n",
       "      <td>...</td>\n",
       "    </tr>\n",
       "    <tr>\n",
       "      <th>3001</th>\n",
       "      <td>2020-01-08</td>\n",
       "      <td>1</td>\n",
       "      <td>Vistra</td>\n",
       "      <td>UK 811</td>\n",
       "      <td>6:20</td>\n",
       "      <td>9:05</td>\n",
       "      <td>2h 45m</td>\n",
       "      <td>59.61</td>\n",
       "      <td>5</td>\n",
       "      <td>6883</td>\n",
       "      <td>1</td>\n",
       "      <td>8</td>\n",
       "    </tr>\n",
       "    <tr>\n",
       "      <th>3002</th>\n",
       "      <td>2020-01-08</td>\n",
       "      <td>1</td>\n",
       "      <td>Vistra</td>\n",
       "      <td>UK 815</td>\n",
       "      <td>7:55</td>\n",
       "      <td>10:45</td>\n",
       "      <td>2h 50m</td>\n",
       "      <td>59.61</td>\n",
       "      <td>5</td>\n",
       "      <td>9178</td>\n",
       "      <td>1</td>\n",
       "      <td>8</td>\n",
       "    </tr>\n",
       "    <tr>\n",
       "      <th>3003</th>\n",
       "      <td>2020-01-08</td>\n",
       "      <td>1</td>\n",
       "      <td>Vistra</td>\n",
       "      <td>UK 817</td>\n",
       "      <td>16:05</td>\n",
       "      <td>18:50</td>\n",
       "      <td>2h 45m</td>\n",
       "      <td>59.61</td>\n",
       "      <td>5</td>\n",
       "      <td>8653</td>\n",
       "      <td>1</td>\n",
       "      <td>8</td>\n",
       "    </tr>\n",
       "    <tr>\n",
       "      <th>3004</th>\n",
       "      <td>2020-01-08</td>\n",
       "      <td>1</td>\n",
       "      <td>Vistra</td>\n",
       "      <td>UK 813</td>\n",
       "      <td>17:35</td>\n",
       "      <td>20:25</td>\n",
       "      <td>2h 50m</td>\n",
       "      <td>59.61</td>\n",
       "      <td>5</td>\n",
       "      <td>7918</td>\n",
       "      <td>1</td>\n",
       "      <td>8</td>\n",
       "    </tr>\n",
       "    <tr>\n",
       "      <th>3005</th>\n",
       "      <td>2020-01-08</td>\n",
       "      <td>1</td>\n",
       "      <td>Vistra</td>\n",
       "      <td>UK 819</td>\n",
       "      <td>13:55</td>\n",
       "      <td>16:50</td>\n",
       "      <td>2h 55m</td>\n",
       "      <td>59.61</td>\n",
       "      <td>5</td>\n",
       "      <td>6883</td>\n",
       "      <td>1</td>\n",
       "      <td>8</td>\n",
       "    </tr>\n",
       "  </tbody>\n",
       "</table>\n",
       "<p>100 rows × 12 columns</p>\n",
       "</div>"
      ],
      "text/plain": [
       "     taken date  no.of_days_left    Airline Aeroplane_ID Dep_Time  \\\n",
       "2906 2020-01-06                3  GoAirline       G8 113     5:50   \n",
       "2907 2020-01-06                3  GoAirline       G8 124    15:20   \n",
       "2908 2020-01-06                3  GoAirline       G8 404    10:30   \n",
       "2909 2020-01-06                3  GoAirline       G8 557    18:40   \n",
       "2910 2020-01-06                3  GoAirline       G8 286    10:45   \n",
       "...         ...              ...        ...          ...      ...   \n",
       "3001 2020-01-08                1     Vistra       UK 811     6:20   \n",
       "3002 2020-01-08                1     Vistra       UK 815     7:55   \n",
       "3003 2020-01-08                1     Vistra       UK 817    16:05   \n",
       "3004 2020-01-08                1     Vistra       UK 813    17:35   \n",
       "3005 2020-01-08                1     Vistra       UK 819    13:55   \n",
       "\n",
       "     Arrival_Time Duration  Cruidoilprice  no_of_competitors on root  price   \\\n",
       "2906         8:40   2h 50m          63.27                          5    7299   \n",
       "2907        18:05   2h 45m          63.27                          5    7299   \n",
       "2908        14:40   2h 55m          63.27                          5    5722   \n",
       "2909        21:35   2h 55m          63.27                          5    7502   \n",
       "2910        15:10   4h 25m          63.27                          5    5722   \n",
       "...           ...      ...            ...                        ...     ...   \n",
       "3001         9:05   2h 45m          59.61                          5    6883   \n",
       "3002        10:45   2h 50m          59.61                          5    9178   \n",
       "3003        18:50   2h 45m          59.61                          5    8653   \n",
       "3004        20:25   2h 50m          59.61                          5    7918   \n",
       "3005        16:50   2h 55m          59.61                          5    6883   \n",
       "\n",
       "      month  day  \n",
       "2906      1    6  \n",
       "2907      1    6  \n",
       "2908      1    6  \n",
       "2909      1    6  \n",
       "2910      1    6  \n",
       "...     ...  ...  \n",
       "3001      1    8  \n",
       "3002      1    8  \n",
       "3003      1    8  \n",
       "3004      1    8  \n",
       "3005      1    8  \n",
       "\n",
       "[100 rows x 12 columns]"
      ]
     },
     "execution_count": 16,
     "metadata": {},
     "output_type": "execute_result"
    }
   ],
   "source": [
    "df.tail(100)"
   ]
  },
  {
   "cell_type": "code",
   "execution_count": 17,
   "metadata": {},
   "outputs": [
    {
     "data": {
      "text/plain": [
       "array([11, 12,  1], dtype=int64)"
      ]
     },
     "execution_count": 17,
     "metadata": {},
     "output_type": "execute_result"
    }
   ],
   "source": [
    "df.month.unique()"
   ]
  },
  {
   "cell_type": "code",
   "execution_count": 18,
   "metadata": {},
   "outputs": [
    {
     "data": {
      "text/plain": [
       "array([ 1,  2,  3,  4,  5,  6,  7,  8,  9, 10, 11, 12, 13, 14, 15, 16, 17,\n",
       "       18, 19, 20, 21, 22, 23, 24, 25, 26, 27, 28, 29, 30, 31],\n",
       "      dtype=int64)"
      ]
     },
     "execution_count": 18,
     "metadata": {},
     "output_type": "execute_result"
    }
   ],
   "source": [
    "df.day.unique()"
   ]
  },
  {
   "cell_type": "code",
   "execution_count": 19,
   "metadata": {},
   "outputs": [],
   "source": [
    "\n",
    "df['isWEEKDAY'] = ((pd.to_datetime(df['taken date']).dt.dayofweek)//5==1).astype(int)"
   ]
  },
  {
   "cell_type": "code",
   "execution_count": 20,
   "metadata": {},
   "outputs": [
    {
     "data": {
      "text/html": [
       "<div>\n",
       "<style scoped>\n",
       "    .dataframe tbody tr th:only-of-type {\n",
       "        vertical-align: middle;\n",
       "    }\n",
       "\n",
       "    .dataframe tbody tr th {\n",
       "        vertical-align: top;\n",
       "    }\n",
       "\n",
       "    .dataframe thead th {\n",
       "        text-align: right;\n",
       "    }\n",
       "</style>\n",
       "<table border=\"1\" class=\"dataframe\">\n",
       "  <thead>\n",
       "    <tr style=\"text-align: right;\">\n",
       "      <th></th>\n",
       "      <th>taken date</th>\n",
       "      <th>no.of_days_left</th>\n",
       "      <th>Airline</th>\n",
       "      <th>Aeroplane_ID</th>\n",
       "      <th>Dep_Time</th>\n",
       "      <th>Arrival_Time</th>\n",
       "      <th>Duration</th>\n",
       "      <th>Cruidoilprice</th>\n",
       "      <th>no_of_competitors on root</th>\n",
       "      <th>price</th>\n",
       "      <th>month</th>\n",
       "      <th>day</th>\n",
       "      <th>isWEEKDAY</th>\n",
       "    </tr>\n",
       "  </thead>\n",
       "  <tbody>\n",
       "    <tr>\n",
       "      <th>0</th>\n",
       "      <td>2019-11-01</td>\n",
       "      <td>69</td>\n",
       "      <td>SpiceJet Ltd</td>\n",
       "      <td>SG 191</td>\n",
       "      <td>6:20</td>\n",
       "      <td>9:00</td>\n",
       "      <td>2h 40 m</td>\n",
       "      <td>56.2</td>\n",
       "      <td>5</td>\n",
       "      <td>3732</td>\n",
       "      <td>11</td>\n",
       "      <td>1</td>\n",
       "      <td>0</td>\n",
       "    </tr>\n",
       "    <tr>\n",
       "      <th>1</th>\n",
       "      <td>2019-11-01</td>\n",
       "      <td>69</td>\n",
       "      <td>SpiceJet Ltd</td>\n",
       "      <td>SG 197</td>\n",
       "      <td>16:35</td>\n",
       "      <td>19:25</td>\n",
       "      <td>2h 50m</td>\n",
       "      <td>56.2</td>\n",
       "      <td>5</td>\n",
       "      <td>3732</td>\n",
       "      <td>11</td>\n",
       "      <td>1</td>\n",
       "      <td>0</td>\n",
       "    </tr>\n",
       "    <tr>\n",
       "      <th>2</th>\n",
       "      <td>2019-11-01</td>\n",
       "      <td>69</td>\n",
       "      <td>SpiceJet Ltd</td>\n",
       "      <td>SG 8719</td>\n",
       "      <td>18:25</td>\n",
       "      <td>21:15</td>\n",
       "      <td>2h 50m</td>\n",
       "      <td>56.2</td>\n",
       "      <td>5</td>\n",
       "      <td>3732</td>\n",
       "      <td>11</td>\n",
       "      <td>1</td>\n",
       "      <td>0</td>\n",
       "    </tr>\n",
       "    <tr>\n",
       "      <th>3</th>\n",
       "      <td>2019-11-01</td>\n",
       "      <td>69</td>\n",
       "      <td>SpiceJet Ltd</td>\n",
       "      <td>SG 8905</td>\n",
       "      <td>19:55</td>\n",
       "      <td>22:55</td>\n",
       "      <td>2h 30m</td>\n",
       "      <td>56.2</td>\n",
       "      <td>5</td>\n",
       "      <td>3732</td>\n",
       "      <td>11</td>\n",
       "      <td>1</td>\n",
       "      <td>0</td>\n",
       "    </tr>\n",
       "    <tr>\n",
       "      <th>4</th>\n",
       "      <td>2019-11-01</td>\n",
       "      <td>69</td>\n",
       "      <td>SpiceJet Ltd</td>\n",
       "      <td>SG 143</td>\n",
       "      <td>21:45</td>\n",
       "      <td>0:25</td>\n",
       "      <td>2h 40 m</td>\n",
       "      <td>56.2</td>\n",
       "      <td>5</td>\n",
       "      <td>4157</td>\n",
       "      <td>11</td>\n",
       "      <td>1</td>\n",
       "      <td>0</td>\n",
       "    </tr>\n",
       "  </tbody>\n",
       "</table>\n",
       "</div>"
      ],
      "text/plain": [
       "  taken date  no.of_days_left       Airline Aeroplane_ID Dep_Time  \\\n",
       "0 2019-11-01               69  SpiceJet Ltd       SG 191     6:20   \n",
       "1 2019-11-01               69  SpiceJet Ltd       SG 197    16:35   \n",
       "2 2019-11-01               69  SpiceJet Ltd      SG 8719    18:25   \n",
       "3 2019-11-01               69  SpiceJet Ltd      SG 8905    19:55   \n",
       "4 2019-11-01               69  SpiceJet Ltd       SG 143    21:45   \n",
       "\n",
       "  Arrival_Time Duration  Cruidoilprice  no_of_competitors on root  price   \\\n",
       "0         9:00  2h 40 m           56.2                          5    3732   \n",
       "1        19:25   2h 50m           56.2                          5    3732   \n",
       "2        21:15   2h 50m           56.2                          5    3732   \n",
       "3        22:55   2h 30m           56.2                          5    3732   \n",
       "4         0:25  2h 40 m           56.2                          5    4157   \n",
       "\n",
       "   month  day  isWEEKDAY  \n",
       "0     11    1          0  \n",
       "1     11    1          0  \n",
       "2     11    1          0  \n",
       "3     11    1          0  \n",
       "4     11    1          0  "
      ]
     },
     "execution_count": 20,
     "metadata": {},
     "output_type": "execute_result"
    }
   ],
   "source": [
    "df.head()"
   ]
  },
  {
   "cell_type": "code",
   "execution_count": 21,
   "metadata": {},
   "outputs": [
    {
     "data": {
      "text/html": [
       "<div>\n",
       "<style scoped>\n",
       "    .dataframe tbody tr th:only-of-type {\n",
       "        vertical-align: middle;\n",
       "    }\n",
       "\n",
       "    .dataframe tbody tr th {\n",
       "        vertical-align: top;\n",
       "    }\n",
       "\n",
       "    .dataframe thead th {\n",
       "        text-align: right;\n",
       "    }\n",
       "</style>\n",
       "<table border=\"1\" class=\"dataframe\">\n",
       "  <thead>\n",
       "    <tr style=\"text-align: right;\">\n",
       "      <th></th>\n",
       "      <th>taken date</th>\n",
       "      <th>no.of_days_left</th>\n",
       "      <th>Airline</th>\n",
       "      <th>Aeroplane_ID</th>\n",
       "      <th>Dep_Time</th>\n",
       "      <th>Arrival_Time</th>\n",
       "      <th>Duration</th>\n",
       "      <th>Cruidoilprice</th>\n",
       "      <th>no_of_competitors on root</th>\n",
       "      <th>price</th>\n",
       "      <th>month</th>\n",
       "      <th>day</th>\n",
       "      <th>isWEEKDAY</th>\n",
       "    </tr>\n",
       "  </thead>\n",
       "  <tbody>\n",
       "    <tr>\n",
       "      <th>0</th>\n",
       "      <td>2019-11-01</td>\n",
       "      <td>69</td>\n",
       "      <td>SpiceJet Ltd</td>\n",
       "      <td>SG 191</td>\n",
       "      <td>6:20</td>\n",
       "      <td>9:00</td>\n",
       "      <td>2h 40 m</td>\n",
       "      <td>56.2</td>\n",
       "      <td>5</td>\n",
       "      <td>3732</td>\n",
       "      <td>11</td>\n",
       "      <td>1</td>\n",
       "      <td>0</td>\n",
       "    </tr>\n",
       "    <tr>\n",
       "      <th>1</th>\n",
       "      <td>2019-11-01</td>\n",
       "      <td>69</td>\n",
       "      <td>SpiceJet Ltd</td>\n",
       "      <td>SG 197</td>\n",
       "      <td>16:35</td>\n",
       "      <td>19:25</td>\n",
       "      <td>2h 50m</td>\n",
       "      <td>56.2</td>\n",
       "      <td>5</td>\n",
       "      <td>3732</td>\n",
       "      <td>11</td>\n",
       "      <td>1</td>\n",
       "      <td>0</td>\n",
       "    </tr>\n",
       "    <tr>\n",
       "      <th>2</th>\n",
       "      <td>2019-11-01</td>\n",
       "      <td>69</td>\n",
       "      <td>SpiceJet Ltd</td>\n",
       "      <td>SG 8719</td>\n",
       "      <td>18:25</td>\n",
       "      <td>21:15</td>\n",
       "      <td>2h 50m</td>\n",
       "      <td>56.2</td>\n",
       "      <td>5</td>\n",
       "      <td>3732</td>\n",
       "      <td>11</td>\n",
       "      <td>1</td>\n",
       "      <td>0</td>\n",
       "    </tr>\n",
       "    <tr>\n",
       "      <th>3</th>\n",
       "      <td>2019-11-01</td>\n",
       "      <td>69</td>\n",
       "      <td>SpiceJet Ltd</td>\n",
       "      <td>SG 8905</td>\n",
       "      <td>19:55</td>\n",
       "      <td>22:55</td>\n",
       "      <td>2h 30m</td>\n",
       "      <td>56.2</td>\n",
       "      <td>5</td>\n",
       "      <td>3732</td>\n",
       "      <td>11</td>\n",
       "      <td>1</td>\n",
       "      <td>0</td>\n",
       "    </tr>\n",
       "    <tr>\n",
       "      <th>4</th>\n",
       "      <td>2019-11-01</td>\n",
       "      <td>69</td>\n",
       "      <td>SpiceJet Ltd</td>\n",
       "      <td>SG 143</td>\n",
       "      <td>21:45</td>\n",
       "      <td>0:25</td>\n",
       "      <td>2h 40 m</td>\n",
       "      <td>56.2</td>\n",
       "      <td>5</td>\n",
       "      <td>4157</td>\n",
       "      <td>11</td>\n",
       "      <td>1</td>\n",
       "      <td>0</td>\n",
       "    </tr>\n",
       "  </tbody>\n",
       "</table>\n",
       "</div>"
      ],
      "text/plain": [
       "  taken date  no.of_days_left       Airline Aeroplane_ID Dep_Time  \\\n",
       "0 2019-11-01               69  SpiceJet Ltd       SG 191     6:20   \n",
       "1 2019-11-01               69  SpiceJet Ltd       SG 197    16:35   \n",
       "2 2019-11-01               69  SpiceJet Ltd      SG 8719    18:25   \n",
       "3 2019-11-01               69  SpiceJet Ltd      SG 8905    19:55   \n",
       "4 2019-11-01               69  SpiceJet Ltd       SG 143    21:45   \n",
       "\n",
       "  Arrival_Time Duration  Cruidoilprice  no_of_competitors on root  price   \\\n",
       "0         9:00  2h 40 m           56.2                          5    3732   \n",
       "1        19:25   2h 50m           56.2                          5    3732   \n",
       "2        21:15   2h 50m           56.2                          5    3732   \n",
       "3        22:55   2h 30m           56.2                          5    3732   \n",
       "4         0:25  2h 40 m           56.2                          5    4157   \n",
       "\n",
       "   month  day  isWEEKDAY  \n",
       "0     11    1          0  \n",
       "1     11    1          0  \n",
       "2     11    1          0  \n",
       "3     11    1          0  \n",
       "4     11    1          0  "
      ]
     },
     "execution_count": 21,
     "metadata": {},
     "output_type": "execute_result"
    }
   ],
   "source": [
    "df.head()"
   ]
  },
  {
   "cell_type": "code",
   "execution_count": 22,
   "metadata": {},
   "outputs": [],
   "source": [
    "#ecom['CC Exp Date'].apply(lambda x: x[3:]\n",
    "df['Dep_Time_min']=df['Dep_Time'].apply(lambda x:x[-2:])   # seperated minute part from Dep_Time Column"
   ]
  },
  {
   "cell_type": "code",
   "execution_count": 23,
   "metadata": {},
   "outputs": [
    {
     "data": {
      "text/plain": [
       "0    20\n",
       "1    35\n",
       "2    25\n",
       "3    55\n",
       "4    45\n",
       "Name: Dep_Time_min, dtype: object"
      ]
     },
     "execution_count": 23,
     "metadata": {},
     "output_type": "execute_result"
    }
   ],
   "source": [
    "df['Dep_Time_min'].head()"
   ]
  },
  {
   "cell_type": "code",
   "execution_count": 24,
   "metadata": {},
   "outputs": [],
   "source": [
    "df['Dep_Time_hr']=df['Dep_Time'].apply(lambda x: x.split(':')[0])   #Seperated Hour part from Dep_Time Column"
   ]
  },
  {
   "cell_type": "code",
   "execution_count": 25,
   "metadata": {},
   "outputs": [
    {
     "data": {
      "text/plain": [
       "0     6\n",
       "1    16\n",
       "2    18\n",
       "3    19\n",
       "4    21\n",
       "Name: Dep_Time_hr, dtype: object"
      ]
     },
     "execution_count": 25,
     "metadata": {},
     "output_type": "execute_result"
    }
   ],
   "source": [
    "df['Dep_Time_hr'].head()"
   ]
  },
  {
   "cell_type": "code",
   "execution_count": 26,
   "metadata": {},
   "outputs": [],
   "source": [
    "df['Arrival_Time_min']=df['Arrival_Time'].apply(lambda x:x[-2:])"
   ]
  },
  {
   "cell_type": "code",
   "execution_count": 27,
   "metadata": {},
   "outputs": [],
   "source": [
    "df['Arrival_Time_hr']=df['Arrival_Time'].apply(lambda x:x.split(':')[0])"
   ]
  },
  {
   "cell_type": "code",
   "execution_count": 28,
   "metadata": {},
   "outputs": [
    {
     "data": {
      "text/html": [
       "<div>\n",
       "<style scoped>\n",
       "    .dataframe tbody tr th:only-of-type {\n",
       "        vertical-align: middle;\n",
       "    }\n",
       "\n",
       "    .dataframe tbody tr th {\n",
       "        vertical-align: top;\n",
       "    }\n",
       "\n",
       "    .dataframe thead th {\n",
       "        text-align: right;\n",
       "    }\n",
       "</style>\n",
       "<table border=\"1\" class=\"dataframe\">\n",
       "  <thead>\n",
       "    <tr style=\"text-align: right;\">\n",
       "      <th></th>\n",
       "      <th>taken date</th>\n",
       "      <th>no.of_days_left</th>\n",
       "      <th>Airline</th>\n",
       "      <th>Aeroplane_ID</th>\n",
       "      <th>Dep_Time</th>\n",
       "      <th>Arrival_Time</th>\n",
       "      <th>Duration</th>\n",
       "      <th>Cruidoilprice</th>\n",
       "      <th>no_of_competitors on root</th>\n",
       "      <th>price</th>\n",
       "      <th>month</th>\n",
       "      <th>day</th>\n",
       "      <th>isWEEKDAY</th>\n",
       "      <th>Dep_Time_min</th>\n",
       "      <th>Dep_Time_hr</th>\n",
       "      <th>Arrival_Time_min</th>\n",
       "      <th>Arrival_Time_hr</th>\n",
       "    </tr>\n",
       "  </thead>\n",
       "  <tbody>\n",
       "    <tr>\n",
       "      <th>0</th>\n",
       "      <td>2019-11-01</td>\n",
       "      <td>69</td>\n",
       "      <td>SpiceJet Ltd</td>\n",
       "      <td>SG 191</td>\n",
       "      <td>6:20</td>\n",
       "      <td>9:00</td>\n",
       "      <td>2h 40 m</td>\n",
       "      <td>56.2</td>\n",
       "      <td>5</td>\n",
       "      <td>3732</td>\n",
       "      <td>11</td>\n",
       "      <td>1</td>\n",
       "      <td>0</td>\n",
       "      <td>20</td>\n",
       "      <td>6</td>\n",
       "      <td>00</td>\n",
       "      <td>9</td>\n",
       "    </tr>\n",
       "    <tr>\n",
       "      <th>1</th>\n",
       "      <td>2019-11-01</td>\n",
       "      <td>69</td>\n",
       "      <td>SpiceJet Ltd</td>\n",
       "      <td>SG 197</td>\n",
       "      <td>16:35</td>\n",
       "      <td>19:25</td>\n",
       "      <td>2h 50m</td>\n",
       "      <td>56.2</td>\n",
       "      <td>5</td>\n",
       "      <td>3732</td>\n",
       "      <td>11</td>\n",
       "      <td>1</td>\n",
       "      <td>0</td>\n",
       "      <td>35</td>\n",
       "      <td>16</td>\n",
       "      <td>25</td>\n",
       "      <td>19</td>\n",
       "    </tr>\n",
       "    <tr>\n",
       "      <th>2</th>\n",
       "      <td>2019-11-01</td>\n",
       "      <td>69</td>\n",
       "      <td>SpiceJet Ltd</td>\n",
       "      <td>SG 8719</td>\n",
       "      <td>18:25</td>\n",
       "      <td>21:15</td>\n",
       "      <td>2h 50m</td>\n",
       "      <td>56.2</td>\n",
       "      <td>5</td>\n",
       "      <td>3732</td>\n",
       "      <td>11</td>\n",
       "      <td>1</td>\n",
       "      <td>0</td>\n",
       "      <td>25</td>\n",
       "      <td>18</td>\n",
       "      <td>15</td>\n",
       "      <td>21</td>\n",
       "    </tr>\n",
       "    <tr>\n",
       "      <th>3</th>\n",
       "      <td>2019-11-01</td>\n",
       "      <td>69</td>\n",
       "      <td>SpiceJet Ltd</td>\n",
       "      <td>SG 8905</td>\n",
       "      <td>19:55</td>\n",
       "      <td>22:55</td>\n",
       "      <td>2h 30m</td>\n",
       "      <td>56.2</td>\n",
       "      <td>5</td>\n",
       "      <td>3732</td>\n",
       "      <td>11</td>\n",
       "      <td>1</td>\n",
       "      <td>0</td>\n",
       "      <td>55</td>\n",
       "      <td>19</td>\n",
       "      <td>55</td>\n",
       "      <td>22</td>\n",
       "    </tr>\n",
       "    <tr>\n",
       "      <th>4</th>\n",
       "      <td>2019-11-01</td>\n",
       "      <td>69</td>\n",
       "      <td>SpiceJet Ltd</td>\n",
       "      <td>SG 143</td>\n",
       "      <td>21:45</td>\n",
       "      <td>0:25</td>\n",
       "      <td>2h 40 m</td>\n",
       "      <td>56.2</td>\n",
       "      <td>5</td>\n",
       "      <td>4157</td>\n",
       "      <td>11</td>\n",
       "      <td>1</td>\n",
       "      <td>0</td>\n",
       "      <td>45</td>\n",
       "      <td>21</td>\n",
       "      <td>25</td>\n",
       "      <td>0</td>\n",
       "    </tr>\n",
       "  </tbody>\n",
       "</table>\n",
       "</div>"
      ],
      "text/plain": [
       "  taken date  no.of_days_left       Airline Aeroplane_ID Dep_Time  \\\n",
       "0 2019-11-01               69  SpiceJet Ltd       SG 191     6:20   \n",
       "1 2019-11-01               69  SpiceJet Ltd       SG 197    16:35   \n",
       "2 2019-11-01               69  SpiceJet Ltd      SG 8719    18:25   \n",
       "3 2019-11-01               69  SpiceJet Ltd      SG 8905    19:55   \n",
       "4 2019-11-01               69  SpiceJet Ltd       SG 143    21:45   \n",
       "\n",
       "  Arrival_Time Duration  Cruidoilprice  no_of_competitors on root  price   \\\n",
       "0         9:00  2h 40 m           56.2                          5    3732   \n",
       "1        19:25   2h 50m           56.2                          5    3732   \n",
       "2        21:15   2h 50m           56.2                          5    3732   \n",
       "3        22:55   2h 30m           56.2                          5    3732   \n",
       "4         0:25  2h 40 m           56.2                          5    4157   \n",
       "\n",
       "   month  day  isWEEKDAY Dep_Time_min Dep_Time_hr Arrival_Time_min  \\\n",
       "0     11    1          0           20           6               00   \n",
       "1     11    1          0           35          16               25   \n",
       "2     11    1          0           25          18               15   \n",
       "3     11    1          0           55          19               55   \n",
       "4     11    1          0           45          21               25   \n",
       "\n",
       "  Arrival_Time_hr  \n",
       "0               9  \n",
       "1              19  \n",
       "2              21  \n",
       "3              22  \n",
       "4               0  "
      ]
     },
     "execution_count": 28,
     "metadata": {},
     "output_type": "execute_result"
    }
   ],
   "source": [
    "df.head()"
   ]
  },
  {
   "cell_type": "code",
   "execution_count": 29,
   "metadata": {},
   "outputs": [],
   "source": [
    "df.drop(labels='Dep_Time',axis=1,inplace=True)"
   ]
  },
  {
   "cell_type": "code",
   "execution_count": 30,
   "metadata": {},
   "outputs": [],
   "source": [
    "df.drop(labels='Arrival_Time',axis=1,inplace=True)"
   ]
  },
  {
   "cell_type": "code",
   "execution_count": 31,
   "metadata": {},
   "outputs": [
    {
     "data": {
      "text/html": [
       "<div>\n",
       "<style scoped>\n",
       "    .dataframe tbody tr th:only-of-type {\n",
       "        vertical-align: middle;\n",
       "    }\n",
       "\n",
       "    .dataframe tbody tr th {\n",
       "        vertical-align: top;\n",
       "    }\n",
       "\n",
       "    .dataframe thead th {\n",
       "        text-align: right;\n",
       "    }\n",
       "</style>\n",
       "<table border=\"1\" class=\"dataframe\">\n",
       "  <thead>\n",
       "    <tr style=\"text-align: right;\">\n",
       "      <th></th>\n",
       "      <th>taken date</th>\n",
       "      <th>no.of_days_left</th>\n",
       "      <th>Airline</th>\n",
       "      <th>Aeroplane_ID</th>\n",
       "      <th>Duration</th>\n",
       "      <th>Cruidoilprice</th>\n",
       "      <th>no_of_competitors on root</th>\n",
       "      <th>price</th>\n",
       "      <th>month</th>\n",
       "      <th>day</th>\n",
       "      <th>isWEEKDAY</th>\n",
       "      <th>Dep_Time_min</th>\n",
       "      <th>Dep_Time_hr</th>\n",
       "      <th>Arrival_Time_min</th>\n",
       "      <th>Arrival_Time_hr</th>\n",
       "    </tr>\n",
       "  </thead>\n",
       "  <tbody>\n",
       "    <tr>\n",
       "      <th>0</th>\n",
       "      <td>2019-11-01</td>\n",
       "      <td>69</td>\n",
       "      <td>SpiceJet Ltd</td>\n",
       "      <td>SG 191</td>\n",
       "      <td>2h 40 m</td>\n",
       "      <td>56.2</td>\n",
       "      <td>5</td>\n",
       "      <td>3732</td>\n",
       "      <td>11</td>\n",
       "      <td>1</td>\n",
       "      <td>0</td>\n",
       "      <td>20</td>\n",
       "      <td>6</td>\n",
       "      <td>00</td>\n",
       "      <td>9</td>\n",
       "    </tr>\n",
       "    <tr>\n",
       "      <th>1</th>\n",
       "      <td>2019-11-01</td>\n",
       "      <td>69</td>\n",
       "      <td>SpiceJet Ltd</td>\n",
       "      <td>SG 197</td>\n",
       "      <td>2h 50m</td>\n",
       "      <td>56.2</td>\n",
       "      <td>5</td>\n",
       "      <td>3732</td>\n",
       "      <td>11</td>\n",
       "      <td>1</td>\n",
       "      <td>0</td>\n",
       "      <td>35</td>\n",
       "      <td>16</td>\n",
       "      <td>25</td>\n",
       "      <td>19</td>\n",
       "    </tr>\n",
       "    <tr>\n",
       "      <th>2</th>\n",
       "      <td>2019-11-01</td>\n",
       "      <td>69</td>\n",
       "      <td>SpiceJet Ltd</td>\n",
       "      <td>SG 8719</td>\n",
       "      <td>2h 50m</td>\n",
       "      <td>56.2</td>\n",
       "      <td>5</td>\n",
       "      <td>3732</td>\n",
       "      <td>11</td>\n",
       "      <td>1</td>\n",
       "      <td>0</td>\n",
       "      <td>25</td>\n",
       "      <td>18</td>\n",
       "      <td>15</td>\n",
       "      <td>21</td>\n",
       "    </tr>\n",
       "    <tr>\n",
       "      <th>3</th>\n",
       "      <td>2019-11-01</td>\n",
       "      <td>69</td>\n",
       "      <td>SpiceJet Ltd</td>\n",
       "      <td>SG 8905</td>\n",
       "      <td>2h 30m</td>\n",
       "      <td>56.2</td>\n",
       "      <td>5</td>\n",
       "      <td>3732</td>\n",
       "      <td>11</td>\n",
       "      <td>1</td>\n",
       "      <td>0</td>\n",
       "      <td>55</td>\n",
       "      <td>19</td>\n",
       "      <td>55</td>\n",
       "      <td>22</td>\n",
       "    </tr>\n",
       "    <tr>\n",
       "      <th>4</th>\n",
       "      <td>2019-11-01</td>\n",
       "      <td>69</td>\n",
       "      <td>SpiceJet Ltd</td>\n",
       "      <td>SG 143</td>\n",
       "      <td>2h 40 m</td>\n",
       "      <td>56.2</td>\n",
       "      <td>5</td>\n",
       "      <td>4157</td>\n",
       "      <td>11</td>\n",
       "      <td>1</td>\n",
       "      <td>0</td>\n",
       "      <td>45</td>\n",
       "      <td>21</td>\n",
       "      <td>25</td>\n",
       "      <td>0</td>\n",
       "    </tr>\n",
       "  </tbody>\n",
       "</table>\n",
       "</div>"
      ],
      "text/plain": [
       "  taken date  no.of_days_left       Airline Aeroplane_ID Duration  \\\n",
       "0 2019-11-01               69  SpiceJet Ltd       SG 191  2h 40 m   \n",
       "1 2019-11-01               69  SpiceJet Ltd       SG 197   2h 50m   \n",
       "2 2019-11-01               69  SpiceJet Ltd      SG 8719   2h 50m   \n",
       "3 2019-11-01               69  SpiceJet Ltd      SG 8905   2h 30m   \n",
       "4 2019-11-01               69  SpiceJet Ltd       SG 143  2h 40 m   \n",
       "\n",
       "   Cruidoilprice  no_of_competitors on root  price   month  day  isWEEKDAY  \\\n",
       "0           56.2                          5    3732     11    1          0   \n",
       "1           56.2                          5    3732     11    1          0   \n",
       "2           56.2                          5    3732     11    1          0   \n",
       "3           56.2                          5    3732     11    1          0   \n",
       "4           56.2                          5    4157     11    1          0   \n",
       "\n",
       "  Dep_Time_min Dep_Time_hr Arrival_Time_min Arrival_Time_hr  \n",
       "0           20           6               00               9  \n",
       "1           35          16               25              19  \n",
       "2           25          18               15              21  \n",
       "3           55          19               55              22  \n",
       "4           45          21               25               0  "
      ]
     },
     "execution_count": 31,
     "metadata": {},
     "output_type": "execute_result"
    }
   ],
   "source": [
    "df.head()"
   ]
  },
  {
   "cell_type": "code",
   "execution_count": 32,
   "metadata": {},
   "outputs": [],
   "source": [
    "# My Question is : How to replace Duration column in minute format.\n",
    "#  for example:  2h 40m = (2*60+40=160)\n",
    "# So basically we have to convert all the values in duration columns in minute format. "
   ]
  },
  {
   "cell_type": "code",
   "execution_count": 33,
   "metadata": {},
   "outputs": [],
   "source": [
    "# ecom['Email'].apply(lambda x: x.split('@')[1]).value_counts().head(5)"
   ]
  },
  {
   "cell_type": "code",
   "execution_count": 34,
   "metadata": {},
   "outputs": [
    {
     "data": {
      "text/html": [
       "<div>\n",
       "<style scoped>\n",
       "    .dataframe tbody tr th:only-of-type {\n",
       "        vertical-align: middle;\n",
       "    }\n",
       "\n",
       "    .dataframe tbody tr th {\n",
       "        vertical-align: top;\n",
       "    }\n",
       "\n",
       "    .dataframe thead th {\n",
       "        text-align: right;\n",
       "    }\n",
       "</style>\n",
       "<table border=\"1\" class=\"dataframe\">\n",
       "  <thead>\n",
       "    <tr style=\"text-align: right;\">\n",
       "      <th></th>\n",
       "      <th>taken date</th>\n",
       "      <th>no.of_days_left</th>\n",
       "      <th>Airline</th>\n",
       "      <th>Aeroplane_ID</th>\n",
       "      <th>Duration</th>\n",
       "      <th>Cruidoilprice</th>\n",
       "      <th>no_of_competitors on root</th>\n",
       "      <th>price</th>\n",
       "      <th>month</th>\n",
       "      <th>day</th>\n",
       "      <th>isWEEKDAY</th>\n",
       "      <th>Dep_Time_min</th>\n",
       "      <th>Dep_Time_hr</th>\n",
       "      <th>Arrival_Time_min</th>\n",
       "      <th>Arrival_Time_hr</th>\n",
       "    </tr>\n",
       "  </thead>\n",
       "  <tbody>\n",
       "    <tr>\n",
       "      <th>0</th>\n",
       "      <td>2019-11-01</td>\n",
       "      <td>69</td>\n",
       "      <td>SpiceJet Ltd</td>\n",
       "      <td>SG 191</td>\n",
       "      <td>2h 40 m</td>\n",
       "      <td>56.2</td>\n",
       "      <td>5</td>\n",
       "      <td>3732</td>\n",
       "      <td>11</td>\n",
       "      <td>1</td>\n",
       "      <td>0</td>\n",
       "      <td>20</td>\n",
       "      <td>6</td>\n",
       "      <td>00</td>\n",
       "      <td>9</td>\n",
       "    </tr>\n",
       "    <tr>\n",
       "      <th>1</th>\n",
       "      <td>2019-11-01</td>\n",
       "      <td>69</td>\n",
       "      <td>SpiceJet Ltd</td>\n",
       "      <td>SG 197</td>\n",
       "      <td>2h 50m</td>\n",
       "      <td>56.2</td>\n",
       "      <td>5</td>\n",
       "      <td>3732</td>\n",
       "      <td>11</td>\n",
       "      <td>1</td>\n",
       "      <td>0</td>\n",
       "      <td>35</td>\n",
       "      <td>16</td>\n",
       "      <td>25</td>\n",
       "      <td>19</td>\n",
       "    </tr>\n",
       "    <tr>\n",
       "      <th>2</th>\n",
       "      <td>2019-11-01</td>\n",
       "      <td>69</td>\n",
       "      <td>SpiceJet Ltd</td>\n",
       "      <td>SG 8719</td>\n",
       "      <td>2h 50m</td>\n",
       "      <td>56.2</td>\n",
       "      <td>5</td>\n",
       "      <td>3732</td>\n",
       "      <td>11</td>\n",
       "      <td>1</td>\n",
       "      <td>0</td>\n",
       "      <td>25</td>\n",
       "      <td>18</td>\n",
       "      <td>15</td>\n",
       "      <td>21</td>\n",
       "    </tr>\n",
       "    <tr>\n",
       "      <th>3</th>\n",
       "      <td>2019-11-01</td>\n",
       "      <td>69</td>\n",
       "      <td>SpiceJet Ltd</td>\n",
       "      <td>SG 8905</td>\n",
       "      <td>2h 30m</td>\n",
       "      <td>56.2</td>\n",
       "      <td>5</td>\n",
       "      <td>3732</td>\n",
       "      <td>11</td>\n",
       "      <td>1</td>\n",
       "      <td>0</td>\n",
       "      <td>55</td>\n",
       "      <td>19</td>\n",
       "      <td>55</td>\n",
       "      <td>22</td>\n",
       "    </tr>\n",
       "    <tr>\n",
       "      <th>4</th>\n",
       "      <td>2019-11-01</td>\n",
       "      <td>69</td>\n",
       "      <td>SpiceJet Ltd</td>\n",
       "      <td>SG 143</td>\n",
       "      <td>2h 40 m</td>\n",
       "      <td>56.2</td>\n",
       "      <td>5</td>\n",
       "      <td>4157</td>\n",
       "      <td>11</td>\n",
       "      <td>1</td>\n",
       "      <td>0</td>\n",
       "      <td>45</td>\n",
       "      <td>21</td>\n",
       "      <td>25</td>\n",
       "      <td>0</td>\n",
       "    </tr>\n",
       "  </tbody>\n",
       "</table>\n",
       "</div>"
      ],
      "text/plain": [
       "  taken date  no.of_days_left       Airline Aeroplane_ID Duration  \\\n",
       "0 2019-11-01               69  SpiceJet Ltd       SG 191  2h 40 m   \n",
       "1 2019-11-01               69  SpiceJet Ltd       SG 197   2h 50m   \n",
       "2 2019-11-01               69  SpiceJet Ltd      SG 8719   2h 50m   \n",
       "3 2019-11-01               69  SpiceJet Ltd      SG 8905   2h 30m   \n",
       "4 2019-11-01               69  SpiceJet Ltd       SG 143  2h 40 m   \n",
       "\n",
       "   Cruidoilprice  no_of_competitors on root  price   month  day  isWEEKDAY  \\\n",
       "0           56.2                          5    3732     11    1          0   \n",
       "1           56.2                          5    3732     11    1          0   \n",
       "2           56.2                          5    3732     11    1          0   \n",
       "3           56.2                          5    3732     11    1          0   \n",
       "4           56.2                          5    4157     11    1          0   \n",
       "\n",
       "  Dep_Time_min Dep_Time_hr Arrival_Time_min Arrival_Time_hr  \n",
       "0           20           6               00               9  \n",
       "1           35          16               25              19  \n",
       "2           25          18               15              21  \n",
       "3           55          19               55              22  \n",
       "4           45          21               25               0  "
      ]
     },
     "execution_count": 34,
     "metadata": {},
     "output_type": "execute_result"
    }
   ],
   "source": [
    "df.head()"
   ]
  },
  {
   "cell_type": "code",
   "execution_count": 35,
   "metadata": {},
   "outputs": [],
   "source": [
    "df['D_Hr']=df['Duration'].apply(lambda x: x.split('h')[0])"
   ]
  },
  {
   "cell_type": "code",
   "execution_count": 36,
   "metadata": {},
   "outputs": [
    {
     "data": {
      "text/html": [
       "<div>\n",
       "<style scoped>\n",
       "    .dataframe tbody tr th:only-of-type {\n",
       "        vertical-align: middle;\n",
       "    }\n",
       "\n",
       "    .dataframe tbody tr th {\n",
       "        vertical-align: top;\n",
       "    }\n",
       "\n",
       "    .dataframe thead th {\n",
       "        text-align: right;\n",
       "    }\n",
       "</style>\n",
       "<table border=\"1\" class=\"dataframe\">\n",
       "  <thead>\n",
       "    <tr style=\"text-align: right;\">\n",
       "      <th></th>\n",
       "      <th>taken date</th>\n",
       "      <th>no.of_days_left</th>\n",
       "      <th>Airline</th>\n",
       "      <th>Aeroplane_ID</th>\n",
       "      <th>Duration</th>\n",
       "      <th>Cruidoilprice</th>\n",
       "      <th>no_of_competitors on root</th>\n",
       "      <th>price</th>\n",
       "      <th>month</th>\n",
       "      <th>day</th>\n",
       "      <th>isWEEKDAY</th>\n",
       "      <th>Dep_Time_min</th>\n",
       "      <th>Dep_Time_hr</th>\n",
       "      <th>Arrival_Time_min</th>\n",
       "      <th>Arrival_Time_hr</th>\n",
       "      <th>D_Hr</th>\n",
       "    </tr>\n",
       "  </thead>\n",
       "  <tbody>\n",
       "    <tr>\n",
       "      <th>0</th>\n",
       "      <td>2019-11-01</td>\n",
       "      <td>69</td>\n",
       "      <td>SpiceJet Ltd</td>\n",
       "      <td>SG 191</td>\n",
       "      <td>2h 40 m</td>\n",
       "      <td>56.2</td>\n",
       "      <td>5</td>\n",
       "      <td>3732</td>\n",
       "      <td>11</td>\n",
       "      <td>1</td>\n",
       "      <td>0</td>\n",
       "      <td>20</td>\n",
       "      <td>6</td>\n",
       "      <td>00</td>\n",
       "      <td>9</td>\n",
       "      <td>2</td>\n",
       "    </tr>\n",
       "    <tr>\n",
       "      <th>1</th>\n",
       "      <td>2019-11-01</td>\n",
       "      <td>69</td>\n",
       "      <td>SpiceJet Ltd</td>\n",
       "      <td>SG 197</td>\n",
       "      <td>2h 50m</td>\n",
       "      <td>56.2</td>\n",
       "      <td>5</td>\n",
       "      <td>3732</td>\n",
       "      <td>11</td>\n",
       "      <td>1</td>\n",
       "      <td>0</td>\n",
       "      <td>35</td>\n",
       "      <td>16</td>\n",
       "      <td>25</td>\n",
       "      <td>19</td>\n",
       "      <td>2</td>\n",
       "    </tr>\n",
       "    <tr>\n",
       "      <th>2</th>\n",
       "      <td>2019-11-01</td>\n",
       "      <td>69</td>\n",
       "      <td>SpiceJet Ltd</td>\n",
       "      <td>SG 8719</td>\n",
       "      <td>2h 50m</td>\n",
       "      <td>56.2</td>\n",
       "      <td>5</td>\n",
       "      <td>3732</td>\n",
       "      <td>11</td>\n",
       "      <td>1</td>\n",
       "      <td>0</td>\n",
       "      <td>25</td>\n",
       "      <td>18</td>\n",
       "      <td>15</td>\n",
       "      <td>21</td>\n",
       "      <td>2</td>\n",
       "    </tr>\n",
       "    <tr>\n",
       "      <th>3</th>\n",
       "      <td>2019-11-01</td>\n",
       "      <td>69</td>\n",
       "      <td>SpiceJet Ltd</td>\n",
       "      <td>SG 8905</td>\n",
       "      <td>2h 30m</td>\n",
       "      <td>56.2</td>\n",
       "      <td>5</td>\n",
       "      <td>3732</td>\n",
       "      <td>11</td>\n",
       "      <td>1</td>\n",
       "      <td>0</td>\n",
       "      <td>55</td>\n",
       "      <td>19</td>\n",
       "      <td>55</td>\n",
       "      <td>22</td>\n",
       "      <td>2</td>\n",
       "    </tr>\n",
       "    <tr>\n",
       "      <th>4</th>\n",
       "      <td>2019-11-01</td>\n",
       "      <td>69</td>\n",
       "      <td>SpiceJet Ltd</td>\n",
       "      <td>SG 143</td>\n",
       "      <td>2h 40 m</td>\n",
       "      <td>56.2</td>\n",
       "      <td>5</td>\n",
       "      <td>4157</td>\n",
       "      <td>11</td>\n",
       "      <td>1</td>\n",
       "      <td>0</td>\n",
       "      <td>45</td>\n",
       "      <td>21</td>\n",
       "      <td>25</td>\n",
       "      <td>0</td>\n",
       "      <td>2</td>\n",
       "    </tr>\n",
       "  </tbody>\n",
       "</table>\n",
       "</div>"
      ],
      "text/plain": [
       "  taken date  no.of_days_left       Airline Aeroplane_ID Duration  \\\n",
       "0 2019-11-01               69  SpiceJet Ltd       SG 191  2h 40 m   \n",
       "1 2019-11-01               69  SpiceJet Ltd       SG 197   2h 50m   \n",
       "2 2019-11-01               69  SpiceJet Ltd      SG 8719   2h 50m   \n",
       "3 2019-11-01               69  SpiceJet Ltd      SG 8905   2h 30m   \n",
       "4 2019-11-01               69  SpiceJet Ltd       SG 143  2h 40 m   \n",
       "\n",
       "   Cruidoilprice  no_of_competitors on root  price   month  day  isWEEKDAY  \\\n",
       "0           56.2                          5    3732     11    1          0   \n",
       "1           56.2                          5    3732     11    1          0   \n",
       "2           56.2                          5    3732     11    1          0   \n",
       "3           56.2                          5    3732     11    1          0   \n",
       "4           56.2                          5    4157     11    1          0   \n",
       "\n",
       "  Dep_Time_min Dep_Time_hr Arrival_Time_min Arrival_Time_hr D_Hr  \n",
       "0           20           6               00               9    2  \n",
       "1           35          16               25              19    2  \n",
       "2           25          18               15              21    2  \n",
       "3           55          19               55              22    2  \n",
       "4           45          21               25               0    2  "
      ]
     },
     "execution_count": 36,
     "metadata": {},
     "output_type": "execute_result"
    }
   ],
   "source": [
    "df.head()"
   ]
  },
  {
   "cell_type": "code",
   "execution_count": 37,
   "metadata": {},
   "outputs": [],
   "source": [
    "#df['D_min']=df['Duration'].apply(lambda x: x.split('h')[1])"
   ]
  },
  {
   "cell_type": "code",
   "execution_count": 38,
   "metadata": {},
   "outputs": [],
   "source": [
    "#df.head()"
   ]
  },
  {
   "cell_type": "code",
   "execution_count": 39,
   "metadata": {},
   "outputs": [
    {
     "data": {
      "text/plain": [
       "0       2\n",
       "1       2\n",
       "2       2\n",
       "3       2\n",
       "4       2\n",
       "       ..\n",
       "3001    2\n",
       "3002    2\n",
       "3003    2\n",
       "3004    2\n",
       "3005    2\n",
       "Name: D_Hr, Length: 3006, dtype: object"
      ]
     },
     "execution_count": 39,
     "metadata": {},
     "output_type": "execute_result"
    }
   ],
   "source": [
    "df['D_Hr']"
   ]
  },
  {
   "cell_type": "code",
   "execution_count": 40,
   "metadata": {},
   "outputs": [],
   "source": [
    "df['D_Hr']=df['D_Hr'].astype(int)"
   ]
  },
  {
   "cell_type": "code",
   "execution_count": 41,
   "metadata": {},
   "outputs": [
    {
     "data": {
      "text/plain": [
       "0       2\n",
       "1       2\n",
       "2       2\n",
       "3       2\n",
       "4       2\n",
       "       ..\n",
       "3001    2\n",
       "3002    2\n",
       "3003    2\n",
       "3004    2\n",
       "3005    2\n",
       "Name: D_Hr, Length: 3006, dtype: int32"
      ]
     },
     "execution_count": 41,
     "metadata": {},
     "output_type": "execute_result"
    }
   ],
   "source": [
    "df['D_Hr']"
   ]
  },
  {
   "cell_type": "code",
   "execution_count": 42,
   "metadata": {},
   "outputs": [],
   "source": [
    "df['D_Hr']= df['D_Hr'] * 60 "
   ]
  },
  {
   "cell_type": "code",
   "execution_count": 43,
   "metadata": {},
   "outputs": [
    {
     "data": {
      "text/html": [
       "<div>\n",
       "<style scoped>\n",
       "    .dataframe tbody tr th:only-of-type {\n",
       "        vertical-align: middle;\n",
       "    }\n",
       "\n",
       "    .dataframe tbody tr th {\n",
       "        vertical-align: top;\n",
       "    }\n",
       "\n",
       "    .dataframe thead th {\n",
       "        text-align: right;\n",
       "    }\n",
       "</style>\n",
       "<table border=\"1\" class=\"dataframe\">\n",
       "  <thead>\n",
       "    <tr style=\"text-align: right;\">\n",
       "      <th></th>\n",
       "      <th>taken date</th>\n",
       "      <th>no.of_days_left</th>\n",
       "      <th>Airline</th>\n",
       "      <th>Aeroplane_ID</th>\n",
       "      <th>Duration</th>\n",
       "      <th>Cruidoilprice</th>\n",
       "      <th>no_of_competitors on root</th>\n",
       "      <th>price</th>\n",
       "      <th>month</th>\n",
       "      <th>day</th>\n",
       "      <th>isWEEKDAY</th>\n",
       "      <th>Dep_Time_min</th>\n",
       "      <th>Dep_Time_hr</th>\n",
       "      <th>Arrival_Time_min</th>\n",
       "      <th>Arrival_Time_hr</th>\n",
       "      <th>D_Hr</th>\n",
       "    </tr>\n",
       "  </thead>\n",
       "  <tbody>\n",
       "    <tr>\n",
       "      <th>0</th>\n",
       "      <td>2019-11-01</td>\n",
       "      <td>69</td>\n",
       "      <td>SpiceJet Ltd</td>\n",
       "      <td>SG 191</td>\n",
       "      <td>2h 40 m</td>\n",
       "      <td>56.2</td>\n",
       "      <td>5</td>\n",
       "      <td>3732</td>\n",
       "      <td>11</td>\n",
       "      <td>1</td>\n",
       "      <td>0</td>\n",
       "      <td>20</td>\n",
       "      <td>6</td>\n",
       "      <td>00</td>\n",
       "      <td>9</td>\n",
       "      <td>120</td>\n",
       "    </tr>\n",
       "    <tr>\n",
       "      <th>1</th>\n",
       "      <td>2019-11-01</td>\n",
       "      <td>69</td>\n",
       "      <td>SpiceJet Ltd</td>\n",
       "      <td>SG 197</td>\n",
       "      <td>2h 50m</td>\n",
       "      <td>56.2</td>\n",
       "      <td>5</td>\n",
       "      <td>3732</td>\n",
       "      <td>11</td>\n",
       "      <td>1</td>\n",
       "      <td>0</td>\n",
       "      <td>35</td>\n",
       "      <td>16</td>\n",
       "      <td>25</td>\n",
       "      <td>19</td>\n",
       "      <td>120</td>\n",
       "    </tr>\n",
       "    <tr>\n",
       "      <th>2</th>\n",
       "      <td>2019-11-01</td>\n",
       "      <td>69</td>\n",
       "      <td>SpiceJet Ltd</td>\n",
       "      <td>SG 8719</td>\n",
       "      <td>2h 50m</td>\n",
       "      <td>56.2</td>\n",
       "      <td>5</td>\n",
       "      <td>3732</td>\n",
       "      <td>11</td>\n",
       "      <td>1</td>\n",
       "      <td>0</td>\n",
       "      <td>25</td>\n",
       "      <td>18</td>\n",
       "      <td>15</td>\n",
       "      <td>21</td>\n",
       "      <td>120</td>\n",
       "    </tr>\n",
       "    <tr>\n",
       "      <th>3</th>\n",
       "      <td>2019-11-01</td>\n",
       "      <td>69</td>\n",
       "      <td>SpiceJet Ltd</td>\n",
       "      <td>SG 8905</td>\n",
       "      <td>2h 30m</td>\n",
       "      <td>56.2</td>\n",
       "      <td>5</td>\n",
       "      <td>3732</td>\n",
       "      <td>11</td>\n",
       "      <td>1</td>\n",
       "      <td>0</td>\n",
       "      <td>55</td>\n",
       "      <td>19</td>\n",
       "      <td>55</td>\n",
       "      <td>22</td>\n",
       "      <td>120</td>\n",
       "    </tr>\n",
       "    <tr>\n",
       "      <th>4</th>\n",
       "      <td>2019-11-01</td>\n",
       "      <td>69</td>\n",
       "      <td>SpiceJet Ltd</td>\n",
       "      <td>SG 143</td>\n",
       "      <td>2h 40 m</td>\n",
       "      <td>56.2</td>\n",
       "      <td>5</td>\n",
       "      <td>4157</td>\n",
       "      <td>11</td>\n",
       "      <td>1</td>\n",
       "      <td>0</td>\n",
       "      <td>45</td>\n",
       "      <td>21</td>\n",
       "      <td>25</td>\n",
       "      <td>0</td>\n",
       "      <td>120</td>\n",
       "    </tr>\n",
       "  </tbody>\n",
       "</table>\n",
       "</div>"
      ],
      "text/plain": [
       "  taken date  no.of_days_left       Airline Aeroplane_ID Duration  \\\n",
       "0 2019-11-01               69  SpiceJet Ltd       SG 191  2h 40 m   \n",
       "1 2019-11-01               69  SpiceJet Ltd       SG 197   2h 50m   \n",
       "2 2019-11-01               69  SpiceJet Ltd      SG 8719   2h 50m   \n",
       "3 2019-11-01               69  SpiceJet Ltd      SG 8905   2h 30m   \n",
       "4 2019-11-01               69  SpiceJet Ltd       SG 143  2h 40 m   \n",
       "\n",
       "   Cruidoilprice  no_of_competitors on root  price   month  day  isWEEKDAY  \\\n",
       "0           56.2                          5    3732     11    1          0   \n",
       "1           56.2                          5    3732     11    1          0   \n",
       "2           56.2                          5    3732     11    1          0   \n",
       "3           56.2                          5    3732     11    1          0   \n",
       "4           56.2                          5    4157     11    1          0   \n",
       "\n",
       "  Dep_Time_min Dep_Time_hr Arrival_Time_min Arrival_Time_hr  D_Hr  \n",
       "0           20           6               00               9   120  \n",
       "1           35          16               25              19   120  \n",
       "2           25          18               15              21   120  \n",
       "3           55          19               55              22   120  \n",
       "4           45          21               25               0   120  "
      ]
     },
     "execution_count": 43,
     "metadata": {},
     "output_type": "execute_result"
    }
   ],
   "source": [
    "df.head()"
   ]
  },
  {
   "cell_type": "code",
   "execution_count": 44,
   "metadata": {},
   "outputs": [],
   "source": [
    "#df['D_min']=df['Duration'].apply(lambda x:x[-4:-2])"
   ]
  },
  {
   "cell_type": "code",
   "execution_count": 45,
   "metadata": {},
   "outputs": [],
   "source": [
    "#df['D_min']"
   ]
  },
  {
   "cell_type": "code",
   "execution_count": 46,
   "metadata": {},
   "outputs": [
    {
     "data": {
      "text/plain": [
       "True"
      ]
     },
     "execution_count": 46,
     "metadata": {},
     "output_type": "execute_result"
    }
   ],
   "source": [
    "'5'.isdigit()"
   ]
  },
  {
   "cell_type": "code",
   "execution_count": 47,
   "metadata": {},
   "outputs": [
    {
     "data": {
      "text/plain": [
       "'40m'"
      ]
     },
     "execution_count": 47,
     "metadata": {},
     "output_type": "execute_result"
    }
   ],
   "source": [
    "('2h 40m'.split()[1])"
   ]
  },
  {
   "cell_type": "code",
   "execution_count": 48,
   "metadata": {},
   "outputs": [],
   "source": [
    "df['D_min']=df['Duration'].apply(lambda x: x.split('h')[1])"
   ]
  },
  {
   "cell_type": "code",
   "execution_count": 49,
   "metadata": {},
   "outputs": [
    {
     "data": {
      "text/plain": [
       "0      40 m\n",
       "1       50m\n",
       "2       50m\n",
       "3       30m\n",
       "4      40 m\n",
       "      ...  \n",
       "95      55m\n",
       "96      55m\n",
       "97      50m\n",
       "98       0m\n",
       "99      35m\n",
       "Name: D_min, Length: 100, dtype: object"
      ]
     },
     "execution_count": 49,
     "metadata": {},
     "output_type": "execute_result"
    }
   ],
   "source": [
    "df['D_min'].head(100)"
   ]
  },
  {
   "cell_type": "code",
   "execution_count": 50,
   "metadata": {},
   "outputs": [
    {
     "data": {
      "text/html": [
       "<div>\n",
       "<style scoped>\n",
       "    .dataframe tbody tr th:only-of-type {\n",
       "        vertical-align: middle;\n",
       "    }\n",
       "\n",
       "    .dataframe tbody tr th {\n",
       "        vertical-align: top;\n",
       "    }\n",
       "\n",
       "    .dataframe thead th {\n",
       "        text-align: right;\n",
       "    }\n",
       "</style>\n",
       "<table border=\"1\" class=\"dataframe\">\n",
       "  <thead>\n",
       "    <tr style=\"text-align: right;\">\n",
       "      <th></th>\n",
       "      <th>taken date</th>\n",
       "      <th>no.of_days_left</th>\n",
       "      <th>Airline</th>\n",
       "      <th>Aeroplane_ID</th>\n",
       "      <th>Duration</th>\n",
       "      <th>Cruidoilprice</th>\n",
       "      <th>no_of_competitors on root</th>\n",
       "      <th>price</th>\n",
       "      <th>month</th>\n",
       "      <th>day</th>\n",
       "      <th>isWEEKDAY</th>\n",
       "      <th>Dep_Time_min</th>\n",
       "      <th>Dep_Time_hr</th>\n",
       "      <th>Arrival_Time_min</th>\n",
       "      <th>Arrival_Time_hr</th>\n",
       "      <th>D_Hr</th>\n",
       "      <th>D_min</th>\n",
       "    </tr>\n",
       "  </thead>\n",
       "  <tbody>\n",
       "    <tr>\n",
       "      <th>0</th>\n",
       "      <td>2019-11-01</td>\n",
       "      <td>69</td>\n",
       "      <td>SpiceJet Ltd</td>\n",
       "      <td>SG 191</td>\n",
       "      <td>2h 40 m</td>\n",
       "      <td>56.2</td>\n",
       "      <td>5</td>\n",
       "      <td>3732</td>\n",
       "      <td>11</td>\n",
       "      <td>1</td>\n",
       "      <td>0</td>\n",
       "      <td>20</td>\n",
       "      <td>6</td>\n",
       "      <td>00</td>\n",
       "      <td>9</td>\n",
       "      <td>120</td>\n",
       "      <td>40 m</td>\n",
       "    </tr>\n",
       "    <tr>\n",
       "      <th>1</th>\n",
       "      <td>2019-11-01</td>\n",
       "      <td>69</td>\n",
       "      <td>SpiceJet Ltd</td>\n",
       "      <td>SG 197</td>\n",
       "      <td>2h 50m</td>\n",
       "      <td>56.2</td>\n",
       "      <td>5</td>\n",
       "      <td>3732</td>\n",
       "      <td>11</td>\n",
       "      <td>1</td>\n",
       "      <td>0</td>\n",
       "      <td>35</td>\n",
       "      <td>16</td>\n",
       "      <td>25</td>\n",
       "      <td>19</td>\n",
       "      <td>120</td>\n",
       "      <td>50m</td>\n",
       "    </tr>\n",
       "    <tr>\n",
       "      <th>2</th>\n",
       "      <td>2019-11-01</td>\n",
       "      <td>69</td>\n",
       "      <td>SpiceJet Ltd</td>\n",
       "      <td>SG 8719</td>\n",
       "      <td>2h 50m</td>\n",
       "      <td>56.2</td>\n",
       "      <td>5</td>\n",
       "      <td>3732</td>\n",
       "      <td>11</td>\n",
       "      <td>1</td>\n",
       "      <td>0</td>\n",
       "      <td>25</td>\n",
       "      <td>18</td>\n",
       "      <td>15</td>\n",
       "      <td>21</td>\n",
       "      <td>120</td>\n",
       "      <td>50m</td>\n",
       "    </tr>\n",
       "    <tr>\n",
       "      <th>3</th>\n",
       "      <td>2019-11-01</td>\n",
       "      <td>69</td>\n",
       "      <td>SpiceJet Ltd</td>\n",
       "      <td>SG 8905</td>\n",
       "      <td>2h 30m</td>\n",
       "      <td>56.2</td>\n",
       "      <td>5</td>\n",
       "      <td>3732</td>\n",
       "      <td>11</td>\n",
       "      <td>1</td>\n",
       "      <td>0</td>\n",
       "      <td>55</td>\n",
       "      <td>19</td>\n",
       "      <td>55</td>\n",
       "      <td>22</td>\n",
       "      <td>120</td>\n",
       "      <td>30m</td>\n",
       "    </tr>\n",
       "    <tr>\n",
       "      <th>4</th>\n",
       "      <td>2019-11-01</td>\n",
       "      <td>69</td>\n",
       "      <td>SpiceJet Ltd</td>\n",
       "      <td>SG 143</td>\n",
       "      <td>2h 40 m</td>\n",
       "      <td>56.2</td>\n",
       "      <td>5</td>\n",
       "      <td>4157</td>\n",
       "      <td>11</td>\n",
       "      <td>1</td>\n",
       "      <td>0</td>\n",
       "      <td>45</td>\n",
       "      <td>21</td>\n",
       "      <td>25</td>\n",
       "      <td>0</td>\n",
       "      <td>120</td>\n",
       "      <td>40 m</td>\n",
       "    </tr>\n",
       "  </tbody>\n",
       "</table>\n",
       "</div>"
      ],
      "text/plain": [
       "  taken date  no.of_days_left       Airline Aeroplane_ID Duration  \\\n",
       "0 2019-11-01               69  SpiceJet Ltd       SG 191  2h 40 m   \n",
       "1 2019-11-01               69  SpiceJet Ltd       SG 197   2h 50m   \n",
       "2 2019-11-01               69  SpiceJet Ltd      SG 8719   2h 50m   \n",
       "3 2019-11-01               69  SpiceJet Ltd      SG 8905   2h 30m   \n",
       "4 2019-11-01               69  SpiceJet Ltd       SG 143  2h 40 m   \n",
       "\n",
       "   Cruidoilprice  no_of_competitors on root  price   month  day  isWEEKDAY  \\\n",
       "0           56.2                          5    3732     11    1          0   \n",
       "1           56.2                          5    3732     11    1          0   \n",
       "2           56.2                          5    3732     11    1          0   \n",
       "3           56.2                          5    3732     11    1          0   \n",
       "4           56.2                          5    4157     11    1          0   \n",
       "\n",
       "  Dep_Time_min Dep_Time_hr Arrival_Time_min Arrival_Time_hr  D_Hr  D_min  \n",
       "0           20           6               00               9   120   40 m  \n",
       "1           35          16               25              19   120    50m  \n",
       "2           25          18               15              21   120    50m  \n",
       "3           55          19               55              22   120    30m  \n",
       "4           45          21               25               0   120   40 m  "
      ]
     },
     "execution_count": 50,
     "metadata": {},
     "output_type": "execute_result"
    }
   ],
   "source": [
    "df.head()"
   ]
  },
  {
   "cell_type": "code",
   "execution_count": 51,
   "metadata": {},
   "outputs": [],
   "source": [
    "df=df.replace({'D_min': '[A-Za-z]'},\"\",regex=True)"
   ]
  },
  {
   "cell_type": "code",
   "execution_count": 52,
   "metadata": {},
   "outputs": [
    {
     "data": {
      "text/html": [
       "<div>\n",
       "<style scoped>\n",
       "    .dataframe tbody tr th:only-of-type {\n",
       "        vertical-align: middle;\n",
       "    }\n",
       "\n",
       "    .dataframe tbody tr th {\n",
       "        vertical-align: top;\n",
       "    }\n",
       "\n",
       "    .dataframe thead th {\n",
       "        text-align: right;\n",
       "    }\n",
       "</style>\n",
       "<table border=\"1\" class=\"dataframe\">\n",
       "  <thead>\n",
       "    <tr style=\"text-align: right;\">\n",
       "      <th></th>\n",
       "      <th>taken date</th>\n",
       "      <th>no.of_days_left</th>\n",
       "      <th>Airline</th>\n",
       "      <th>Aeroplane_ID</th>\n",
       "      <th>Duration</th>\n",
       "      <th>Cruidoilprice</th>\n",
       "      <th>no_of_competitors on root</th>\n",
       "      <th>price</th>\n",
       "      <th>month</th>\n",
       "      <th>day</th>\n",
       "      <th>isWEEKDAY</th>\n",
       "      <th>Dep_Time_min</th>\n",
       "      <th>Dep_Time_hr</th>\n",
       "      <th>Arrival_Time_min</th>\n",
       "      <th>Arrival_Time_hr</th>\n",
       "      <th>D_Hr</th>\n",
       "      <th>D_min</th>\n",
       "    </tr>\n",
       "  </thead>\n",
       "  <tbody>\n",
       "    <tr>\n",
       "      <th>0</th>\n",
       "      <td>2019-11-01</td>\n",
       "      <td>69</td>\n",
       "      <td>SpiceJet Ltd</td>\n",
       "      <td>SG 191</td>\n",
       "      <td>2h 40 m</td>\n",
       "      <td>56.20</td>\n",
       "      <td>5</td>\n",
       "      <td>3732</td>\n",
       "      <td>11</td>\n",
       "      <td>1</td>\n",
       "      <td>0</td>\n",
       "      <td>20</td>\n",
       "      <td>6</td>\n",
       "      <td>00</td>\n",
       "      <td>9</td>\n",
       "      <td>120</td>\n",
       "      <td>40</td>\n",
       "    </tr>\n",
       "    <tr>\n",
       "      <th>1</th>\n",
       "      <td>2019-11-01</td>\n",
       "      <td>69</td>\n",
       "      <td>SpiceJet Ltd</td>\n",
       "      <td>SG 197</td>\n",
       "      <td>2h 50m</td>\n",
       "      <td>56.20</td>\n",
       "      <td>5</td>\n",
       "      <td>3732</td>\n",
       "      <td>11</td>\n",
       "      <td>1</td>\n",
       "      <td>0</td>\n",
       "      <td>35</td>\n",
       "      <td>16</td>\n",
       "      <td>25</td>\n",
       "      <td>19</td>\n",
       "      <td>120</td>\n",
       "      <td>50</td>\n",
       "    </tr>\n",
       "    <tr>\n",
       "      <th>2</th>\n",
       "      <td>2019-11-01</td>\n",
       "      <td>69</td>\n",
       "      <td>SpiceJet Ltd</td>\n",
       "      <td>SG 8719</td>\n",
       "      <td>2h 50m</td>\n",
       "      <td>56.20</td>\n",
       "      <td>5</td>\n",
       "      <td>3732</td>\n",
       "      <td>11</td>\n",
       "      <td>1</td>\n",
       "      <td>0</td>\n",
       "      <td>25</td>\n",
       "      <td>18</td>\n",
       "      <td>15</td>\n",
       "      <td>21</td>\n",
       "      <td>120</td>\n",
       "      <td>50</td>\n",
       "    </tr>\n",
       "    <tr>\n",
       "      <th>3</th>\n",
       "      <td>2019-11-01</td>\n",
       "      <td>69</td>\n",
       "      <td>SpiceJet Ltd</td>\n",
       "      <td>SG 8905</td>\n",
       "      <td>2h 30m</td>\n",
       "      <td>56.20</td>\n",
       "      <td>5</td>\n",
       "      <td>3732</td>\n",
       "      <td>11</td>\n",
       "      <td>1</td>\n",
       "      <td>0</td>\n",
       "      <td>55</td>\n",
       "      <td>19</td>\n",
       "      <td>55</td>\n",
       "      <td>22</td>\n",
       "      <td>120</td>\n",
       "      <td>30</td>\n",
       "    </tr>\n",
       "    <tr>\n",
       "      <th>4</th>\n",
       "      <td>2019-11-01</td>\n",
       "      <td>69</td>\n",
       "      <td>SpiceJet Ltd</td>\n",
       "      <td>SG 143</td>\n",
       "      <td>2h 40 m</td>\n",
       "      <td>56.20</td>\n",
       "      <td>5</td>\n",
       "      <td>4157</td>\n",
       "      <td>11</td>\n",
       "      <td>1</td>\n",
       "      <td>0</td>\n",
       "      <td>45</td>\n",
       "      <td>21</td>\n",
       "      <td>25</td>\n",
       "      <td>0</td>\n",
       "      <td>120</td>\n",
       "      <td>40</td>\n",
       "    </tr>\n",
       "    <tr>\n",
       "      <th>...</th>\n",
       "      <td>...</td>\n",
       "      <td>...</td>\n",
       "      <td>...</td>\n",
       "      <td>...</td>\n",
       "      <td>...</td>\n",
       "      <td>...</td>\n",
       "      <td>...</td>\n",
       "      <td>...</td>\n",
       "      <td>...</td>\n",
       "      <td>...</td>\n",
       "      <td>...</td>\n",
       "      <td>...</td>\n",
       "      <td>...</td>\n",
       "      <td>...</td>\n",
       "      <td>...</td>\n",
       "      <td>...</td>\n",
       "      <td>...</td>\n",
       "    </tr>\n",
       "    <tr>\n",
       "      <th>3001</th>\n",
       "      <td>2020-01-08</td>\n",
       "      <td>1</td>\n",
       "      <td>Vistra</td>\n",
       "      <td>UK 811</td>\n",
       "      <td>2h 45m</td>\n",
       "      <td>59.61</td>\n",
       "      <td>5</td>\n",
       "      <td>6883</td>\n",
       "      <td>1</td>\n",
       "      <td>8</td>\n",
       "      <td>0</td>\n",
       "      <td>20</td>\n",
       "      <td>6</td>\n",
       "      <td>05</td>\n",
       "      <td>9</td>\n",
       "      <td>120</td>\n",
       "      <td>45</td>\n",
       "    </tr>\n",
       "    <tr>\n",
       "      <th>3002</th>\n",
       "      <td>2020-01-08</td>\n",
       "      <td>1</td>\n",
       "      <td>Vistra</td>\n",
       "      <td>UK 815</td>\n",
       "      <td>2h 50m</td>\n",
       "      <td>59.61</td>\n",
       "      <td>5</td>\n",
       "      <td>9178</td>\n",
       "      <td>1</td>\n",
       "      <td>8</td>\n",
       "      <td>0</td>\n",
       "      <td>55</td>\n",
       "      <td>7</td>\n",
       "      <td>45</td>\n",
       "      <td>10</td>\n",
       "      <td>120</td>\n",
       "      <td>50</td>\n",
       "    </tr>\n",
       "    <tr>\n",
       "      <th>3003</th>\n",
       "      <td>2020-01-08</td>\n",
       "      <td>1</td>\n",
       "      <td>Vistra</td>\n",
       "      <td>UK 817</td>\n",
       "      <td>2h 45m</td>\n",
       "      <td>59.61</td>\n",
       "      <td>5</td>\n",
       "      <td>8653</td>\n",
       "      <td>1</td>\n",
       "      <td>8</td>\n",
       "      <td>0</td>\n",
       "      <td>05</td>\n",
       "      <td>16</td>\n",
       "      <td>50</td>\n",
       "      <td>18</td>\n",
       "      <td>120</td>\n",
       "      <td>45</td>\n",
       "    </tr>\n",
       "    <tr>\n",
       "      <th>3004</th>\n",
       "      <td>2020-01-08</td>\n",
       "      <td>1</td>\n",
       "      <td>Vistra</td>\n",
       "      <td>UK 813</td>\n",
       "      <td>2h 50m</td>\n",
       "      <td>59.61</td>\n",
       "      <td>5</td>\n",
       "      <td>7918</td>\n",
       "      <td>1</td>\n",
       "      <td>8</td>\n",
       "      <td>0</td>\n",
       "      <td>35</td>\n",
       "      <td>17</td>\n",
       "      <td>25</td>\n",
       "      <td>20</td>\n",
       "      <td>120</td>\n",
       "      <td>50</td>\n",
       "    </tr>\n",
       "    <tr>\n",
       "      <th>3005</th>\n",
       "      <td>2020-01-08</td>\n",
       "      <td>1</td>\n",
       "      <td>Vistra</td>\n",
       "      <td>UK 819</td>\n",
       "      <td>2h 55m</td>\n",
       "      <td>59.61</td>\n",
       "      <td>5</td>\n",
       "      <td>6883</td>\n",
       "      <td>1</td>\n",
       "      <td>8</td>\n",
       "      <td>0</td>\n",
       "      <td>55</td>\n",
       "      <td>13</td>\n",
       "      <td>50</td>\n",
       "      <td>16</td>\n",
       "      <td>120</td>\n",
       "      <td>55</td>\n",
       "    </tr>\n",
       "  </tbody>\n",
       "</table>\n",
       "<p>3006 rows × 17 columns</p>\n",
       "</div>"
      ],
      "text/plain": [
       "     taken date  no.of_days_left       Airline Aeroplane_ID Duration  \\\n",
       "0    2019-11-01               69  SpiceJet Ltd       SG 191  2h 40 m   \n",
       "1    2019-11-01               69  SpiceJet Ltd       SG 197   2h 50m   \n",
       "2    2019-11-01               69  SpiceJet Ltd      SG 8719   2h 50m   \n",
       "3    2019-11-01               69  SpiceJet Ltd      SG 8905   2h 30m   \n",
       "4    2019-11-01               69  SpiceJet Ltd       SG 143  2h 40 m   \n",
       "...         ...              ...           ...          ...      ...   \n",
       "3001 2020-01-08                1        Vistra       UK 811   2h 45m   \n",
       "3002 2020-01-08                1        Vistra       UK 815   2h 50m   \n",
       "3003 2020-01-08                1        Vistra       UK 817   2h 45m   \n",
       "3004 2020-01-08                1        Vistra       UK 813   2h 50m   \n",
       "3005 2020-01-08                1        Vistra       UK 819   2h 55m   \n",
       "\n",
       "      Cruidoilprice  no_of_competitors on root  price   month  day  isWEEKDAY  \\\n",
       "0             56.20                          5    3732     11    1          0   \n",
       "1             56.20                          5    3732     11    1          0   \n",
       "2             56.20                          5    3732     11    1          0   \n",
       "3             56.20                          5    3732     11    1          0   \n",
       "4             56.20                          5    4157     11    1          0   \n",
       "...             ...                        ...     ...    ...  ...        ...   \n",
       "3001          59.61                          5    6883      1    8          0   \n",
       "3002          59.61                          5    9178      1    8          0   \n",
       "3003          59.61                          5    8653      1    8          0   \n",
       "3004          59.61                          5    7918      1    8          0   \n",
       "3005          59.61                          5    6883      1    8          0   \n",
       "\n",
       "     Dep_Time_min Dep_Time_hr Arrival_Time_min Arrival_Time_hr  D_Hr D_min  \n",
       "0              20           6               00               9   120   40   \n",
       "1              35          16               25              19   120    50  \n",
       "2              25          18               15              21   120    50  \n",
       "3              55          19               55              22   120    30  \n",
       "4              45          21               25               0   120   40   \n",
       "...           ...         ...              ...             ...   ...   ...  \n",
       "3001           20           6               05               9   120    45  \n",
       "3002           55           7               45              10   120    50  \n",
       "3003           05          16               50              18   120    45  \n",
       "3004           35          17               25              20   120    50  \n",
       "3005           55          13               50              16   120    55  \n",
       "\n",
       "[3006 rows x 17 columns]"
      ]
     },
     "execution_count": 52,
     "metadata": {},
     "output_type": "execute_result"
    }
   ],
   "source": [
    "df\n"
   ]
  },
  {
   "cell_type": "code",
   "execution_count": 53,
   "metadata": {},
   "outputs": [],
   "source": [
    "df['D_min']=df['D_min'].astype(int)"
   ]
  },
  {
   "cell_type": "code",
   "execution_count": 54,
   "metadata": {},
   "outputs": [
    {
     "data": {
      "text/plain": [
       "0       40\n",
       "1       50\n",
       "2       50\n",
       "3       30\n",
       "4       40\n",
       "        ..\n",
       "3001    45\n",
       "3002    50\n",
       "3003    45\n",
       "3004    50\n",
       "3005    55\n",
       "Name: D_min, Length: 3006, dtype: int32"
      ]
     },
     "execution_count": 54,
     "metadata": {},
     "output_type": "execute_result"
    }
   ],
   "source": [
    "df['D_min']"
   ]
  },
  {
   "cell_type": "code",
   "execution_count": 55,
   "metadata": {},
   "outputs": [],
   "source": [
    "df['Total_Duration']=df['D_Hr']+df['D_min']"
   ]
  },
  {
   "cell_type": "code",
   "execution_count": 56,
   "metadata": {},
   "outputs": [
    {
     "data": {
      "text/html": [
       "<div>\n",
       "<style scoped>\n",
       "    .dataframe tbody tr th:only-of-type {\n",
       "        vertical-align: middle;\n",
       "    }\n",
       "\n",
       "    .dataframe tbody tr th {\n",
       "        vertical-align: top;\n",
       "    }\n",
       "\n",
       "    .dataframe thead th {\n",
       "        text-align: right;\n",
       "    }\n",
       "</style>\n",
       "<table border=\"1\" class=\"dataframe\">\n",
       "  <thead>\n",
       "    <tr style=\"text-align: right;\">\n",
       "      <th></th>\n",
       "      <th>taken date</th>\n",
       "      <th>no.of_days_left</th>\n",
       "      <th>Airline</th>\n",
       "      <th>Aeroplane_ID</th>\n",
       "      <th>Duration</th>\n",
       "      <th>Cruidoilprice</th>\n",
       "      <th>no_of_competitors on root</th>\n",
       "      <th>price</th>\n",
       "      <th>month</th>\n",
       "      <th>day</th>\n",
       "      <th>isWEEKDAY</th>\n",
       "      <th>Dep_Time_min</th>\n",
       "      <th>Dep_Time_hr</th>\n",
       "      <th>Arrival_Time_min</th>\n",
       "      <th>Arrival_Time_hr</th>\n",
       "      <th>D_Hr</th>\n",
       "      <th>D_min</th>\n",
       "      <th>Total_Duration</th>\n",
       "    </tr>\n",
       "  </thead>\n",
       "  <tbody>\n",
       "    <tr>\n",
       "      <th>0</th>\n",
       "      <td>2019-11-01</td>\n",
       "      <td>69</td>\n",
       "      <td>SpiceJet Ltd</td>\n",
       "      <td>SG 191</td>\n",
       "      <td>2h 40 m</td>\n",
       "      <td>56.2</td>\n",
       "      <td>5</td>\n",
       "      <td>3732</td>\n",
       "      <td>11</td>\n",
       "      <td>1</td>\n",
       "      <td>0</td>\n",
       "      <td>20</td>\n",
       "      <td>6</td>\n",
       "      <td>00</td>\n",
       "      <td>9</td>\n",
       "      <td>120</td>\n",
       "      <td>40</td>\n",
       "      <td>160</td>\n",
       "    </tr>\n",
       "    <tr>\n",
       "      <th>1</th>\n",
       "      <td>2019-11-01</td>\n",
       "      <td>69</td>\n",
       "      <td>SpiceJet Ltd</td>\n",
       "      <td>SG 197</td>\n",
       "      <td>2h 50m</td>\n",
       "      <td>56.2</td>\n",
       "      <td>5</td>\n",
       "      <td>3732</td>\n",
       "      <td>11</td>\n",
       "      <td>1</td>\n",
       "      <td>0</td>\n",
       "      <td>35</td>\n",
       "      <td>16</td>\n",
       "      <td>25</td>\n",
       "      <td>19</td>\n",
       "      <td>120</td>\n",
       "      <td>50</td>\n",
       "      <td>170</td>\n",
       "    </tr>\n",
       "    <tr>\n",
       "      <th>2</th>\n",
       "      <td>2019-11-01</td>\n",
       "      <td>69</td>\n",
       "      <td>SpiceJet Ltd</td>\n",
       "      <td>SG 8719</td>\n",
       "      <td>2h 50m</td>\n",
       "      <td>56.2</td>\n",
       "      <td>5</td>\n",
       "      <td>3732</td>\n",
       "      <td>11</td>\n",
       "      <td>1</td>\n",
       "      <td>0</td>\n",
       "      <td>25</td>\n",
       "      <td>18</td>\n",
       "      <td>15</td>\n",
       "      <td>21</td>\n",
       "      <td>120</td>\n",
       "      <td>50</td>\n",
       "      <td>170</td>\n",
       "    </tr>\n",
       "    <tr>\n",
       "      <th>3</th>\n",
       "      <td>2019-11-01</td>\n",
       "      <td>69</td>\n",
       "      <td>SpiceJet Ltd</td>\n",
       "      <td>SG 8905</td>\n",
       "      <td>2h 30m</td>\n",
       "      <td>56.2</td>\n",
       "      <td>5</td>\n",
       "      <td>3732</td>\n",
       "      <td>11</td>\n",
       "      <td>1</td>\n",
       "      <td>0</td>\n",
       "      <td>55</td>\n",
       "      <td>19</td>\n",
       "      <td>55</td>\n",
       "      <td>22</td>\n",
       "      <td>120</td>\n",
       "      <td>30</td>\n",
       "      <td>150</td>\n",
       "    </tr>\n",
       "    <tr>\n",
       "      <th>4</th>\n",
       "      <td>2019-11-01</td>\n",
       "      <td>69</td>\n",
       "      <td>SpiceJet Ltd</td>\n",
       "      <td>SG 143</td>\n",
       "      <td>2h 40 m</td>\n",
       "      <td>56.2</td>\n",
       "      <td>5</td>\n",
       "      <td>4157</td>\n",
       "      <td>11</td>\n",
       "      <td>1</td>\n",
       "      <td>0</td>\n",
       "      <td>45</td>\n",
       "      <td>21</td>\n",
       "      <td>25</td>\n",
       "      <td>0</td>\n",
       "      <td>120</td>\n",
       "      <td>40</td>\n",
       "      <td>160</td>\n",
       "    </tr>\n",
       "  </tbody>\n",
       "</table>\n",
       "</div>"
      ],
      "text/plain": [
       "  taken date  no.of_days_left       Airline Aeroplane_ID Duration  \\\n",
       "0 2019-11-01               69  SpiceJet Ltd       SG 191  2h 40 m   \n",
       "1 2019-11-01               69  SpiceJet Ltd       SG 197   2h 50m   \n",
       "2 2019-11-01               69  SpiceJet Ltd      SG 8719   2h 50m   \n",
       "3 2019-11-01               69  SpiceJet Ltd      SG 8905   2h 30m   \n",
       "4 2019-11-01               69  SpiceJet Ltd       SG 143  2h 40 m   \n",
       "\n",
       "   Cruidoilprice  no_of_competitors on root  price   month  day  isWEEKDAY  \\\n",
       "0           56.2                          5    3732     11    1          0   \n",
       "1           56.2                          5    3732     11    1          0   \n",
       "2           56.2                          5    3732     11    1          0   \n",
       "3           56.2                          5    3732     11    1          0   \n",
       "4           56.2                          5    4157     11    1          0   \n",
       "\n",
       "  Dep_Time_min Dep_Time_hr Arrival_Time_min Arrival_Time_hr  D_Hr  D_min  \\\n",
       "0           20           6               00               9   120     40   \n",
       "1           35          16               25              19   120     50   \n",
       "2           25          18               15              21   120     50   \n",
       "3           55          19               55              22   120     30   \n",
       "4           45          21               25               0   120     40   \n",
       "\n",
       "   Total_Duration  \n",
       "0             160  \n",
       "1             170  \n",
       "2             170  \n",
       "3             150  \n",
       "4             160  "
      ]
     },
     "execution_count": 56,
     "metadata": {},
     "output_type": "execute_result"
    }
   ],
   "source": [
    "df.head()"
   ]
  },
  {
   "cell_type": "code",
   "execution_count": 57,
   "metadata": {},
   "outputs": [],
   "source": [
    "df.drop('Duration',axis=1,inplace=True)"
   ]
  },
  {
   "cell_type": "code",
   "execution_count": 58,
   "metadata": {},
   "outputs": [],
   "source": [
    "df.drop('Airline',axis=1,inplace=True)"
   ]
  },
  {
   "cell_type": "code",
   "execution_count": 59,
   "metadata": {},
   "outputs": [],
   "source": [
    "df.drop('Aeroplane_ID',axis=1,inplace=True)"
   ]
  },
  {
   "cell_type": "code",
   "execution_count": 60,
   "metadata": {},
   "outputs": [
    {
     "data": {
      "text/html": [
       "<div>\n",
       "<style scoped>\n",
       "    .dataframe tbody tr th:only-of-type {\n",
       "        vertical-align: middle;\n",
       "    }\n",
       "\n",
       "    .dataframe tbody tr th {\n",
       "        vertical-align: top;\n",
       "    }\n",
       "\n",
       "    .dataframe thead th {\n",
       "        text-align: right;\n",
       "    }\n",
       "</style>\n",
       "<table border=\"1\" class=\"dataframe\">\n",
       "  <thead>\n",
       "    <tr style=\"text-align: right;\">\n",
       "      <th></th>\n",
       "      <th>taken date</th>\n",
       "      <th>no.of_days_left</th>\n",
       "      <th>Cruidoilprice</th>\n",
       "      <th>no_of_competitors on root</th>\n",
       "      <th>price</th>\n",
       "      <th>month</th>\n",
       "      <th>day</th>\n",
       "      <th>isWEEKDAY</th>\n",
       "      <th>Dep_Time_min</th>\n",
       "      <th>Dep_Time_hr</th>\n",
       "      <th>Arrival_Time_min</th>\n",
       "      <th>Arrival_Time_hr</th>\n",
       "      <th>D_Hr</th>\n",
       "      <th>D_min</th>\n",
       "      <th>Total_Duration</th>\n",
       "    </tr>\n",
       "  </thead>\n",
       "  <tbody>\n",
       "    <tr>\n",
       "      <th>0</th>\n",
       "      <td>2019-11-01</td>\n",
       "      <td>69</td>\n",
       "      <td>56.2</td>\n",
       "      <td>5</td>\n",
       "      <td>3732</td>\n",
       "      <td>11</td>\n",
       "      <td>1</td>\n",
       "      <td>0</td>\n",
       "      <td>20</td>\n",
       "      <td>6</td>\n",
       "      <td>00</td>\n",
       "      <td>9</td>\n",
       "      <td>120</td>\n",
       "      <td>40</td>\n",
       "      <td>160</td>\n",
       "    </tr>\n",
       "    <tr>\n",
       "      <th>1</th>\n",
       "      <td>2019-11-01</td>\n",
       "      <td>69</td>\n",
       "      <td>56.2</td>\n",
       "      <td>5</td>\n",
       "      <td>3732</td>\n",
       "      <td>11</td>\n",
       "      <td>1</td>\n",
       "      <td>0</td>\n",
       "      <td>35</td>\n",
       "      <td>16</td>\n",
       "      <td>25</td>\n",
       "      <td>19</td>\n",
       "      <td>120</td>\n",
       "      <td>50</td>\n",
       "      <td>170</td>\n",
       "    </tr>\n",
       "    <tr>\n",
       "      <th>2</th>\n",
       "      <td>2019-11-01</td>\n",
       "      <td>69</td>\n",
       "      <td>56.2</td>\n",
       "      <td>5</td>\n",
       "      <td>3732</td>\n",
       "      <td>11</td>\n",
       "      <td>1</td>\n",
       "      <td>0</td>\n",
       "      <td>25</td>\n",
       "      <td>18</td>\n",
       "      <td>15</td>\n",
       "      <td>21</td>\n",
       "      <td>120</td>\n",
       "      <td>50</td>\n",
       "      <td>170</td>\n",
       "    </tr>\n",
       "    <tr>\n",
       "      <th>3</th>\n",
       "      <td>2019-11-01</td>\n",
       "      <td>69</td>\n",
       "      <td>56.2</td>\n",
       "      <td>5</td>\n",
       "      <td>3732</td>\n",
       "      <td>11</td>\n",
       "      <td>1</td>\n",
       "      <td>0</td>\n",
       "      <td>55</td>\n",
       "      <td>19</td>\n",
       "      <td>55</td>\n",
       "      <td>22</td>\n",
       "      <td>120</td>\n",
       "      <td>30</td>\n",
       "      <td>150</td>\n",
       "    </tr>\n",
       "    <tr>\n",
       "      <th>4</th>\n",
       "      <td>2019-11-01</td>\n",
       "      <td>69</td>\n",
       "      <td>56.2</td>\n",
       "      <td>5</td>\n",
       "      <td>4157</td>\n",
       "      <td>11</td>\n",
       "      <td>1</td>\n",
       "      <td>0</td>\n",
       "      <td>45</td>\n",
       "      <td>21</td>\n",
       "      <td>25</td>\n",
       "      <td>0</td>\n",
       "      <td>120</td>\n",
       "      <td>40</td>\n",
       "      <td>160</td>\n",
       "    </tr>\n",
       "  </tbody>\n",
       "</table>\n",
       "</div>"
      ],
      "text/plain": [
       "  taken date  no.of_days_left  Cruidoilprice  no_of_competitors on root  \\\n",
       "0 2019-11-01               69           56.2                          5   \n",
       "1 2019-11-01               69           56.2                          5   \n",
       "2 2019-11-01               69           56.2                          5   \n",
       "3 2019-11-01               69           56.2                          5   \n",
       "4 2019-11-01               69           56.2                          5   \n",
       "\n",
       "   price   month  day  isWEEKDAY Dep_Time_min Dep_Time_hr Arrival_Time_min  \\\n",
       "0    3732     11    1          0           20           6               00   \n",
       "1    3732     11    1          0           35          16               25   \n",
       "2    3732     11    1          0           25          18               15   \n",
       "3    3732     11    1          0           55          19               55   \n",
       "4    4157     11    1          0           45          21               25   \n",
       "\n",
       "  Arrival_Time_hr  D_Hr  D_min  Total_Duration  \n",
       "0               9   120     40             160  \n",
       "1              19   120     50             170  \n",
       "2              21   120     50             170  \n",
       "3              22   120     30             150  \n",
       "4               0   120     40             160  "
      ]
     },
     "execution_count": 60,
     "metadata": {},
     "output_type": "execute_result"
    }
   ],
   "source": [
    "df.head()"
   ]
  },
  {
   "cell_type": "code",
   "execution_count": 61,
   "metadata": {},
   "outputs": [],
   "source": [
    "df.drop('D_Hr',axis=1,inplace=True)"
   ]
  },
  {
   "cell_type": "code",
   "execution_count": 62,
   "metadata": {},
   "outputs": [],
   "source": [
    "df.drop('D_min',axis=1,inplace=True)"
   ]
  },
  {
   "cell_type": "code",
   "execution_count": 63,
   "metadata": {},
   "outputs": [],
   "source": [
    "df.drop('no_of_competitors on root',axis=1,inplace=True)"
   ]
  },
  {
   "cell_type": "code",
   "execution_count": 64,
   "metadata": {},
   "outputs": [
    {
     "data": {
      "text/html": [
       "<div>\n",
       "<style scoped>\n",
       "    .dataframe tbody tr th:only-of-type {\n",
       "        vertical-align: middle;\n",
       "    }\n",
       "\n",
       "    .dataframe tbody tr th {\n",
       "        vertical-align: top;\n",
       "    }\n",
       "\n",
       "    .dataframe thead th {\n",
       "        text-align: right;\n",
       "    }\n",
       "</style>\n",
       "<table border=\"1\" class=\"dataframe\">\n",
       "  <thead>\n",
       "    <tr style=\"text-align: right;\">\n",
       "      <th></th>\n",
       "      <th>taken date</th>\n",
       "      <th>no.of_days_left</th>\n",
       "      <th>Cruidoilprice</th>\n",
       "      <th>price</th>\n",
       "      <th>month</th>\n",
       "      <th>day</th>\n",
       "      <th>isWEEKDAY</th>\n",
       "      <th>Dep_Time_min</th>\n",
       "      <th>Dep_Time_hr</th>\n",
       "      <th>Arrival_Time_min</th>\n",
       "      <th>Arrival_Time_hr</th>\n",
       "      <th>Total_Duration</th>\n",
       "    </tr>\n",
       "  </thead>\n",
       "  <tbody>\n",
       "    <tr>\n",
       "      <th>0</th>\n",
       "      <td>2019-11-01</td>\n",
       "      <td>69</td>\n",
       "      <td>56.2</td>\n",
       "      <td>3732</td>\n",
       "      <td>11</td>\n",
       "      <td>1</td>\n",
       "      <td>0</td>\n",
       "      <td>20</td>\n",
       "      <td>6</td>\n",
       "      <td>00</td>\n",
       "      <td>9</td>\n",
       "      <td>160</td>\n",
       "    </tr>\n",
       "    <tr>\n",
       "      <th>1</th>\n",
       "      <td>2019-11-01</td>\n",
       "      <td>69</td>\n",
       "      <td>56.2</td>\n",
       "      <td>3732</td>\n",
       "      <td>11</td>\n",
       "      <td>1</td>\n",
       "      <td>0</td>\n",
       "      <td>35</td>\n",
       "      <td>16</td>\n",
       "      <td>25</td>\n",
       "      <td>19</td>\n",
       "      <td>170</td>\n",
       "    </tr>\n",
       "    <tr>\n",
       "      <th>2</th>\n",
       "      <td>2019-11-01</td>\n",
       "      <td>69</td>\n",
       "      <td>56.2</td>\n",
       "      <td>3732</td>\n",
       "      <td>11</td>\n",
       "      <td>1</td>\n",
       "      <td>0</td>\n",
       "      <td>25</td>\n",
       "      <td>18</td>\n",
       "      <td>15</td>\n",
       "      <td>21</td>\n",
       "      <td>170</td>\n",
       "    </tr>\n",
       "    <tr>\n",
       "      <th>3</th>\n",
       "      <td>2019-11-01</td>\n",
       "      <td>69</td>\n",
       "      <td>56.2</td>\n",
       "      <td>3732</td>\n",
       "      <td>11</td>\n",
       "      <td>1</td>\n",
       "      <td>0</td>\n",
       "      <td>55</td>\n",
       "      <td>19</td>\n",
       "      <td>55</td>\n",
       "      <td>22</td>\n",
       "      <td>150</td>\n",
       "    </tr>\n",
       "    <tr>\n",
       "      <th>4</th>\n",
       "      <td>2019-11-01</td>\n",
       "      <td>69</td>\n",
       "      <td>56.2</td>\n",
       "      <td>4157</td>\n",
       "      <td>11</td>\n",
       "      <td>1</td>\n",
       "      <td>0</td>\n",
       "      <td>45</td>\n",
       "      <td>21</td>\n",
       "      <td>25</td>\n",
       "      <td>0</td>\n",
       "      <td>160</td>\n",
       "    </tr>\n",
       "  </tbody>\n",
       "</table>\n",
       "</div>"
      ],
      "text/plain": [
       "  taken date  no.of_days_left  Cruidoilprice  price   month  day  isWEEKDAY  \\\n",
       "0 2019-11-01               69           56.2    3732     11    1          0   \n",
       "1 2019-11-01               69           56.2    3732     11    1          0   \n",
       "2 2019-11-01               69           56.2    3732     11    1          0   \n",
       "3 2019-11-01               69           56.2    3732     11    1          0   \n",
       "4 2019-11-01               69           56.2    4157     11    1          0   \n",
       "\n",
       "  Dep_Time_min Dep_Time_hr Arrival_Time_min Arrival_Time_hr  Total_Duration  \n",
       "0           20           6               00               9             160  \n",
       "1           35          16               25              19             170  \n",
       "2           25          18               15              21             170  \n",
       "3           55          19               55              22             150  \n",
       "4           45          21               25               0             160  "
      ]
     },
     "execution_count": 64,
     "metadata": {},
     "output_type": "execute_result"
    }
   ],
   "source": [
    "df.head()"
   ]
  },
  {
   "cell_type": "code",
   "execution_count": 65,
   "metadata": {},
   "outputs": [],
   "source": [
    "df[\"Day_of_Week\"] = pd.to_datetime(df[\"taken date\"], format = '%m/%d/%Y').dt.day_name()"
   ]
  },
  {
   "cell_type": "code",
   "execution_count": 66,
   "metadata": {},
   "outputs": [
    {
     "data": {
      "text/html": [
       "<div>\n",
       "<style scoped>\n",
       "    .dataframe tbody tr th:only-of-type {\n",
       "        vertical-align: middle;\n",
       "    }\n",
       "\n",
       "    .dataframe tbody tr th {\n",
       "        vertical-align: top;\n",
       "    }\n",
       "\n",
       "    .dataframe thead th {\n",
       "        text-align: right;\n",
       "    }\n",
       "</style>\n",
       "<table border=\"1\" class=\"dataframe\">\n",
       "  <thead>\n",
       "    <tr style=\"text-align: right;\">\n",
       "      <th></th>\n",
       "      <th>taken date</th>\n",
       "      <th>no.of_days_left</th>\n",
       "      <th>Cruidoilprice</th>\n",
       "      <th>price</th>\n",
       "      <th>month</th>\n",
       "      <th>day</th>\n",
       "      <th>isWEEKDAY</th>\n",
       "      <th>Dep_Time_min</th>\n",
       "      <th>Dep_Time_hr</th>\n",
       "      <th>Arrival_Time_min</th>\n",
       "      <th>Arrival_Time_hr</th>\n",
       "      <th>Total_Duration</th>\n",
       "      <th>Day_of_Week</th>\n",
       "    </tr>\n",
       "  </thead>\n",
       "  <tbody>\n",
       "    <tr>\n",
       "      <th>0</th>\n",
       "      <td>2019-11-01</td>\n",
       "      <td>69</td>\n",
       "      <td>56.2</td>\n",
       "      <td>3732</td>\n",
       "      <td>11</td>\n",
       "      <td>1</td>\n",
       "      <td>0</td>\n",
       "      <td>20</td>\n",
       "      <td>6</td>\n",
       "      <td>00</td>\n",
       "      <td>9</td>\n",
       "      <td>160</td>\n",
       "      <td>Friday</td>\n",
       "    </tr>\n",
       "    <tr>\n",
       "      <th>1</th>\n",
       "      <td>2019-11-01</td>\n",
       "      <td>69</td>\n",
       "      <td>56.2</td>\n",
       "      <td>3732</td>\n",
       "      <td>11</td>\n",
       "      <td>1</td>\n",
       "      <td>0</td>\n",
       "      <td>35</td>\n",
       "      <td>16</td>\n",
       "      <td>25</td>\n",
       "      <td>19</td>\n",
       "      <td>170</td>\n",
       "      <td>Friday</td>\n",
       "    </tr>\n",
       "    <tr>\n",
       "      <th>2</th>\n",
       "      <td>2019-11-01</td>\n",
       "      <td>69</td>\n",
       "      <td>56.2</td>\n",
       "      <td>3732</td>\n",
       "      <td>11</td>\n",
       "      <td>1</td>\n",
       "      <td>0</td>\n",
       "      <td>25</td>\n",
       "      <td>18</td>\n",
       "      <td>15</td>\n",
       "      <td>21</td>\n",
       "      <td>170</td>\n",
       "      <td>Friday</td>\n",
       "    </tr>\n",
       "    <tr>\n",
       "      <th>3</th>\n",
       "      <td>2019-11-01</td>\n",
       "      <td>69</td>\n",
       "      <td>56.2</td>\n",
       "      <td>3732</td>\n",
       "      <td>11</td>\n",
       "      <td>1</td>\n",
       "      <td>0</td>\n",
       "      <td>55</td>\n",
       "      <td>19</td>\n",
       "      <td>55</td>\n",
       "      <td>22</td>\n",
       "      <td>150</td>\n",
       "      <td>Friday</td>\n",
       "    </tr>\n",
       "    <tr>\n",
       "      <th>4</th>\n",
       "      <td>2019-11-01</td>\n",
       "      <td>69</td>\n",
       "      <td>56.2</td>\n",
       "      <td>4157</td>\n",
       "      <td>11</td>\n",
       "      <td>1</td>\n",
       "      <td>0</td>\n",
       "      <td>45</td>\n",
       "      <td>21</td>\n",
       "      <td>25</td>\n",
       "      <td>0</td>\n",
       "      <td>160</td>\n",
       "      <td>Friday</td>\n",
       "    </tr>\n",
       "  </tbody>\n",
       "</table>\n",
       "</div>"
      ],
      "text/plain": [
       "  taken date  no.of_days_left  Cruidoilprice  price   month  day  isWEEKDAY  \\\n",
       "0 2019-11-01               69           56.2    3732     11    1          0   \n",
       "1 2019-11-01               69           56.2    3732     11    1          0   \n",
       "2 2019-11-01               69           56.2    3732     11    1          0   \n",
       "3 2019-11-01               69           56.2    3732     11    1          0   \n",
       "4 2019-11-01               69           56.2    4157     11    1          0   \n",
       "\n",
       "  Dep_Time_min Dep_Time_hr Arrival_Time_min Arrival_Time_hr  Total_Duration  \\\n",
       "0           20           6               00               9             160   \n",
       "1           35          16               25              19             170   \n",
       "2           25          18               15              21             170   \n",
       "3           55          19               55              22             150   \n",
       "4           45          21               25               0             160   \n",
       "\n",
       "  Day_of_Week  \n",
       "0      Friday  \n",
       "1      Friday  \n",
       "2      Friday  \n",
       "3      Friday  \n",
       "4      Friday  "
      ]
     },
     "execution_count": 66,
     "metadata": {},
     "output_type": "execute_result"
    }
   ],
   "source": [
    "df.head()"
   ]
  },
  {
   "cell_type": "code",
   "execution_count": 67,
   "metadata": {},
   "outputs": [],
   "source": [
    "df.Day_of_Week.replace(['Monday','Tuesday','Wednesday','Thursday','Friday','Saturday','Sunday'], [1,2,3,4,5,6,7], inplace=True)\n",
    "df[\"Day_of_Week\"] = df[\"Day_of_Week\"].astype(int)"
   ]
  },
  {
   "cell_type": "code",
   "execution_count": 68,
   "metadata": {},
   "outputs": [
    {
     "data": {
      "text/html": [
       "<div>\n",
       "<style scoped>\n",
       "    .dataframe tbody tr th:only-of-type {\n",
       "        vertical-align: middle;\n",
       "    }\n",
       "\n",
       "    .dataframe tbody tr th {\n",
       "        vertical-align: top;\n",
       "    }\n",
       "\n",
       "    .dataframe thead th {\n",
       "        text-align: right;\n",
       "    }\n",
       "</style>\n",
       "<table border=\"1\" class=\"dataframe\">\n",
       "  <thead>\n",
       "    <tr style=\"text-align: right;\">\n",
       "      <th></th>\n",
       "      <th>taken date</th>\n",
       "      <th>no.of_days_left</th>\n",
       "      <th>Cruidoilprice</th>\n",
       "      <th>price</th>\n",
       "      <th>month</th>\n",
       "      <th>day</th>\n",
       "      <th>isWEEKDAY</th>\n",
       "      <th>Dep_Time_min</th>\n",
       "      <th>Dep_Time_hr</th>\n",
       "      <th>Arrival_Time_min</th>\n",
       "      <th>Arrival_Time_hr</th>\n",
       "      <th>Total_Duration</th>\n",
       "      <th>Day_of_Week</th>\n",
       "    </tr>\n",
       "  </thead>\n",
       "  <tbody>\n",
       "    <tr>\n",
       "      <th>0</th>\n",
       "      <td>2019-11-01</td>\n",
       "      <td>69</td>\n",
       "      <td>56.2</td>\n",
       "      <td>3732</td>\n",
       "      <td>11</td>\n",
       "      <td>1</td>\n",
       "      <td>0</td>\n",
       "      <td>20</td>\n",
       "      <td>6</td>\n",
       "      <td>00</td>\n",
       "      <td>9</td>\n",
       "      <td>160</td>\n",
       "      <td>5</td>\n",
       "    </tr>\n",
       "    <tr>\n",
       "      <th>1</th>\n",
       "      <td>2019-11-01</td>\n",
       "      <td>69</td>\n",
       "      <td>56.2</td>\n",
       "      <td>3732</td>\n",
       "      <td>11</td>\n",
       "      <td>1</td>\n",
       "      <td>0</td>\n",
       "      <td>35</td>\n",
       "      <td>16</td>\n",
       "      <td>25</td>\n",
       "      <td>19</td>\n",
       "      <td>170</td>\n",
       "      <td>5</td>\n",
       "    </tr>\n",
       "    <tr>\n",
       "      <th>2</th>\n",
       "      <td>2019-11-01</td>\n",
       "      <td>69</td>\n",
       "      <td>56.2</td>\n",
       "      <td>3732</td>\n",
       "      <td>11</td>\n",
       "      <td>1</td>\n",
       "      <td>0</td>\n",
       "      <td>25</td>\n",
       "      <td>18</td>\n",
       "      <td>15</td>\n",
       "      <td>21</td>\n",
       "      <td>170</td>\n",
       "      <td>5</td>\n",
       "    </tr>\n",
       "    <tr>\n",
       "      <th>3</th>\n",
       "      <td>2019-11-01</td>\n",
       "      <td>69</td>\n",
       "      <td>56.2</td>\n",
       "      <td>3732</td>\n",
       "      <td>11</td>\n",
       "      <td>1</td>\n",
       "      <td>0</td>\n",
       "      <td>55</td>\n",
       "      <td>19</td>\n",
       "      <td>55</td>\n",
       "      <td>22</td>\n",
       "      <td>150</td>\n",
       "      <td>5</td>\n",
       "    </tr>\n",
       "    <tr>\n",
       "      <th>4</th>\n",
       "      <td>2019-11-01</td>\n",
       "      <td>69</td>\n",
       "      <td>56.2</td>\n",
       "      <td>4157</td>\n",
       "      <td>11</td>\n",
       "      <td>1</td>\n",
       "      <td>0</td>\n",
       "      <td>45</td>\n",
       "      <td>21</td>\n",
       "      <td>25</td>\n",
       "      <td>0</td>\n",
       "      <td>160</td>\n",
       "      <td>5</td>\n",
       "    </tr>\n",
       "  </tbody>\n",
       "</table>\n",
       "</div>"
      ],
      "text/plain": [
       "  taken date  no.of_days_left  Cruidoilprice  price   month  day  isWEEKDAY  \\\n",
       "0 2019-11-01               69           56.2    3732     11    1          0   \n",
       "1 2019-11-01               69           56.2    3732     11    1          0   \n",
       "2 2019-11-01               69           56.2    3732     11    1          0   \n",
       "3 2019-11-01               69           56.2    3732     11    1          0   \n",
       "4 2019-11-01               69           56.2    4157     11    1          0   \n",
       "\n",
       "  Dep_Time_min Dep_Time_hr Arrival_Time_min Arrival_Time_hr  Total_Duration  \\\n",
       "0           20           6               00               9             160   \n",
       "1           35          16               25              19             170   \n",
       "2           25          18               15              21             170   \n",
       "3           55          19               55              22             150   \n",
       "4           45          21               25               0             160   \n",
       "\n",
       "   Day_of_Week  \n",
       "0            5  \n",
       "1            5  \n",
       "2            5  \n",
       "3            5  \n",
       "4            5  "
      ]
     },
     "execution_count": 68,
     "metadata": {},
     "output_type": "execute_result"
    }
   ],
   "source": [
    "df.head()"
   ]
  },
  {
   "cell_type": "code",
   "execution_count": 69,
   "metadata": {},
   "outputs": [
    {
     "data": {
      "text/plain": [
       "0        6\n",
       "1       16\n",
       "2       18\n",
       "3       19\n",
       "4       21\n",
       "        ..\n",
       "3001     6\n",
       "3002     7\n",
       "3003    16\n",
       "3004    17\n",
       "3005    13\n",
       "Name: Dep_Time_hr, Length: 3006, dtype: int64"
      ]
     },
     "execution_count": 69,
     "metadata": {},
     "output_type": "execute_result"
    }
   ],
   "source": [
    "df['Dep_Time_hr'].astype(np.int64)"
   ]
  },
  {
   "cell_type": "code",
   "execution_count": 70,
   "metadata": {},
   "outputs": [
    {
     "data": {
      "text/html": [
       "<div>\n",
       "<style scoped>\n",
       "    .dataframe tbody tr th:only-of-type {\n",
       "        vertical-align: middle;\n",
       "    }\n",
       "\n",
       "    .dataframe tbody tr th {\n",
       "        vertical-align: top;\n",
       "    }\n",
       "\n",
       "    .dataframe thead th {\n",
       "        text-align: right;\n",
       "    }\n",
       "</style>\n",
       "<table border=\"1\" class=\"dataframe\">\n",
       "  <thead>\n",
       "    <tr style=\"text-align: right;\">\n",
       "      <th></th>\n",
       "      <th>taken date</th>\n",
       "      <th>no.of_days_left</th>\n",
       "      <th>Cruidoilprice</th>\n",
       "      <th>price</th>\n",
       "      <th>month</th>\n",
       "      <th>day</th>\n",
       "      <th>isWEEKDAY</th>\n",
       "      <th>Dep_Time_min</th>\n",
       "      <th>Dep_Time_hr</th>\n",
       "      <th>Arrival_Time_min</th>\n",
       "      <th>Arrival_Time_hr</th>\n",
       "      <th>Total_Duration</th>\n",
       "      <th>Day_of_Week</th>\n",
       "    </tr>\n",
       "  </thead>\n",
       "  <tbody>\n",
       "    <tr>\n",
       "      <th>0</th>\n",
       "      <td>2019-11-01</td>\n",
       "      <td>69</td>\n",
       "      <td>56.2</td>\n",
       "      <td>3732</td>\n",
       "      <td>11</td>\n",
       "      <td>1</td>\n",
       "      <td>0</td>\n",
       "      <td>20</td>\n",
       "      <td>6</td>\n",
       "      <td>00</td>\n",
       "      <td>9</td>\n",
       "      <td>160</td>\n",
       "      <td>5</td>\n",
       "    </tr>\n",
       "    <tr>\n",
       "      <th>1</th>\n",
       "      <td>2019-11-01</td>\n",
       "      <td>69</td>\n",
       "      <td>56.2</td>\n",
       "      <td>3732</td>\n",
       "      <td>11</td>\n",
       "      <td>1</td>\n",
       "      <td>0</td>\n",
       "      <td>35</td>\n",
       "      <td>16</td>\n",
       "      <td>25</td>\n",
       "      <td>19</td>\n",
       "      <td>170</td>\n",
       "      <td>5</td>\n",
       "    </tr>\n",
       "    <tr>\n",
       "      <th>2</th>\n",
       "      <td>2019-11-01</td>\n",
       "      <td>69</td>\n",
       "      <td>56.2</td>\n",
       "      <td>3732</td>\n",
       "      <td>11</td>\n",
       "      <td>1</td>\n",
       "      <td>0</td>\n",
       "      <td>25</td>\n",
       "      <td>18</td>\n",
       "      <td>15</td>\n",
       "      <td>21</td>\n",
       "      <td>170</td>\n",
       "      <td>5</td>\n",
       "    </tr>\n",
       "    <tr>\n",
       "      <th>3</th>\n",
       "      <td>2019-11-01</td>\n",
       "      <td>69</td>\n",
       "      <td>56.2</td>\n",
       "      <td>3732</td>\n",
       "      <td>11</td>\n",
       "      <td>1</td>\n",
       "      <td>0</td>\n",
       "      <td>55</td>\n",
       "      <td>19</td>\n",
       "      <td>55</td>\n",
       "      <td>22</td>\n",
       "      <td>150</td>\n",
       "      <td>5</td>\n",
       "    </tr>\n",
       "    <tr>\n",
       "      <th>4</th>\n",
       "      <td>2019-11-01</td>\n",
       "      <td>69</td>\n",
       "      <td>56.2</td>\n",
       "      <td>4157</td>\n",
       "      <td>11</td>\n",
       "      <td>1</td>\n",
       "      <td>0</td>\n",
       "      <td>45</td>\n",
       "      <td>21</td>\n",
       "      <td>25</td>\n",
       "      <td>0</td>\n",
       "      <td>160</td>\n",
       "      <td>5</td>\n",
       "    </tr>\n",
       "  </tbody>\n",
       "</table>\n",
       "</div>"
      ],
      "text/plain": [
       "  taken date  no.of_days_left  Cruidoilprice  price   month  day  isWEEKDAY  \\\n",
       "0 2019-11-01               69           56.2    3732     11    1          0   \n",
       "1 2019-11-01               69           56.2    3732     11    1          0   \n",
       "2 2019-11-01               69           56.2    3732     11    1          0   \n",
       "3 2019-11-01               69           56.2    3732     11    1          0   \n",
       "4 2019-11-01               69           56.2    4157     11    1          0   \n",
       "\n",
       "  Dep_Time_min Dep_Time_hr Arrival_Time_min Arrival_Time_hr  Total_Duration  \\\n",
       "0           20           6               00               9             160   \n",
       "1           35          16               25              19             170   \n",
       "2           25          18               15              21             170   \n",
       "3           55          19               55              22             150   \n",
       "4           45          21               25               0             160   \n",
       "\n",
       "   Day_of_Week  \n",
       "0            5  \n",
       "1            5  \n",
       "2            5  \n",
       "3            5  \n",
       "4            5  "
      ]
     },
     "execution_count": 70,
     "metadata": {},
     "output_type": "execute_result"
    }
   ],
   "source": [
    "df.head()"
   ]
  },
  {
   "cell_type": "code",
   "execution_count": 71,
   "metadata": {},
   "outputs": [
    {
     "ename": "TypeError",
     "evalue": "'<' not supported between instances of 'int' and 'str'",
     "output_type": "error",
     "traceback": [
      "\u001b[1;31m---------------------------------------------------------------------------\u001b[0m",
      "\u001b[1;31mTypeError\u001b[0m                                 Traceback (most recent call last)",
      "\u001b[1;32m<ipython-input-71-2d62488746a1>\u001b[0m in \u001b[0;36m<module>\u001b[1;34m\u001b[0m\n\u001b[0;32m      4\u001b[0m \u001b[0mbins\u001b[0m\u001b[1;33m=\u001b[0m\u001b[1;33m[\u001b[0m\u001b[1;36m0\u001b[0m\u001b[1;33m,\u001b[0m\u001b[1;36m3\u001b[0m\u001b[1;33m,\u001b[0m\u001b[1;36m6\u001b[0m\u001b[1;33m,\u001b[0m\u001b[1;36m9\u001b[0m\u001b[1;33m,\u001b[0m\u001b[1;36m12\u001b[0m\u001b[1;33m,\u001b[0m\u001b[1;36m15\u001b[0m\u001b[1;33m,\u001b[0m\u001b[1;36m18\u001b[0m\u001b[1;33m,\u001b[0m\u001b[1;36m21\u001b[0m\u001b[1;33m,\u001b[0m\u001b[1;36m24\u001b[0m\u001b[1;33m]\u001b[0m\u001b[1;33m\u001b[0m\u001b[1;33m\u001b[0m\u001b[0m\n\u001b[0;32m      5\u001b[0m \u001b[0mlabels\u001b[0m\u001b[1;33m=\u001b[0m\u001b[1;33m[\u001b[0m\u001b[1;36m6\u001b[0m\u001b[1;33m,\u001b[0m\u001b[1;36m7\u001b[0m\u001b[1;33m,\u001b[0m\u001b[1;36m0\u001b[0m\u001b[1;33m,\u001b[0m\u001b[1;36m1\u001b[0m\u001b[1;33m,\u001b[0m\u001b[1;36m2\u001b[0m\u001b[1;33m,\u001b[0m\u001b[1;36m3\u001b[0m\u001b[1;33m,\u001b[0m\u001b[1;36m4\u001b[0m\u001b[1;33m,\u001b[0m\u001b[1;36m5\u001b[0m\u001b[1;33m]\u001b[0m\u001b[1;33m\u001b[0m\u001b[1;33m\u001b[0m\u001b[0m\n\u001b[1;32m----> 6\u001b[1;33m \u001b[0mdf\u001b[0m\u001b[1;33m[\u001b[0m\u001b[1;34m'part_of_day'\u001b[0m\u001b[1;33m]\u001b[0m \u001b[1;33m=\u001b[0m \u001b[0mpd\u001b[0m\u001b[1;33m.\u001b[0m\u001b[0mcut\u001b[0m\u001b[1;33m(\u001b[0m\u001b[0mdf\u001b[0m\u001b[1;33m[\u001b[0m\u001b[1;34m'Dep_Time_hr'\u001b[0m\u001b[1;33m]\u001b[0m\u001b[1;33m,\u001b[0m \u001b[0mbins\u001b[0m\u001b[1;33m=\u001b[0m\u001b[0mbins\u001b[0m\u001b[1;33m,\u001b[0m \u001b[0mlabels\u001b[0m\u001b[1;33m=\u001b[0m\u001b[0mlabels\u001b[0m\u001b[1;33m)\u001b[0m\u001b[1;33m\u001b[0m\u001b[1;33m\u001b[0m\u001b[0m\n\u001b[0m",
      "\u001b[1;32m~\\anaconda3\\lib\\site-packages\\pandas\\core\\reshape\\tile.py\u001b[0m in \u001b[0;36mcut\u001b[1;34m(x, bins, right, labels, retbins, precision, include_lowest, duplicates)\u001b[0m\n\u001b[0;32m    255\u001b[0m             \u001b[1;32mraise\u001b[0m \u001b[0mValueError\u001b[0m\u001b[1;33m(\u001b[0m\u001b[1;34m\"bins must increase monotonically.\"\u001b[0m\u001b[1;33m)\u001b[0m\u001b[1;33m\u001b[0m\u001b[1;33m\u001b[0m\u001b[0m\n\u001b[0;32m    256\u001b[0m \u001b[1;33m\u001b[0m\u001b[0m\n\u001b[1;32m--> 257\u001b[1;33m     fac, bins = _bins_to_cuts(\n\u001b[0m\u001b[0;32m    258\u001b[0m         \u001b[0mx\u001b[0m\u001b[1;33m,\u001b[0m\u001b[1;33m\u001b[0m\u001b[1;33m\u001b[0m\u001b[0m\n\u001b[0;32m    259\u001b[0m         \u001b[0mbins\u001b[0m\u001b[1;33m,\u001b[0m\u001b[1;33m\u001b[0m\u001b[1;33m\u001b[0m\u001b[0m\n",
      "\u001b[1;32m~\\anaconda3\\lib\\site-packages\\pandas\\core\\reshape\\tile.py\u001b[0m in \u001b[0;36m_bins_to_cuts\u001b[1;34m(x, bins, right, labels, precision, include_lowest, dtype, duplicates)\u001b[0m\n\u001b[0;32m    386\u001b[0m \u001b[1;33m\u001b[0m\u001b[0m\n\u001b[0;32m    387\u001b[0m     \u001b[0mside\u001b[0m \u001b[1;33m=\u001b[0m \u001b[1;34m\"left\"\u001b[0m \u001b[1;32mif\u001b[0m \u001b[0mright\u001b[0m \u001b[1;32melse\u001b[0m \u001b[1;34m\"right\"\u001b[0m\u001b[1;33m\u001b[0m\u001b[1;33m\u001b[0m\u001b[0m\n\u001b[1;32m--> 388\u001b[1;33m     \u001b[0mids\u001b[0m \u001b[1;33m=\u001b[0m \u001b[0mensure_int64\u001b[0m\u001b[1;33m(\u001b[0m\u001b[0mbins\u001b[0m\u001b[1;33m.\u001b[0m\u001b[0msearchsorted\u001b[0m\u001b[1;33m(\u001b[0m\u001b[0mx\u001b[0m\u001b[1;33m,\u001b[0m \u001b[0mside\u001b[0m\u001b[1;33m=\u001b[0m\u001b[0mside\u001b[0m\u001b[1;33m)\u001b[0m\u001b[1;33m)\u001b[0m\u001b[1;33m\u001b[0m\u001b[1;33m\u001b[0m\u001b[0m\n\u001b[0m\u001b[0;32m    389\u001b[0m \u001b[1;33m\u001b[0m\u001b[0m\n\u001b[0;32m    390\u001b[0m     \u001b[1;32mif\u001b[0m \u001b[0minclude_lowest\u001b[0m\u001b[1;33m:\u001b[0m\u001b[1;33m\u001b[0m\u001b[1;33m\u001b[0m\u001b[0m\n",
      "\u001b[1;31mTypeError\u001b[0m: '<' not supported between instances of 'int' and 'str'"
     ]
    }
   ],
   "source": [
    "#bins = [-1, 3, 6, 9, 12, 15, 18, 21, 24]\n",
    "#labels = [6,7,0,1,2,3,4,5]\n",
    "#df['part_of_day'] = pd.cut(df['Dep_Time_hr'], bins=bins, labels=labels)\n",
    "bins=[0,3,6,9,12,15,18,21,24]\n",
    "labels=[6,7,0,1,2,3,4,5]\n",
    "df['part_of_day'] = pd.cut(df['Dep_Time_hr'], bins=bins, labels=labels)\n"
   ]
  },
  {
   "cell_type": "code",
   "execution_count": 72,
   "metadata": {},
   "outputs": [],
   "source": [
    "#bins = [0, 1, 5, 10, 25, 50, 100]\n",
    "#labels = [1,2,3,4,5,6]\n",
    "#dd['binned'] = pd.cut(dd['percentage'], bins=bins, labels=labels)\n",
    "#print (dd)"
   ]
  },
  {
   "cell_type": "code",
   "execution_count": null,
   "metadata": {},
   "outputs": [],
   "source": []
  },
  {
   "cell_type": "code",
   "execution_count": 73,
   "metadata": {},
   "outputs": [
    {
     "name": "stdout",
     "output_type": "stream",
     "text": [
      "<class 'pandas.core.frame.DataFrame'>\n",
      "RangeIndex: 3006 entries, 0 to 3005\n",
      "Data columns (total 13 columns):\n",
      " #   Column            Non-Null Count  Dtype         \n",
      "---  ------            --------------  -----         \n",
      " 0   taken date        3006 non-null   datetime64[ns]\n",
      " 1   no.of_days_left   3006 non-null   int64         \n",
      " 2   Cruidoilprice     3006 non-null   float64       \n",
      " 3   price             3006 non-null   int64         \n",
      " 4   month             3006 non-null   int64         \n",
      " 5   day               3006 non-null   int64         \n",
      " 6   isWEEKDAY         3006 non-null   int32         \n",
      " 7   Dep_Time_min      3006 non-null   object        \n",
      " 8   Dep_Time_hr       3006 non-null   object        \n",
      " 9   Arrival_Time_min  3006 non-null   object        \n",
      " 10  Arrival_Time_hr   3006 non-null   object        \n",
      " 11  Total_Duration    3006 non-null   int32         \n",
      " 12  Day_of_Week       3006 non-null   int32         \n",
      "dtypes: datetime64[ns](1), float64(1), int32(3), int64(4), object(4)\n",
      "memory usage: 270.2+ KB\n"
     ]
    }
   ],
   "source": [
    "df.info()"
   ]
  },
  {
   "cell_type": "code",
   "execution_count": 74,
   "metadata": {},
   "outputs": [],
   "source": [
    "df['part_of_day']=df['Dep_Time_hr'].apply(pd.to_numeric)\n"
   ]
  },
  {
   "cell_type": "code",
   "execution_count": 75,
   "metadata": {},
   "outputs": [
    {
     "name": "stdout",
     "output_type": "stream",
     "text": [
      "<class 'pandas.core.frame.DataFrame'>\n",
      "RangeIndex: 3006 entries, 0 to 3005\n",
      "Data columns (total 14 columns):\n",
      " #   Column            Non-Null Count  Dtype         \n",
      "---  ------            --------------  -----         \n",
      " 0   taken date        3006 non-null   datetime64[ns]\n",
      " 1   no.of_days_left   3006 non-null   int64         \n",
      " 2   Cruidoilprice     3006 non-null   float64       \n",
      " 3   price             3006 non-null   int64         \n",
      " 4   month             3006 non-null   int64         \n",
      " 5   day               3006 non-null   int64         \n",
      " 6   isWEEKDAY         3006 non-null   int32         \n",
      " 7   Dep_Time_min      3006 non-null   object        \n",
      " 8   Dep_Time_hr       3006 non-null   object        \n",
      " 9   Arrival_Time_min  3006 non-null   object        \n",
      " 10  Arrival_Time_hr   3006 non-null   object        \n",
      " 11  Total_Duration    3006 non-null   int32         \n",
      " 12  Day_of_Week       3006 non-null   int32         \n",
      " 13  part_of_day       3006 non-null   int64         \n",
      "dtypes: datetime64[ns](1), float64(1), int32(3), int64(5), object(4)\n",
      "memory usage: 293.7+ KB\n"
     ]
    }
   ],
   "source": [
    "\n",
    "df.info()"
   ]
  },
  {
   "cell_type": "code",
   "execution_count": null,
   "metadata": {},
   "outputs": [],
   "source": []
  },
  {
   "cell_type": "code",
   "execution_count": 77,
   "metadata": {},
   "outputs": [
    {
     "data": {
      "text/html": [
       "<div>\n",
       "<style scoped>\n",
       "    .dataframe tbody tr th:only-of-type {\n",
       "        vertical-align: middle;\n",
       "    }\n",
       "\n",
       "    .dataframe tbody tr th {\n",
       "        vertical-align: top;\n",
       "    }\n",
       "\n",
       "    .dataframe thead th {\n",
       "        text-align: right;\n",
       "    }\n",
       "</style>\n",
       "<table border=\"1\" class=\"dataframe\">\n",
       "  <thead>\n",
       "    <tr style=\"text-align: right;\">\n",
       "      <th></th>\n",
       "      <th>taken date</th>\n",
       "      <th>no.of_days_left</th>\n",
       "      <th>Cruidoilprice</th>\n",
       "      <th>price</th>\n",
       "      <th>month</th>\n",
       "      <th>day</th>\n",
       "      <th>isWEEKDAY</th>\n",
       "      <th>Dep_Time_min</th>\n",
       "      <th>Dep_Time_hr</th>\n",
       "      <th>Arrival_Time_min</th>\n",
       "      <th>Arrival_Time_hr</th>\n",
       "      <th>Total_Duration</th>\n",
       "      <th>Day_of_Week</th>\n",
       "      <th>part_of_day</th>\n",
       "    </tr>\n",
       "  </thead>\n",
       "  <tbody>\n",
       "    <tr>\n",
       "      <th>0</th>\n",
       "      <td>2019-11-01</td>\n",
       "      <td>69</td>\n",
       "      <td>56.2</td>\n",
       "      <td>3732</td>\n",
       "      <td>11</td>\n",
       "      <td>1</td>\n",
       "      <td>0</td>\n",
       "      <td>20</td>\n",
       "      <td>6</td>\n",
       "      <td>00</td>\n",
       "      <td>9</td>\n",
       "      <td>160</td>\n",
       "      <td>5</td>\n",
       "      <td>6</td>\n",
       "    </tr>\n",
       "    <tr>\n",
       "      <th>1</th>\n",
       "      <td>2019-11-01</td>\n",
       "      <td>69</td>\n",
       "      <td>56.2</td>\n",
       "      <td>3732</td>\n",
       "      <td>11</td>\n",
       "      <td>1</td>\n",
       "      <td>0</td>\n",
       "      <td>35</td>\n",
       "      <td>16</td>\n",
       "      <td>25</td>\n",
       "      <td>19</td>\n",
       "      <td>170</td>\n",
       "      <td>5</td>\n",
       "      <td>16</td>\n",
       "    </tr>\n",
       "    <tr>\n",
       "      <th>2</th>\n",
       "      <td>2019-11-01</td>\n",
       "      <td>69</td>\n",
       "      <td>56.2</td>\n",
       "      <td>3732</td>\n",
       "      <td>11</td>\n",
       "      <td>1</td>\n",
       "      <td>0</td>\n",
       "      <td>25</td>\n",
       "      <td>18</td>\n",
       "      <td>15</td>\n",
       "      <td>21</td>\n",
       "      <td>170</td>\n",
       "      <td>5</td>\n",
       "      <td>18</td>\n",
       "    </tr>\n",
       "    <tr>\n",
       "      <th>3</th>\n",
       "      <td>2019-11-01</td>\n",
       "      <td>69</td>\n",
       "      <td>56.2</td>\n",
       "      <td>3732</td>\n",
       "      <td>11</td>\n",
       "      <td>1</td>\n",
       "      <td>0</td>\n",
       "      <td>55</td>\n",
       "      <td>19</td>\n",
       "      <td>55</td>\n",
       "      <td>22</td>\n",
       "      <td>150</td>\n",
       "      <td>5</td>\n",
       "      <td>19</td>\n",
       "    </tr>\n",
       "    <tr>\n",
       "      <th>4</th>\n",
       "      <td>2019-11-01</td>\n",
       "      <td>69</td>\n",
       "      <td>56.2</td>\n",
       "      <td>4157</td>\n",
       "      <td>11</td>\n",
       "      <td>1</td>\n",
       "      <td>0</td>\n",
       "      <td>45</td>\n",
       "      <td>21</td>\n",
       "      <td>25</td>\n",
       "      <td>0</td>\n",
       "      <td>160</td>\n",
       "      <td>5</td>\n",
       "      <td>21</td>\n",
       "    </tr>\n",
       "  </tbody>\n",
       "</table>\n",
       "</div>"
      ],
      "text/plain": [
       "  taken date  no.of_days_left  Cruidoilprice  price   month  day  isWEEKDAY  \\\n",
       "0 2019-11-01               69           56.2    3732     11    1          0   \n",
       "1 2019-11-01               69           56.2    3732     11    1          0   \n",
       "2 2019-11-01               69           56.2    3732     11    1          0   \n",
       "3 2019-11-01               69           56.2    3732     11    1          0   \n",
       "4 2019-11-01               69           56.2    4157     11    1          0   \n",
       "\n",
       "  Dep_Time_min Dep_Time_hr Arrival_Time_min Arrival_Time_hr  Total_Duration  \\\n",
       "0           20           6               00               9             160   \n",
       "1           35          16               25              19             170   \n",
       "2           25          18               15              21             170   \n",
       "3           55          19               55              22             150   \n",
       "4           45          21               25               0             160   \n",
       "\n",
       "   Day_of_Week  part_of_day  \n",
       "0            5            6  \n",
       "1            5           16  \n",
       "2            5           18  \n",
       "3            5           19  \n",
       "4            5           21  "
      ]
     },
     "execution_count": 77,
     "metadata": {},
     "output_type": "execute_result"
    }
   ],
   "source": [
    "df.head()"
   ]
  },
  {
   "cell_type": "code",
   "execution_count": 78,
   "metadata": {},
   "outputs": [],
   "source": [
    "bins=[0,3,6,9,12,15,18,21,24]\n",
    "labels=[6,7,0,1,2,3,4,5]\n",
    "df['part_of_day'] = pd.cut(df['part_of_day'], bins=bins, labels=labels)"
   ]
  },
  {
   "cell_type": "code",
   "execution_count": 79,
   "metadata": {},
   "outputs": [
    {
     "data": {
      "text/html": [
       "<div>\n",
       "<style scoped>\n",
       "    .dataframe tbody tr th:only-of-type {\n",
       "        vertical-align: middle;\n",
       "    }\n",
       "\n",
       "    .dataframe tbody tr th {\n",
       "        vertical-align: top;\n",
       "    }\n",
       "\n",
       "    .dataframe thead th {\n",
       "        text-align: right;\n",
       "    }\n",
       "</style>\n",
       "<table border=\"1\" class=\"dataframe\">\n",
       "  <thead>\n",
       "    <tr style=\"text-align: right;\">\n",
       "      <th></th>\n",
       "      <th>taken date</th>\n",
       "      <th>no.of_days_left</th>\n",
       "      <th>Cruidoilprice</th>\n",
       "      <th>price</th>\n",
       "      <th>month</th>\n",
       "      <th>day</th>\n",
       "      <th>isWEEKDAY</th>\n",
       "      <th>Dep_Time_min</th>\n",
       "      <th>Dep_Time_hr</th>\n",
       "      <th>Arrival_Time_min</th>\n",
       "      <th>Arrival_Time_hr</th>\n",
       "      <th>Total_Duration</th>\n",
       "      <th>Day_of_Week</th>\n",
       "      <th>part_of_day</th>\n",
       "    </tr>\n",
       "  </thead>\n",
       "  <tbody>\n",
       "    <tr>\n",
       "      <th>0</th>\n",
       "      <td>2019-11-01</td>\n",
       "      <td>69</td>\n",
       "      <td>56.2</td>\n",
       "      <td>3732</td>\n",
       "      <td>11</td>\n",
       "      <td>1</td>\n",
       "      <td>0</td>\n",
       "      <td>20</td>\n",
       "      <td>6</td>\n",
       "      <td>00</td>\n",
       "      <td>9</td>\n",
       "      <td>160</td>\n",
       "      <td>5</td>\n",
       "      <td>7</td>\n",
       "    </tr>\n",
       "    <tr>\n",
       "      <th>1</th>\n",
       "      <td>2019-11-01</td>\n",
       "      <td>69</td>\n",
       "      <td>56.2</td>\n",
       "      <td>3732</td>\n",
       "      <td>11</td>\n",
       "      <td>1</td>\n",
       "      <td>0</td>\n",
       "      <td>35</td>\n",
       "      <td>16</td>\n",
       "      <td>25</td>\n",
       "      <td>19</td>\n",
       "      <td>170</td>\n",
       "      <td>5</td>\n",
       "      <td>3</td>\n",
       "    </tr>\n",
       "    <tr>\n",
       "      <th>2</th>\n",
       "      <td>2019-11-01</td>\n",
       "      <td>69</td>\n",
       "      <td>56.2</td>\n",
       "      <td>3732</td>\n",
       "      <td>11</td>\n",
       "      <td>1</td>\n",
       "      <td>0</td>\n",
       "      <td>25</td>\n",
       "      <td>18</td>\n",
       "      <td>15</td>\n",
       "      <td>21</td>\n",
       "      <td>170</td>\n",
       "      <td>5</td>\n",
       "      <td>3</td>\n",
       "    </tr>\n",
       "    <tr>\n",
       "      <th>3</th>\n",
       "      <td>2019-11-01</td>\n",
       "      <td>69</td>\n",
       "      <td>56.2</td>\n",
       "      <td>3732</td>\n",
       "      <td>11</td>\n",
       "      <td>1</td>\n",
       "      <td>0</td>\n",
       "      <td>55</td>\n",
       "      <td>19</td>\n",
       "      <td>55</td>\n",
       "      <td>22</td>\n",
       "      <td>150</td>\n",
       "      <td>5</td>\n",
       "      <td>4</td>\n",
       "    </tr>\n",
       "    <tr>\n",
       "      <th>4</th>\n",
       "      <td>2019-11-01</td>\n",
       "      <td>69</td>\n",
       "      <td>56.2</td>\n",
       "      <td>4157</td>\n",
       "      <td>11</td>\n",
       "      <td>1</td>\n",
       "      <td>0</td>\n",
       "      <td>45</td>\n",
       "      <td>21</td>\n",
       "      <td>25</td>\n",
       "      <td>0</td>\n",
       "      <td>160</td>\n",
       "      <td>5</td>\n",
       "      <td>4</td>\n",
       "    </tr>\n",
       "  </tbody>\n",
       "</table>\n",
       "</div>"
      ],
      "text/plain": [
       "  taken date  no.of_days_left  Cruidoilprice  price   month  day  isWEEKDAY  \\\n",
       "0 2019-11-01               69           56.2    3732     11    1          0   \n",
       "1 2019-11-01               69           56.2    3732     11    1          0   \n",
       "2 2019-11-01               69           56.2    3732     11    1          0   \n",
       "3 2019-11-01               69           56.2    3732     11    1          0   \n",
       "4 2019-11-01               69           56.2    4157     11    1          0   \n",
       "\n",
       "  Dep_Time_min Dep_Time_hr Arrival_Time_min Arrival_Time_hr  Total_Duration  \\\n",
       "0           20           6               00               9             160   \n",
       "1           35          16               25              19             170   \n",
       "2           25          18               15              21             170   \n",
       "3           55          19               55              22             150   \n",
       "4           45          21               25               0             160   \n",
       "\n",
       "   Day_of_Week part_of_day  \n",
       "0            5           7  \n",
       "1            5           3  \n",
       "2            5           3  \n",
       "3            5           4  \n",
       "4            5           4  "
      ]
     },
     "execution_count": 79,
     "metadata": {},
     "output_type": "execute_result"
    }
   ],
   "source": [
    "df.head()"
   ]
  },
  {
   "cell_type": "code",
   "execution_count": 80,
   "metadata": {},
   "outputs": [
    {
     "name": "stdout",
     "output_type": "stream",
     "text": [
      "<class 'pandas.core.frame.DataFrame'>\n",
      "RangeIndex: 3006 entries, 0 to 3005\n",
      "Data columns (total 14 columns):\n",
      " #   Column            Non-Null Count  Dtype         \n",
      "---  ------            --------------  -----         \n",
      " 0   taken date        3006 non-null   datetime64[ns]\n",
      " 1   no.of_days_left   3006 non-null   int64         \n",
      " 2   Cruidoilprice     3006 non-null   float64       \n",
      " 3   price             3006 non-null   int64         \n",
      " 4   month             3006 non-null   int64         \n",
      " 5   day               3006 non-null   int64         \n",
      " 6   isWEEKDAY         3006 non-null   int32         \n",
      " 7   Dep_Time_min      3006 non-null   object        \n",
      " 8   Dep_Time_hr       3006 non-null   object        \n",
      " 9   Arrival_Time_min  3006 non-null   object        \n",
      " 10  Arrival_Time_hr   3006 non-null   object        \n",
      " 11  Total_Duration    3006 non-null   int32         \n",
      " 12  Day_of_Week       3006 non-null   int32         \n",
      " 13  part_of_day       2937 non-null   category      \n",
      "dtypes: category(1), datetime64[ns](1), float64(1), int32(3), int64(4), object(4)\n",
      "memory usage: 273.5+ KB\n"
     ]
    }
   ],
   "source": [
    "df.info()"
   ]
  },
  {
   "cell_type": "code",
   "execution_count": 81,
   "metadata": {},
   "outputs": [
    {
     "data": {
      "text/html": [
       "<div>\n",
       "<style scoped>\n",
       "    .dataframe tbody tr th:only-of-type {\n",
       "        vertical-align: middle;\n",
       "    }\n",
       "\n",
       "    .dataframe tbody tr th {\n",
       "        vertical-align: top;\n",
       "    }\n",
       "\n",
       "    .dataframe thead th {\n",
       "        text-align: right;\n",
       "    }\n",
       "</style>\n",
       "<table border=\"1\" class=\"dataframe\">\n",
       "  <thead>\n",
       "    <tr style=\"text-align: right;\">\n",
       "      <th></th>\n",
       "      <th>taken date</th>\n",
       "      <th>no.of_days_left</th>\n",
       "      <th>Cruidoilprice</th>\n",
       "      <th>price</th>\n",
       "      <th>month</th>\n",
       "      <th>day</th>\n",
       "      <th>isWEEKDAY</th>\n",
       "      <th>Dep_Time_min</th>\n",
       "      <th>Dep_Time_hr</th>\n",
       "      <th>Arrival_Time_min</th>\n",
       "      <th>Arrival_Time_hr</th>\n",
       "      <th>Total_Duration</th>\n",
       "      <th>Day_of_Week</th>\n",
       "      <th>part_of_day</th>\n",
       "    </tr>\n",
       "  </thead>\n",
       "  <tbody>\n",
       "    <tr>\n",
       "      <th>0</th>\n",
       "      <td>2019-11-01</td>\n",
       "      <td>69</td>\n",
       "      <td>56.2</td>\n",
       "      <td>3732</td>\n",
       "      <td>11</td>\n",
       "      <td>1</td>\n",
       "      <td>0</td>\n",
       "      <td>20</td>\n",
       "      <td>6</td>\n",
       "      <td>00</td>\n",
       "      <td>9</td>\n",
       "      <td>160</td>\n",
       "      <td>5</td>\n",
       "      <td>7</td>\n",
       "    </tr>\n",
       "    <tr>\n",
       "      <th>1</th>\n",
       "      <td>2019-11-01</td>\n",
       "      <td>69</td>\n",
       "      <td>56.2</td>\n",
       "      <td>3732</td>\n",
       "      <td>11</td>\n",
       "      <td>1</td>\n",
       "      <td>0</td>\n",
       "      <td>35</td>\n",
       "      <td>16</td>\n",
       "      <td>25</td>\n",
       "      <td>19</td>\n",
       "      <td>170</td>\n",
       "      <td>5</td>\n",
       "      <td>3</td>\n",
       "    </tr>\n",
       "    <tr>\n",
       "      <th>2</th>\n",
       "      <td>2019-11-01</td>\n",
       "      <td>69</td>\n",
       "      <td>56.2</td>\n",
       "      <td>3732</td>\n",
       "      <td>11</td>\n",
       "      <td>1</td>\n",
       "      <td>0</td>\n",
       "      <td>25</td>\n",
       "      <td>18</td>\n",
       "      <td>15</td>\n",
       "      <td>21</td>\n",
       "      <td>170</td>\n",
       "      <td>5</td>\n",
       "      <td>3</td>\n",
       "    </tr>\n",
       "    <tr>\n",
       "      <th>3</th>\n",
       "      <td>2019-11-01</td>\n",
       "      <td>69</td>\n",
       "      <td>56.2</td>\n",
       "      <td>3732</td>\n",
       "      <td>11</td>\n",
       "      <td>1</td>\n",
       "      <td>0</td>\n",
       "      <td>55</td>\n",
       "      <td>19</td>\n",
       "      <td>55</td>\n",
       "      <td>22</td>\n",
       "      <td>150</td>\n",
       "      <td>5</td>\n",
       "      <td>4</td>\n",
       "    </tr>\n",
       "    <tr>\n",
       "      <th>4</th>\n",
       "      <td>2019-11-01</td>\n",
       "      <td>69</td>\n",
       "      <td>56.2</td>\n",
       "      <td>4157</td>\n",
       "      <td>11</td>\n",
       "      <td>1</td>\n",
       "      <td>0</td>\n",
       "      <td>45</td>\n",
       "      <td>21</td>\n",
       "      <td>25</td>\n",
       "      <td>0</td>\n",
       "      <td>160</td>\n",
       "      <td>5</td>\n",
       "      <td>4</td>\n",
       "    </tr>\n",
       "  </tbody>\n",
       "</table>\n",
       "</div>"
      ],
      "text/plain": [
       "  taken date  no.of_days_left  Cruidoilprice  price   month  day  isWEEKDAY  \\\n",
       "0 2019-11-01               69           56.2    3732     11    1          0   \n",
       "1 2019-11-01               69           56.2    3732     11    1          0   \n",
       "2 2019-11-01               69           56.2    3732     11    1          0   \n",
       "3 2019-11-01               69           56.2    3732     11    1          0   \n",
       "4 2019-11-01               69           56.2    4157     11    1          0   \n",
       "\n",
       "  Dep_Time_min Dep_Time_hr Arrival_Time_min Arrival_Time_hr  Total_Duration  \\\n",
       "0           20           6               00               9             160   \n",
       "1           35          16               25              19             170   \n",
       "2           25          18               15              21             170   \n",
       "3           55          19               55              22             150   \n",
       "4           45          21               25               0             160   \n",
       "\n",
       "   Day_of_Week part_of_day  \n",
       "0            5           7  \n",
       "1            5           3  \n",
       "2            5           3  \n",
       "3            5           4  \n",
       "4            5           4  "
      ]
     },
     "execution_count": 81,
     "metadata": {},
     "output_type": "execute_result"
    }
   ],
   "source": [
    "df.head()"
   ]
  },
  {
   "cell_type": "code",
   "execution_count": 82,
   "metadata": {},
   "outputs": [
    {
     "name": "stdout",
     "output_type": "stream",
     "text": [
      "<class 'pandas.core.frame.DataFrame'>\n",
      "RangeIndex: 3006 entries, 0 to 3005\n",
      "Data columns (total 14 columns):\n",
      " #   Column            Non-Null Count  Dtype         \n",
      "---  ------            --------------  -----         \n",
      " 0   taken date        3006 non-null   datetime64[ns]\n",
      " 1   no.of_days_left   3006 non-null   int64         \n",
      " 2   Cruidoilprice     3006 non-null   float64       \n",
      " 3   price             3006 non-null   int64         \n",
      " 4   month             3006 non-null   int64         \n",
      " 5   day               3006 non-null   int64         \n",
      " 6   isWEEKDAY         3006 non-null   int32         \n",
      " 7   Dep_Time_min      3006 non-null   object        \n",
      " 8   Dep_Time_hr       3006 non-null   object        \n",
      " 9   Arrival_Time_min  3006 non-null   object        \n",
      " 10  Arrival_Time_hr   3006 non-null   object        \n",
      " 11  Total_Duration    3006 non-null   int32         \n",
      " 12  Day_of_Week       3006 non-null   int32         \n",
      " 13  part_of_day       2937 non-null   category      \n",
      "dtypes: category(1), datetime64[ns](1), float64(1), int32(3), int64(4), object(4)\n",
      "memory usage: 273.5+ KB\n"
     ]
    }
   ],
   "source": [
    "df.info()"
   ]
  },
  {
   "cell_type": "code",
   "execution_count": 83,
   "metadata": {},
   "outputs": [],
   "source": [
    "df = df.apply(pd.to_numeric) "
   ]
  },
  {
   "cell_type": "code",
   "execution_count": 84,
   "metadata": {},
   "outputs": [
    {
     "name": "stdout",
     "output_type": "stream",
     "text": [
      "<class 'pandas.core.frame.DataFrame'>\n",
      "RangeIndex: 3006 entries, 0 to 3005\n",
      "Data columns (total 14 columns):\n",
      " #   Column            Non-Null Count  Dtype  \n",
      "---  ------            --------------  -----  \n",
      " 0   taken date        3006 non-null   int64  \n",
      " 1   no.of_days_left   3006 non-null   int64  \n",
      " 2   Cruidoilprice     3006 non-null   float64\n",
      " 3   price             3006 non-null   int64  \n",
      " 4   month             3006 non-null   int64  \n",
      " 5   day               3006 non-null   int64  \n",
      " 6   isWEEKDAY         3006 non-null   int32  \n",
      " 7   Dep_Time_min      3006 non-null   int64  \n",
      " 8   Dep_Time_hr       3006 non-null   int64  \n",
      " 9   Arrival_Time_min  3006 non-null   int64  \n",
      " 10  Arrival_Time_hr   3006 non-null   int64  \n",
      " 11  Total_Duration    3006 non-null   int32  \n",
      " 12  Day_of_Week       3006 non-null   int32  \n",
      " 13  part_of_day       2937 non-null   float64\n",
      "dtypes: float64(2), int32(3), int64(9)\n",
      "memory usage: 293.7 KB\n"
     ]
    }
   ],
   "source": [
    "df.info()"
   ]
  },
  {
   "cell_type": "code",
   "execution_count": 85,
   "metadata": {},
   "outputs": [],
   "source": [
    "#df['part_of_day'].astype(int)"
   ]
  },
  {
   "cell_type": "code",
   "execution_count": 86,
   "metadata": {},
   "outputs": [],
   "source": [
    "#df['part_of_day'] = df['part_of_day'].astype(int)"
   ]
  },
  {
   "cell_type": "code",
   "execution_count": 87,
   "metadata": {},
   "outputs": [
    {
     "data": {
      "text/plain": [
       "taken date           0\n",
       "no.of_days_left      0\n",
       "Cruidoilprice        0\n",
       "price                0\n",
       "month                0\n",
       "day                  0\n",
       "isWEEKDAY            0\n",
       "Dep_Time_min         0\n",
       "Dep_Time_hr          0\n",
       "Arrival_Time_min     0\n",
       "Arrival_Time_hr      0\n",
       "Total_Duration       0\n",
       "Day_of_Week          0\n",
       "part_of_day         69\n",
       "dtype: int64"
      ]
     },
     "execution_count": 87,
     "metadata": {},
     "output_type": "execute_result"
    }
   ],
   "source": [
    "df.isnull().sum()"
   ]
  },
  {
   "cell_type": "code",
   "execution_count": 88,
   "metadata": {},
   "outputs": [
    {
     "data": {
      "text/html": [
       "<div>\n",
       "<style scoped>\n",
       "    .dataframe tbody tr th:only-of-type {\n",
       "        vertical-align: middle;\n",
       "    }\n",
       "\n",
       "    .dataframe tbody tr th {\n",
       "        vertical-align: top;\n",
       "    }\n",
       "\n",
       "    .dataframe thead th {\n",
       "        text-align: right;\n",
       "    }\n",
       "</style>\n",
       "<table border=\"1\" class=\"dataframe\">\n",
       "  <thead>\n",
       "    <tr style=\"text-align: right;\">\n",
       "      <th></th>\n",
       "      <th>taken date</th>\n",
       "      <th>no.of_days_left</th>\n",
       "      <th>Cruidoilprice</th>\n",
       "      <th>price</th>\n",
       "      <th>month</th>\n",
       "      <th>day</th>\n",
       "      <th>isWEEKDAY</th>\n",
       "      <th>Dep_Time_min</th>\n",
       "      <th>Dep_Time_hr</th>\n",
       "      <th>Arrival_Time_min</th>\n",
       "      <th>Arrival_Time_hr</th>\n",
       "      <th>Total_Duration</th>\n",
       "      <th>Day_of_Week</th>\n",
       "      <th>part_of_day</th>\n",
       "    </tr>\n",
       "  </thead>\n",
       "  <tbody>\n",
       "    <tr>\n",
       "      <th>0</th>\n",
       "      <td>1572566400000000000</td>\n",
       "      <td>69</td>\n",
       "      <td>56.2</td>\n",
       "      <td>3732</td>\n",
       "      <td>11</td>\n",
       "      <td>1</td>\n",
       "      <td>0</td>\n",
       "      <td>20</td>\n",
       "      <td>6</td>\n",
       "      <td>0</td>\n",
       "      <td>9</td>\n",
       "      <td>160</td>\n",
       "      <td>5</td>\n",
       "      <td>7.0</td>\n",
       "    </tr>\n",
       "    <tr>\n",
       "      <th>1</th>\n",
       "      <td>1572566400000000000</td>\n",
       "      <td>69</td>\n",
       "      <td>56.2</td>\n",
       "      <td>3732</td>\n",
       "      <td>11</td>\n",
       "      <td>1</td>\n",
       "      <td>0</td>\n",
       "      <td>35</td>\n",
       "      <td>16</td>\n",
       "      <td>25</td>\n",
       "      <td>19</td>\n",
       "      <td>170</td>\n",
       "      <td>5</td>\n",
       "      <td>3.0</td>\n",
       "    </tr>\n",
       "    <tr>\n",
       "      <th>2</th>\n",
       "      <td>1572566400000000000</td>\n",
       "      <td>69</td>\n",
       "      <td>56.2</td>\n",
       "      <td>3732</td>\n",
       "      <td>11</td>\n",
       "      <td>1</td>\n",
       "      <td>0</td>\n",
       "      <td>25</td>\n",
       "      <td>18</td>\n",
       "      <td>15</td>\n",
       "      <td>21</td>\n",
       "      <td>170</td>\n",
       "      <td>5</td>\n",
       "      <td>3.0</td>\n",
       "    </tr>\n",
       "    <tr>\n",
       "      <th>3</th>\n",
       "      <td>1572566400000000000</td>\n",
       "      <td>69</td>\n",
       "      <td>56.2</td>\n",
       "      <td>3732</td>\n",
       "      <td>11</td>\n",
       "      <td>1</td>\n",
       "      <td>0</td>\n",
       "      <td>55</td>\n",
       "      <td>19</td>\n",
       "      <td>55</td>\n",
       "      <td>22</td>\n",
       "      <td>150</td>\n",
       "      <td>5</td>\n",
       "      <td>4.0</td>\n",
       "    </tr>\n",
       "    <tr>\n",
       "      <th>4</th>\n",
       "      <td>1572566400000000000</td>\n",
       "      <td>69</td>\n",
       "      <td>56.2</td>\n",
       "      <td>4157</td>\n",
       "      <td>11</td>\n",
       "      <td>1</td>\n",
       "      <td>0</td>\n",
       "      <td>45</td>\n",
       "      <td>21</td>\n",
       "      <td>25</td>\n",
       "      <td>0</td>\n",
       "      <td>160</td>\n",
       "      <td>5</td>\n",
       "      <td>4.0</td>\n",
       "    </tr>\n",
       "  </tbody>\n",
       "</table>\n",
       "</div>"
      ],
      "text/plain": [
       "            taken date  no.of_days_left  Cruidoilprice  price   month  day  \\\n",
       "0  1572566400000000000               69           56.2    3732     11    1   \n",
       "1  1572566400000000000               69           56.2    3732     11    1   \n",
       "2  1572566400000000000               69           56.2    3732     11    1   \n",
       "3  1572566400000000000               69           56.2    3732     11    1   \n",
       "4  1572566400000000000               69           56.2    4157     11    1   \n",
       "\n",
       "   isWEEKDAY  Dep_Time_min  Dep_Time_hr  Arrival_Time_min  Arrival_Time_hr  \\\n",
       "0          0            20            6                 0                9   \n",
       "1          0            35           16                25               19   \n",
       "2          0            25           18                15               21   \n",
       "3          0            55           19                55               22   \n",
       "4          0            45           21                25                0   \n",
       "\n",
       "   Total_Duration  Day_of_Week  part_of_day  \n",
       "0             160            5          7.0  \n",
       "1             170            5          3.0  \n",
       "2             170            5          3.0  \n",
       "3             150            5          4.0  \n",
       "4             160            5          4.0  "
      ]
     },
     "execution_count": 88,
     "metadata": {},
     "output_type": "execute_result"
    }
   ],
   "source": [
    "df.head()"
   ]
  },
  {
   "cell_type": "code",
   "execution_count": 89,
   "metadata": {},
   "outputs": [],
   "source": [
    "df.drop('taken date',axis=1,inplace=True)"
   ]
  },
  {
   "cell_type": "code",
   "execution_count": 90,
   "metadata": {},
   "outputs": [
    {
     "data": {
      "text/html": [
       "<div>\n",
       "<style scoped>\n",
       "    .dataframe tbody tr th:only-of-type {\n",
       "        vertical-align: middle;\n",
       "    }\n",
       "\n",
       "    .dataframe tbody tr th {\n",
       "        vertical-align: top;\n",
       "    }\n",
       "\n",
       "    .dataframe thead th {\n",
       "        text-align: right;\n",
       "    }\n",
       "</style>\n",
       "<table border=\"1\" class=\"dataframe\">\n",
       "  <thead>\n",
       "    <tr style=\"text-align: right;\">\n",
       "      <th></th>\n",
       "      <th>no.of_days_left</th>\n",
       "      <th>Cruidoilprice</th>\n",
       "      <th>price</th>\n",
       "      <th>month</th>\n",
       "      <th>day</th>\n",
       "      <th>isWEEKDAY</th>\n",
       "      <th>Dep_Time_min</th>\n",
       "      <th>Dep_Time_hr</th>\n",
       "      <th>Arrival_Time_min</th>\n",
       "      <th>Arrival_Time_hr</th>\n",
       "      <th>Total_Duration</th>\n",
       "      <th>Day_of_Week</th>\n",
       "      <th>part_of_day</th>\n",
       "    </tr>\n",
       "  </thead>\n",
       "  <tbody>\n",
       "    <tr>\n",
       "      <th>0</th>\n",
       "      <td>69</td>\n",
       "      <td>56.2</td>\n",
       "      <td>3732</td>\n",
       "      <td>11</td>\n",
       "      <td>1</td>\n",
       "      <td>0</td>\n",
       "      <td>20</td>\n",
       "      <td>6</td>\n",
       "      <td>0</td>\n",
       "      <td>9</td>\n",
       "      <td>160</td>\n",
       "      <td>5</td>\n",
       "      <td>7.0</td>\n",
       "    </tr>\n",
       "    <tr>\n",
       "      <th>1</th>\n",
       "      <td>69</td>\n",
       "      <td>56.2</td>\n",
       "      <td>3732</td>\n",
       "      <td>11</td>\n",
       "      <td>1</td>\n",
       "      <td>0</td>\n",
       "      <td>35</td>\n",
       "      <td>16</td>\n",
       "      <td>25</td>\n",
       "      <td>19</td>\n",
       "      <td>170</td>\n",
       "      <td>5</td>\n",
       "      <td>3.0</td>\n",
       "    </tr>\n",
       "    <tr>\n",
       "      <th>2</th>\n",
       "      <td>69</td>\n",
       "      <td>56.2</td>\n",
       "      <td>3732</td>\n",
       "      <td>11</td>\n",
       "      <td>1</td>\n",
       "      <td>0</td>\n",
       "      <td>25</td>\n",
       "      <td>18</td>\n",
       "      <td>15</td>\n",
       "      <td>21</td>\n",
       "      <td>170</td>\n",
       "      <td>5</td>\n",
       "      <td>3.0</td>\n",
       "    </tr>\n",
       "    <tr>\n",
       "      <th>3</th>\n",
       "      <td>69</td>\n",
       "      <td>56.2</td>\n",
       "      <td>3732</td>\n",
       "      <td>11</td>\n",
       "      <td>1</td>\n",
       "      <td>0</td>\n",
       "      <td>55</td>\n",
       "      <td>19</td>\n",
       "      <td>55</td>\n",
       "      <td>22</td>\n",
       "      <td>150</td>\n",
       "      <td>5</td>\n",
       "      <td>4.0</td>\n",
       "    </tr>\n",
       "    <tr>\n",
       "      <th>4</th>\n",
       "      <td>69</td>\n",
       "      <td>56.2</td>\n",
       "      <td>4157</td>\n",
       "      <td>11</td>\n",
       "      <td>1</td>\n",
       "      <td>0</td>\n",
       "      <td>45</td>\n",
       "      <td>21</td>\n",
       "      <td>25</td>\n",
       "      <td>0</td>\n",
       "      <td>160</td>\n",
       "      <td>5</td>\n",
       "      <td>4.0</td>\n",
       "    </tr>\n",
       "  </tbody>\n",
       "</table>\n",
       "</div>"
      ],
      "text/plain": [
       "   no.of_days_left  Cruidoilprice  price   month  day  isWEEKDAY  \\\n",
       "0               69           56.2    3732     11    1          0   \n",
       "1               69           56.2    3732     11    1          0   \n",
       "2               69           56.2    3732     11    1          0   \n",
       "3               69           56.2    3732     11    1          0   \n",
       "4               69           56.2    4157     11    1          0   \n",
       "\n",
       "   Dep_Time_min  Dep_Time_hr  Arrival_Time_min  Arrival_Time_hr  \\\n",
       "0            20            6                 0                9   \n",
       "1            35           16                25               19   \n",
       "2            25           18                15               21   \n",
       "3            55           19                55               22   \n",
       "4            45           21                25                0   \n",
       "\n",
       "   Total_Duration  Day_of_Week  part_of_day  \n",
       "0             160            5          7.0  \n",
       "1             170            5          3.0  \n",
       "2             170            5          3.0  \n",
       "3             150            5          4.0  \n",
       "4             160            5          4.0  "
      ]
     },
     "execution_count": 90,
     "metadata": {},
     "output_type": "execute_result"
    }
   ],
   "source": [
    "df.head()"
   ]
  },
  {
   "cell_type": "code",
   "execution_count": 91,
   "metadata": {},
   "outputs": [
    {
     "data": {
      "text/plain": [
       "0       7.0\n",
       "1       3.0\n",
       "2       3.0\n",
       "3       4.0\n",
       "4       4.0\n",
       "       ... \n",
       "3001    7.0\n",
       "3002    0.0\n",
       "3003    3.0\n",
       "3004    3.0\n",
       "3005    2.0\n",
       "Name: part_of_day, Length: 3006, dtype: float64"
      ]
     },
     "execution_count": 91,
     "metadata": {},
     "output_type": "execute_result"
    }
   ],
   "source": [
    "df['part_of_day']"
   ]
  },
  {
   "cell_type": "code",
   "execution_count": 92,
   "metadata": {},
   "outputs": [],
   "source": [
    "df['part_of_day'].replace([0.0,1.0,2.0,3.0,4.0,5.0,6.0,7.0], [0,1,2,3,4,5,6,7], inplace=True)\n",
    "df[\"part_of_day\"] = df[\"part_of_day\"].apply(pd.to_numeric)"
   ]
  },
  {
   "cell_type": "code",
   "execution_count": 93,
   "metadata": {},
   "outputs": [],
   "source": [
    "#df['part_of_day'].astype(int)"
   ]
  },
  {
   "cell_type": "code",
   "execution_count": 101,
   "metadata": {},
   "outputs": [
    {
     "data": {
      "text/html": [
       "<div>\n",
       "<style scoped>\n",
       "    .dataframe tbody tr th:only-of-type {\n",
       "        vertical-align: middle;\n",
       "    }\n",
       "\n",
       "    .dataframe tbody tr th {\n",
       "        vertical-align: top;\n",
       "    }\n",
       "\n",
       "    .dataframe thead th {\n",
       "        text-align: right;\n",
       "    }\n",
       "</style>\n",
       "<table border=\"1\" class=\"dataframe\">\n",
       "  <thead>\n",
       "    <tr style=\"text-align: right;\">\n",
       "      <th></th>\n",
       "      <th>no.of_days_left</th>\n",
       "      <th>Cruidoilprice</th>\n",
       "      <th>price</th>\n",
       "      <th>month</th>\n",
       "      <th>day</th>\n",
       "      <th>isWEEKDAY</th>\n",
       "      <th>Dep_Time_min</th>\n",
       "      <th>Dep_Time_hr</th>\n",
       "      <th>Arrival_Time_min</th>\n",
       "      <th>Arrival_Time_hr</th>\n",
       "      <th>Total_Duration</th>\n",
       "      <th>Day_of_Week</th>\n",
       "      <th>part_of_day</th>\n",
       "    </tr>\n",
       "  </thead>\n",
       "  <tbody>\n",
       "    <tr>\n",
       "      <th>0</th>\n",
       "      <td>69</td>\n",
       "      <td>56.2</td>\n",
       "      <td>3732</td>\n",
       "      <td>11</td>\n",
       "      <td>1</td>\n",
       "      <td>0</td>\n",
       "      <td>20</td>\n",
       "      <td>6</td>\n",
       "      <td>0</td>\n",
       "      <td>9</td>\n",
       "      <td>160</td>\n",
       "      <td>5</td>\n",
       "      <td>7.0</td>\n",
       "    </tr>\n",
       "    <tr>\n",
       "      <th>1</th>\n",
       "      <td>69</td>\n",
       "      <td>56.2</td>\n",
       "      <td>3732</td>\n",
       "      <td>11</td>\n",
       "      <td>1</td>\n",
       "      <td>0</td>\n",
       "      <td>35</td>\n",
       "      <td>16</td>\n",
       "      <td>25</td>\n",
       "      <td>19</td>\n",
       "      <td>170</td>\n",
       "      <td>5</td>\n",
       "      <td>3.0</td>\n",
       "    </tr>\n",
       "    <tr>\n",
       "      <th>2</th>\n",
       "      <td>69</td>\n",
       "      <td>56.2</td>\n",
       "      <td>3732</td>\n",
       "      <td>11</td>\n",
       "      <td>1</td>\n",
       "      <td>0</td>\n",
       "      <td>25</td>\n",
       "      <td>18</td>\n",
       "      <td>15</td>\n",
       "      <td>21</td>\n",
       "      <td>170</td>\n",
       "      <td>5</td>\n",
       "      <td>3.0</td>\n",
       "    </tr>\n",
       "    <tr>\n",
       "      <th>3</th>\n",
       "      <td>69</td>\n",
       "      <td>56.2</td>\n",
       "      <td>3732</td>\n",
       "      <td>11</td>\n",
       "      <td>1</td>\n",
       "      <td>0</td>\n",
       "      <td>55</td>\n",
       "      <td>19</td>\n",
       "      <td>55</td>\n",
       "      <td>22</td>\n",
       "      <td>150</td>\n",
       "      <td>5</td>\n",
       "      <td>4.0</td>\n",
       "    </tr>\n",
       "    <tr>\n",
       "      <th>4</th>\n",
       "      <td>69</td>\n",
       "      <td>56.2</td>\n",
       "      <td>4157</td>\n",
       "      <td>11</td>\n",
       "      <td>1</td>\n",
       "      <td>0</td>\n",
       "      <td>45</td>\n",
       "      <td>21</td>\n",
       "      <td>25</td>\n",
       "      <td>0</td>\n",
       "      <td>160</td>\n",
       "      <td>5</td>\n",
       "      <td>4.0</td>\n",
       "    </tr>\n",
       "  </tbody>\n",
       "</table>\n",
       "</div>"
      ],
      "text/plain": [
       "   no.of_days_left  Cruidoilprice  price   month  day  isWEEKDAY  \\\n",
       "0               69           56.2    3732     11    1          0   \n",
       "1               69           56.2    3732     11    1          0   \n",
       "2               69           56.2    3732     11    1          0   \n",
       "3               69           56.2    3732     11    1          0   \n",
       "4               69           56.2    4157     11    1          0   \n",
       "\n",
       "   Dep_Time_min  Dep_Time_hr  Arrival_Time_min  Arrival_Time_hr  \\\n",
       "0            20            6                 0                9   \n",
       "1            35           16                25               19   \n",
       "2            25           18                15               21   \n",
       "3            55           19                55               22   \n",
       "4            45           21                25                0   \n",
       "\n",
       "   Total_Duration  Day_of_Week  part_of_day  \n",
       "0             160            5          7.0  \n",
       "1             170            5          3.0  \n",
       "2             170            5          3.0  \n",
       "3             150            5          4.0  \n",
       "4             160            5          4.0  "
      ]
     },
     "execution_count": 101,
     "metadata": {},
     "output_type": "execute_result"
    }
   ],
   "source": [
    "df.head()"
   ]
  },
  {
   "cell_type": "code",
   "execution_count": 102,
   "metadata": {},
   "outputs": [
    {
     "name": "stdout",
     "output_type": "stream",
     "text": [
      "<class 'pandas.core.frame.DataFrame'>\n",
      "RangeIndex: 3006 entries, 0 to 3005\n",
      "Data columns (total 13 columns):\n",
      " #   Column            Non-Null Count  Dtype  \n",
      "---  ------            --------------  -----  \n",
      " 0   no.of_days_left   3006 non-null   int64  \n",
      " 1   Cruidoilprice     3006 non-null   float64\n",
      " 2   price             3006 non-null   int64  \n",
      " 3   month             3006 non-null   int64  \n",
      " 4   day               3006 non-null   int64  \n",
      " 5   isWEEKDAY         3006 non-null   int32  \n",
      " 6   Dep_Time_min      3006 non-null   int64  \n",
      " 7   Dep_Time_hr       3006 non-null   int64  \n",
      " 8   Arrival_Time_min  3006 non-null   int64  \n",
      " 9   Arrival_Time_hr   3006 non-null   int64  \n",
      " 10  Total_Duration    3006 non-null   int32  \n",
      " 11  Day_of_Week       3006 non-null   int32  \n",
      " 12  part_of_day       2937 non-null   float64\n",
      "dtypes: float64(2), int32(3), int64(8)\n",
      "memory usage: 270.2 KB\n"
     ]
    }
   ],
   "source": [
    "df.info()"
   ]
  },
  {
   "cell_type": "code",
   "execution_count": 103,
   "metadata": {},
   "outputs": [
    {
     "data": {
      "text/plain": [
       "no.of_days_left      0\n",
       "Cruidoilprice        0\n",
       "price                0\n",
       "month                0\n",
       "day                  0\n",
       "isWEEKDAY            0\n",
       "Dep_Time_min         0\n",
       "Dep_Time_hr          0\n",
       "Arrival_Time_min     0\n",
       "Arrival_Time_hr      0\n",
       "Total_Duration       0\n",
       "Day_of_Week          0\n",
       "part_of_day         69\n",
       "dtype: int64"
      ]
     },
     "execution_count": 103,
     "metadata": {},
     "output_type": "execute_result"
    }
   ],
   "source": [
    "df.isnull().sum()"
   ]
  },
  {
   "cell_type": "code",
   "execution_count": 104,
   "metadata": {},
   "outputs": [],
   "source": [
    "dfn=df.fillna(method='ffill')"
   ]
  },
  {
   "cell_type": "code",
   "execution_count": 105,
   "metadata": {},
   "outputs": [
    {
     "data": {
      "text/plain": [
       "no.of_days_left     0\n",
       "Cruidoilprice       0\n",
       "price               0\n",
       "month               0\n",
       "day                 0\n",
       "isWEEKDAY           0\n",
       "Dep_Time_min        0\n",
       "Dep_Time_hr         0\n",
       "Arrival_Time_min    0\n",
       "Arrival_Time_hr     0\n",
       "Total_Duration      0\n",
       "Day_of_Week         0\n",
       "part_of_day         0\n",
       "dtype: int64"
      ]
     },
     "execution_count": 105,
     "metadata": {},
     "output_type": "execute_result"
    }
   ],
   "source": [
    "dfn.isnull().sum()"
   ]
  },
  {
   "cell_type": "code",
   "execution_count": 106,
   "metadata": {},
   "outputs": [
    {
     "data": {
      "text/html": [
       "<div>\n",
       "<style scoped>\n",
       "    .dataframe tbody tr th:only-of-type {\n",
       "        vertical-align: middle;\n",
       "    }\n",
       "\n",
       "    .dataframe tbody tr th {\n",
       "        vertical-align: top;\n",
       "    }\n",
       "\n",
       "    .dataframe thead th {\n",
       "        text-align: right;\n",
       "    }\n",
       "</style>\n",
       "<table border=\"1\" class=\"dataframe\">\n",
       "  <thead>\n",
       "    <tr style=\"text-align: right;\">\n",
       "      <th></th>\n",
       "      <th>no.of_days_left</th>\n",
       "      <th>Cruidoilprice</th>\n",
       "      <th>price</th>\n",
       "      <th>month</th>\n",
       "      <th>day</th>\n",
       "      <th>isWEEKDAY</th>\n",
       "      <th>Dep_Time_min</th>\n",
       "      <th>Dep_Time_hr</th>\n",
       "      <th>Arrival_Time_min</th>\n",
       "      <th>Arrival_Time_hr</th>\n",
       "      <th>Total_Duration</th>\n",
       "      <th>Day_of_Week</th>\n",
       "      <th>part_of_day</th>\n",
       "    </tr>\n",
       "  </thead>\n",
       "  <tbody>\n",
       "    <tr>\n",
       "      <th>0</th>\n",
       "      <td>69</td>\n",
       "      <td>56.2</td>\n",
       "      <td>3732</td>\n",
       "      <td>11</td>\n",
       "      <td>1</td>\n",
       "      <td>0</td>\n",
       "      <td>20</td>\n",
       "      <td>6</td>\n",
       "      <td>0</td>\n",
       "      <td>9</td>\n",
       "      <td>160</td>\n",
       "      <td>5</td>\n",
       "      <td>7.0</td>\n",
       "    </tr>\n",
       "    <tr>\n",
       "      <th>1</th>\n",
       "      <td>69</td>\n",
       "      <td>56.2</td>\n",
       "      <td>3732</td>\n",
       "      <td>11</td>\n",
       "      <td>1</td>\n",
       "      <td>0</td>\n",
       "      <td>35</td>\n",
       "      <td>16</td>\n",
       "      <td>25</td>\n",
       "      <td>19</td>\n",
       "      <td>170</td>\n",
       "      <td>5</td>\n",
       "      <td>3.0</td>\n",
       "    </tr>\n",
       "    <tr>\n",
       "      <th>2</th>\n",
       "      <td>69</td>\n",
       "      <td>56.2</td>\n",
       "      <td>3732</td>\n",
       "      <td>11</td>\n",
       "      <td>1</td>\n",
       "      <td>0</td>\n",
       "      <td>25</td>\n",
       "      <td>18</td>\n",
       "      <td>15</td>\n",
       "      <td>21</td>\n",
       "      <td>170</td>\n",
       "      <td>5</td>\n",
       "      <td>3.0</td>\n",
       "    </tr>\n",
       "    <tr>\n",
       "      <th>3</th>\n",
       "      <td>69</td>\n",
       "      <td>56.2</td>\n",
       "      <td>3732</td>\n",
       "      <td>11</td>\n",
       "      <td>1</td>\n",
       "      <td>0</td>\n",
       "      <td>55</td>\n",
       "      <td>19</td>\n",
       "      <td>55</td>\n",
       "      <td>22</td>\n",
       "      <td>150</td>\n",
       "      <td>5</td>\n",
       "      <td>4.0</td>\n",
       "    </tr>\n",
       "    <tr>\n",
       "      <th>4</th>\n",
       "      <td>69</td>\n",
       "      <td>56.2</td>\n",
       "      <td>4157</td>\n",
       "      <td>11</td>\n",
       "      <td>1</td>\n",
       "      <td>0</td>\n",
       "      <td>45</td>\n",
       "      <td>21</td>\n",
       "      <td>25</td>\n",
       "      <td>0</td>\n",
       "      <td>160</td>\n",
       "      <td>5</td>\n",
       "      <td>4.0</td>\n",
       "    </tr>\n",
       "  </tbody>\n",
       "</table>\n",
       "</div>"
      ],
      "text/plain": [
       "   no.of_days_left  Cruidoilprice  price   month  day  isWEEKDAY  \\\n",
       "0               69           56.2    3732     11    1          0   \n",
       "1               69           56.2    3732     11    1          0   \n",
       "2               69           56.2    3732     11    1          0   \n",
       "3               69           56.2    3732     11    1          0   \n",
       "4               69           56.2    4157     11    1          0   \n",
       "\n",
       "   Dep_Time_min  Dep_Time_hr  Arrival_Time_min  Arrival_Time_hr  \\\n",
       "0            20            6                 0                9   \n",
       "1            35           16                25               19   \n",
       "2            25           18                15               21   \n",
       "3            55           19                55               22   \n",
       "4            45           21                25                0   \n",
       "\n",
       "   Total_Duration  Day_of_Week  part_of_day  \n",
       "0             160            5          7.0  \n",
       "1             170            5          3.0  \n",
       "2             170            5          3.0  \n",
       "3             150            5          4.0  \n",
       "4             160            5          4.0  "
      ]
     },
     "execution_count": 106,
     "metadata": {},
     "output_type": "execute_result"
    }
   ],
   "source": [
    "dfn.head()"
   ]
  },
  {
   "cell_type": "code",
   "execution_count": 107,
   "metadata": {},
   "outputs": [],
   "source": [
    "#df=((train-train.min())/(train.max()-train.min()))*100\n",
    "#df=(((train-train.min())/(train.max()-train.min()))*(9000-3000))+3000"
   ]
  },
  {
   "cell_type": "code",
   "execution_count": 108,
   "metadata": {},
   "outputs": [
    {
     "data": {
      "text/plain": [
       "Index(['no.of_days_left', 'Cruidoilprice', 'price ', 'month', 'day',\n",
       "       'isWEEKDAY', 'Dep_Time_min', 'Dep_Time_hr', 'Arrival_Time_min',\n",
       "       'Arrival_Time_hr', 'Total_Duration', 'Day_of_Week', 'part_of_day'],\n",
       "      dtype='object')"
      ]
     },
     "execution_count": 108,
     "metadata": {},
     "output_type": "execute_result"
    }
   ],
   "source": [
    "dfn.columns"
   ]
  },
  {
   "cell_type": "code",
   "execution_count": 112,
   "metadata": {},
   "outputs": [
    {
     "name": "stdout",
     "output_type": "stream",
     "text": [
      "[[1.71740195 1.25931594 1.21729911 ... 0.60549091 0.49800624 1.50924176]\n",
      " [1.71740195 1.25931594 1.21729911 ... 0.24836236 0.49800624 0.24173498]\n",
      " [1.71740195 1.25931594 1.21729911 ... 0.24836236 0.49800624 0.24173498]\n",
      " ...\n",
      " [1.68943498 0.28315483 2.54611675 ... 0.42692663 0.49569223 0.24173498]\n",
      " [1.68943498 0.28315483 1.98401339 ... 0.24836236 0.49569223 0.24173498]\n",
      " [1.68943498 0.28315483 1.19248008 ... 0.06979808 0.49569223 0.67947917]]\n"
     ]
    }
   ],
   "source": [
    "from scipy import stats\n",
    "import numpy as np\n",
    "z = np.abs(stats.zscore(dfn))\n",
    "print(z)\n"
   ]
  },
  {
   "cell_type": "code",
   "execution_count": 113,
   "metadata": {},
   "outputs": [
    {
     "name": "stdout",
     "output_type": "stream",
     "text": [
      "(array([  13,   37,   37,   56,   80,   80,   99,  123,  123,  142,  166,\n",
      "        166,  185,  209,  209,  228,  252,  252,  271,  295,  314,  338,\n",
      "        357,  381,  400,  424,  443,  467,  486,  510,  529,  553,  572,\n",
      "        596,  615,  639,  639,  658,  682,  682,  701,  725,  725,  744,\n",
      "        768,  787,  811,  830,  854,  873,  897,  916,  940,  959,  983,\n",
      "       1002, 1026, 1045, 1069, 1088, 1112, 1131, 1155, 1174, 1198, 1217,\n",
      "       1241, 1260, 1284, 1303, 1327, 1327, 1346, 1370, 1370, 1389, 1413,\n",
      "       1413, 1432, 1456, 1456, 1475, 1499, 1499, 1518, 1542, 1542, 1561,\n",
      "       1585, 1585, 1604, 1628, 1628, 1647, 1671, 1671, 1690, 1715, 1715,\n",
      "       1734, 1759, 1759, 1778, 1803, 1803, 1822, 1847, 1866, 1891, 1910,\n",
      "       1935, 1954, 1979, 1998, 2023, 2042, 2067, 2086, 2111, 2130, 2155,\n",
      "       2174, 2199, 2218, 2243, 2262, 2287, 2306, 2331, 2350, 2375, 2394,\n",
      "       2419, 2438, 2463, 2482, 2507, 2526, 2526, 2551, 2571, 2571, 2596,\n",
      "       2616, 2616, 2641, 2661, 2661, 2686, 2706, 2731, 2751, 2776, 2796,\n",
      "       2821, 2841, 2866, 2886, 2892, 2910, 2930, 2936, 2954, 2974, 2980,\n",
      "       2981, 2999, 2999], dtype=int64), array([10,  2, 10, 10,  2, 10, 10,  2, 10, 10,  2, 10, 10,  2, 10, 10,  2,\n",
      "       10, 10, 10, 10, 10, 10, 10, 10, 10, 10, 10, 10, 10, 10, 10, 10, 10,\n",
      "       10,  2, 10, 10,  2, 10, 10,  2, 10, 10, 10, 10, 10, 10, 10, 10, 10,\n",
      "       10, 10, 10, 10, 10, 10, 10, 10, 10, 10, 10, 10, 10, 10, 10, 10, 10,\n",
      "       10, 10,  2, 10, 10,  2, 10, 10,  2, 10, 10,  2, 10, 10,  2, 10, 10,\n",
      "        2, 10, 10,  2, 10, 10,  2, 10, 10,  2, 10, 10,  2, 10, 10,  2, 10,\n",
      "       10,  2, 10, 10, 10, 10, 10, 10, 10, 10, 10, 10, 10, 10, 10, 10, 10,\n",
      "       10, 10, 10, 10, 10, 10, 10, 10, 10, 10, 10, 10, 10, 10, 10, 10, 10,\n",
      "       10,  2, 10, 10,  2, 10, 10,  2, 10, 10,  2, 10, 10, 10, 10, 10, 10,\n",
      "       10, 10, 10, 10, 10,  2, 10, 10,  2, 10, 10,  2,  2,  2, 10],\n",
      "      dtype=int64))\n"
     ]
    }
   ],
   "source": [
    "threshold = 3\n",
    "print(np.where(z > 3))    # As we want Confidence Interval of 99.73% hence Z=3"
   ]
  },
  {
   "cell_type": "code",
   "execution_count": 114,
   "metadata": {},
   "outputs": [
    {
     "name": "stdout",
     "output_type": "stream",
     "text": [
      "(array([   0,    0,    0, ..., 3005, 3005, 3005], dtype=int64), array([ 0,  1,  2, ..., 10, 11, 12], dtype=int64))\n"
     ]
    }
   ],
   "source": [
    "threshold = 3\n",
    "print(np.where(z < 3))"
   ]
  },
  {
   "cell_type": "code",
   "execution_count": 115,
   "metadata": {},
   "outputs": [
    {
     "data": {
      "text/plain": [
       "(3006, 13)"
      ]
     },
     "execution_count": 115,
     "metadata": {},
     "output_type": "execute_result"
    }
   ],
   "source": [
    "z.shape"
   ]
  },
  {
   "cell_type": "code",
   "execution_count": 116,
   "metadata": {},
   "outputs": [],
   "source": [
    "dfn = dfn[(z < 3).all(axis=1)]"
   ]
  },
  {
   "cell_type": "code",
   "execution_count": 118,
   "metadata": {},
   "outputs": [
    {
     "data": {
      "text/plain": [
       "(2864, 13)"
      ]
     },
     "execution_count": 118,
     "metadata": {},
     "output_type": "execute_result"
    }
   ],
   "source": [
    "dfn.shape"
   ]
  },
  {
   "cell_type": "code",
   "execution_count": 121,
   "metadata": {},
   "outputs": [
    {
     "name": "stdout",
     "output_type": "stream",
     "text": [
      "no.of_days_left     0.018787\n",
      "Cruidoilprice       0.178936\n",
      "price               0.562641\n",
      "month              -2.282421\n",
      "day                 0.185268\n",
      "isWEEKDAY           0.936506\n",
      "Dep_Time_min       -0.451812\n",
      "Dep_Time_hr        -0.268068\n",
      "Arrival_Time_min   -0.430846\n",
      "Arrival_Time_hr    -0.368257\n",
      "Total_Duration      3.588882\n",
      "Day_of_Week         0.000514\n",
      "part_of_day         0.163718\n",
      "dtype: float64\n"
     ]
    }
   ],
   "source": [
    "print(dfn.skew())"
   ]
  },
  {
   "cell_type": "code",
   "execution_count": 122,
   "metadata": {},
   "outputs": [
    {
     "name": "stdout",
     "output_type": "stream",
     "text": [
      "no.of_days_left     -1.205819\n",
      "Cruidoilprice       -0.937525\n",
      "price               -0.286099\n",
      "month                3.384172\n",
      "day                 -1.255161\n",
      "isWEEKDAY           -1.123741\n",
      "Dep_Time_min        -1.128920\n",
      "Dep_Time_hr         -1.313578\n",
      "Arrival_Time_min    -0.959454\n",
      "Arrival_Time_hr     -1.090683\n",
      "Total_Duration      12.963231\n",
      "Day_of_Week         -1.271380\n",
      "part_of_day         -0.930582\n",
      "dtype: float64\n"
     ]
    }
   ],
   "source": [
    "print(dfn.kurt())          # we can see that kurtsis coeff reduces significantly after removing outliers"
   ]
  },
  {
   "cell_type": "code",
   "execution_count": 124,
   "metadata": {},
   "outputs": [
    {
     "data": {
      "text/plain": [
       "<matplotlib.axes._subplots.AxesSubplot at 0x22e3f28bc10>"
      ]
     },
     "execution_count": 124,
     "metadata": {},
     "output_type": "execute_result"
    },
    {
     "data": {
      "image/png": "[encoded data removed]",
      "text/plain": [
       "<Figure size 432x288 with 1 Axes>"
      ]
     },
     "metadata": {
      "needs_background": "light"
     },
     "output_type": "display_data"
    }
   ],
   "source": [
    "sns.distplot(dfn['price '])   # Bi modal distribution plot of price"
   ]
  },
  {
   "cell_type": "code",
   "execution_count": 109,
   "metadata": {},
   "outputs": [],
   "source": [
    "#X_train=X_train.reshape(1,-1)\n"
   ]
  },
  {
   "cell_type": "code",
   "execution_count": 110,
   "metadata": {},
   "outputs": [],
   "source": [
    "#X_test=X_test.reshape(1,-1)"
   ]
  },
  {
   "cell_type": "markdown",
   "metadata": {},
   "source": [
    "# Data Normalization"
   ]
  },
  {
   "cell_type": "code",
   "execution_count": 125,
   "metadata": {},
   "outputs": [],
   "source": [
    "#df=((train-train.min())/(train.max()-train.min()))*100\n",
    "df=(((dfn-dfn.min())/(dfn.max()-dfn.min()))*(9000-3000))+3000"
   ]
  },
  {
   "cell_type": "code",
   "execution_count": 126,
   "metadata": {},
   "outputs": [
    {
     "data": {
      "text/html": [
       "<div>\n",
       "<style scoped>\n",
       "    .dataframe tbody tr th:only-of-type {\n",
       "        vertical-align: middle;\n",
       "    }\n",
       "\n",
       "    .dataframe tbody tr th {\n",
       "        vertical-align: top;\n",
       "    }\n",
       "\n",
       "    .dataframe thead th {\n",
       "        text-align: right;\n",
       "    }\n",
       "</style>\n",
       "<table border=\"1\" class=\"dataframe\">\n",
       "  <thead>\n",
       "    <tr style=\"text-align: right;\">\n",
       "      <th></th>\n",
       "      <th>no.of_days_left</th>\n",
       "      <th>Cruidoilprice</th>\n",
       "      <th>price</th>\n",
       "      <th>month</th>\n",
       "      <th>day</th>\n",
       "      <th>isWEEKDAY</th>\n",
       "      <th>Dep_Time_min</th>\n",
       "      <th>Dep_Time_hr</th>\n",
       "      <th>Arrival_Time_min</th>\n",
       "      <th>Arrival_Time_hr</th>\n",
       "      <th>Total_Duration</th>\n",
       "      <th>Day_of_Week</th>\n",
       "      <th>part_of_day</th>\n",
       "    </tr>\n",
       "  </thead>\n",
       "  <tbody>\n",
       "    <tr>\n",
       "      <th>0</th>\n",
       "      <td>9000.0</td>\n",
       "      <td>4067.44186</td>\n",
       "      <td>3534.872052</td>\n",
       "      <td>8454.545455</td>\n",
       "      <td>3000.0</td>\n",
       "      <td>3000.0</td>\n",
       "      <td>5181.818182</td>\n",
       "      <td>4636.363636</td>\n",
       "      <td>3000.000000</td>\n",
       "      <td>5347.826087</td>\n",
       "      <td>3545.454545</td>\n",
       "      <td>7000.0</td>\n",
       "      <td>9000.000000</td>\n",
       "    </tr>\n",
       "    <tr>\n",
       "      <th>1</th>\n",
       "      <td>9000.0</td>\n",
       "      <td>4067.44186</td>\n",
       "      <td>3534.872052</td>\n",
       "      <td>8454.545455</td>\n",
       "      <td>3000.0</td>\n",
       "      <td>3000.0</td>\n",
       "      <td>6818.181818</td>\n",
       "      <td>7363.636364</td>\n",
       "      <td>5727.272727</td>\n",
       "      <td>7956.521739</td>\n",
       "      <td>4090.909091</td>\n",
       "      <td>7000.0</td>\n",
       "      <td>5571.428571</td>\n",
       "    </tr>\n",
       "    <tr>\n",
       "      <th>2</th>\n",
       "      <td>9000.0</td>\n",
       "      <td>4067.44186</td>\n",
       "      <td>3534.872052</td>\n",
       "      <td>8454.545455</td>\n",
       "      <td>3000.0</td>\n",
       "      <td>3000.0</td>\n",
       "      <td>5727.272727</td>\n",
       "      <td>7909.090909</td>\n",
       "      <td>4636.363636</td>\n",
       "      <td>8478.260870</td>\n",
       "      <td>4090.909091</td>\n",
       "      <td>7000.0</td>\n",
       "      <td>5571.428571</td>\n",
       "    </tr>\n",
       "    <tr>\n",
       "      <th>3</th>\n",
       "      <td>9000.0</td>\n",
       "      <td>4067.44186</td>\n",
       "      <td>3534.872052</td>\n",
       "      <td>8454.545455</td>\n",
       "      <td>3000.0</td>\n",
       "      <td>3000.0</td>\n",
       "      <td>9000.000000</td>\n",
       "      <td>8181.818182</td>\n",
       "      <td>9000.000000</td>\n",
       "      <td>8739.130435</td>\n",
       "      <td>3000.000000</td>\n",
       "      <td>7000.0</td>\n",
       "      <td>6428.571429</td>\n",
       "    </tr>\n",
       "    <tr>\n",
       "      <th>4</th>\n",
       "      <td>9000.0</td>\n",
       "      <td>4067.44186</td>\n",
       "      <td>3961.364777</td>\n",
       "      <td>8454.545455</td>\n",
       "      <td>3000.0</td>\n",
       "      <td>3000.0</td>\n",
       "      <td>7909.090909</td>\n",
       "      <td>8727.272727</td>\n",
       "      <td>5727.272727</td>\n",
       "      <td>3000.000000</td>\n",
       "      <td>3545.454545</td>\n",
       "      <td>7000.0</td>\n",
       "      <td>6428.571429</td>\n",
       "    </tr>\n",
       "  </tbody>\n",
       "</table>\n",
       "</div>"
      ],
      "text/plain": [
       "   no.of_days_left  Cruidoilprice       price         month     day  \\\n",
       "0           9000.0     4067.44186  3534.872052  8454.545455  3000.0   \n",
       "1           9000.0     4067.44186  3534.872052  8454.545455  3000.0   \n",
       "2           9000.0     4067.44186  3534.872052  8454.545455  3000.0   \n",
       "3           9000.0     4067.44186  3534.872052  8454.545455  3000.0   \n",
       "4           9000.0     4067.44186  3961.364777  8454.545455  3000.0   \n",
       "\n",
       "   isWEEKDAY  Dep_Time_min  Dep_Time_hr  Arrival_Time_min  Arrival_Time_hr  \\\n",
       "0     3000.0   5181.818182  4636.363636       3000.000000      5347.826087   \n",
       "1     3000.0   6818.181818  7363.636364       5727.272727      7956.521739   \n",
       "2     3000.0   5727.272727  7909.090909       4636.363636      8478.260870   \n",
       "3     3000.0   9000.000000  8181.818182       9000.000000      8739.130435   \n",
       "4     3000.0   7909.090909  8727.272727       5727.272727      3000.000000   \n",
       "\n",
       "   Total_Duration  Day_of_Week  part_of_day  \n",
       "0     3545.454545       7000.0  9000.000000  \n",
       "1     4090.909091       7000.0  5571.428571  \n",
       "2     4090.909091       7000.0  5571.428571  \n",
       "3     3000.000000       7000.0  6428.571429  \n",
       "4     3545.454545       7000.0  6428.571429  "
      ]
     },
     "execution_count": 126,
     "metadata": {},
     "output_type": "execute_result"
    }
   ],
   "source": [
    "df.head()"
   ]
  },
  {
   "cell_type": "code",
   "execution_count": null,
   "metadata": {},
   "outputs": [],
   "source": []
  },
  {
   "cell_type": "code",
   "execution_count": 128,
   "metadata": {},
   "outputs": [
    {
     "data": {
      "text/plain": [
       "Index(['no.of_days_left', 'Cruidoilprice', 'price ', 'month', 'day',\n",
       "       'isWEEKDAY', 'Dep_Time_min', 'Dep_Time_hr', 'Arrival_Time_min',\n",
       "       'Arrival_Time_hr', 'Total_Duration', 'Day_of_Week', 'part_of_day'],\n",
       "      dtype='object')"
      ]
     },
     "execution_count": 128,
     "metadata": {},
     "output_type": "execute_result"
    }
   ],
   "source": [
    "df.columns\n"
   ]
  },
  {
   "cell_type": "code",
   "execution_count": 130,
   "metadata": {},
   "outputs": [],
   "source": [
    "X=df[['no.of_days_left', 'Cruidoilprice','month', 'day',\n",
    "       'isWEEKDAY', 'Dep_Time_min', 'Dep_Time_hr', 'Arrival_Time_min',\n",
    "       'Arrival_Time_hr', 'Total_Duration', 'Day_of_Week', 'part_of_day']]"
   ]
  },
  {
   "cell_type": "code",
   "execution_count": 131,
   "metadata": {},
   "outputs": [],
   "source": [
    "y=df['price ']"
   ]
  },
  {
   "cell_type": "markdown",
   "metadata": {},
   "source": [
    "# Train Test Split"
   ]
  },
  {
   "cell_type": "code",
   "execution_count": 133,
   "metadata": {},
   "outputs": [],
   "source": [
    "from sklearn.model_selection import train_test_split"
   ]
  },
  {
   "cell_type": "code",
   "execution_count": 134,
   "metadata": {},
   "outputs": [],
   "source": [
    "X_train, X_test, y_train, y_test = train_test_split(X, y, test_size=0.4, random_state=101)"
   ]
  },
  {
   "cell_type": "markdown",
   "metadata": {},
   "source": [
    "# 1.Random Forest Regression"
   ]
  },
  {
   "cell_type": "code",
   "execution_count": 135,
   "metadata": {},
   "outputs": [],
   "source": [
    "from sklearn.ensemble import RandomForestRegressor "
   ]
  },
  {
   "cell_type": "code",
   "execution_count": 136,
   "metadata": {},
   "outputs": [],
   "source": [
    "rf = RandomForestRegressor(random_state=42)\n"
   ]
  },
  {
   "cell_type": "code",
   "execution_count": 137,
   "metadata": {},
   "outputs": [
    {
     "data": {
      "text/plain": [
       "RandomForestRegressor(random_state=42)"
      ]
     },
     "execution_count": 137,
     "metadata": {},
     "output_type": "execute_result"
    }
   ],
   "source": [
    "rf.fit(X_train, y_train)"
   ]
  },
  {
   "cell_type": "code",
   "execution_count": 138,
   "metadata": {},
   "outputs": [],
   "source": [
    "predictions= rf.predict(X_test)"
   ]
  },
  {
   "cell_type": "code",
   "execution_count": 139,
   "metadata": {},
   "outputs": [
    {
     "data": {
      "text/plain": [
       "array([3418.81585549, 7062.19769192, 7088.78073256, 6273.15604616,\n",
       "       4028.37932765])"
      ]
     },
     "execution_count": 139,
     "metadata": {},
     "output_type": "execute_result"
    }
   ],
   "source": [
    "predictions[0:5]"
   ]
  },
  {
   "cell_type": "code",
   "execution_count": 140,
   "metadata": {},
   "outputs": [
    {
     "data": {
      "text/plain": [
       "2425    3294.029102\n",
       "2852    7115.403914\n",
       "2755    7115.403914\n",
       "62      6637.732062\n",
       "481     4023.582539\n",
       "Name: price , dtype: float64"
      ]
     },
     "execution_count": 140,
     "metadata": {},
     "output_type": "execute_result"
    }
   ],
   "source": [
    "y_test[0:5]"
   ]
  },
  {
   "cell_type": "code",
   "execution_count": 141,
   "metadata": {},
   "outputs": [
    {
     "data": {
      "text/plain": [
       "0.9474459205000019"
      ]
     },
     "execution_count": 141,
     "metadata": {},
     "output_type": "execute_result"
    }
   ],
   "source": [
    "rf.score(X,y)"
   ]
  },
  {
   "cell_type": "code",
   "execution_count": 142,
   "metadata": {},
   "outputs": [],
   "source": [
    "from sklearn import metrics"
   ]
  },
  {
   "cell_type": "code",
   "execution_count": 143,
   "metadata": {},
   "outputs": [
    {
     "data": {
      "text/plain": [
       "201.12232254426274"
      ]
     },
     "execution_count": 143,
     "metadata": {},
     "output_type": "execute_result"
    }
   ],
   "source": [
    "metrics.mean_absolute_error(y_test,predictions)"
   ]
  },
  {
   "cell_type": "code",
   "execution_count": 144,
   "metadata": {},
   "outputs": [
    {
     "data": {
      "text/plain": [
       "138388.59668682996"
      ]
     },
     "execution_count": 144,
     "metadata": {},
     "output_type": "execute_result"
    }
   ],
   "source": [
    "metrics.mean_squared_error(y_test,predictions)"
   ]
  },
  {
   "cell_type": "code",
   "execution_count": 145,
   "metadata": {},
   "outputs": [
    {
     "data": {
      "text/plain": [
       "0.006104394737781274"
      ]
     },
     "execution_count": 145,
     "metadata": {},
     "output_type": "execute_result"
    }
   ],
   "source": [
    "metrics.mean_squared_log_error(y_test,predictions)"
   ]
  },
  {
   "cell_type": "code",
   "execution_count": 146,
   "metadata": {},
   "outputs": [
    {
     "data": {
      "text/plain": [
       "array([0.41274786, 0.03955549, 0.01651225, 0.04909148, 0.00103669,\n",
       "       0.10729041, 0.05416368, 0.05241322, 0.1234658 , 0.09232279,\n",
       "       0.01187099, 0.03952934])"
      ]
     },
     "execution_count": 146,
     "metadata": {},
     "output_type": "execute_result"
    }
   ],
   "source": [
    "rf.feature_importances_\n"
   ]
  },
  {
   "cell_type": "code",
   "execution_count": 151,
   "metadata": {},
   "outputs": [
    {
     "data": {
      "text/plain": [
       "array([5950.88810838])"
      ]
     },
     "execution_count": 151,
     "metadata": {},
     "output_type": "execute_result"
    }
   ],
   "source": [
    "rf.predict([[68,54,7,2,0,16,35,19,25,150,3,4]])"
   ]
  },
  {
   "cell_type": "code",
   "execution_count": 148,
   "metadata": {},
   "outputs": [],
   "source": [
    "# get feature importances from a model\n",
    "import matplotlib.pyplot as plt\n",
    "def plotFeatureImportances(model):\n",
    "    #first print all features importances in descending order\n",
    "    feature_importances = pd.DataFrame(model.feature_importances_,\n",
    "                                   index = X.columns,\n",
    "                                    columns=['importance']).sort_values('importance',ascending=False)\n",
    "    print(feature_importances)\n",
    "    # Next plot feature importances to get idea about where the curve breaks\n",
    "    # in the graph i.e. select top appropriate features\n",
    "    features = X.columns.tolist()\n",
    "    importances = model.feature_importances_\n",
    "    indices = np.argsort(importances)\n",
    "    plt.title('Feature Importances')\n",
    "    plt.barh(range(len(indices)), importances[indices], color='b', align='center')\n",
    "    plt.yticks(range(len(indices)), [features[i] for i in indices])\n",
    "    plt.xlabel('Relative Importance')\n",
    "    plt.show()"
   ]
  },
  {
   "cell_type": "code",
   "execution_count": 149,
   "metadata": {},
   "outputs": [
    {
     "name": "stdout",
     "output_type": "stream",
     "text": [
      "                  importance\n",
      "no.of_days_left     0.412748\n",
      "Arrival_Time_hr     0.123466\n",
      "Dep_Time_min        0.107290\n",
      "Total_Duration      0.092323\n",
      "Dep_Time_hr         0.054164\n",
      "Arrival_Time_min    0.052413\n",
      "day                 0.049091\n",
      "Cruidoilprice       0.039555\n",
      "part_of_day         0.039529\n",
      "month               0.016512\n",
      "Day_of_Week         0.011871\n",
      "isWEEKDAY           0.001037\n"
     ]
    },
    {
     "data": {
      "image/png": "[encoded data removed]",
      "text/plain": [
       "<Figure size 432x288 with 1 Axes>"
      ]
     },
     "metadata": {
      "needs_background": "light"
     },
     "output_type": "display_data"
    }
   ],
   "source": [
    "plotFeatureImportances(rf)"
   ]
  },
  {
   "cell_type": "markdown",
   "metadata": {},
   "source": [
    "# 2.Linear Regression"
   ]
  },
  {
   "cell_type": "code",
   "execution_count": 152,
   "metadata": {},
   "outputs": [],
   "source": [
    "from sklearn.linear_model import LinearRegression\n",
    "lm=LinearRegression()\n",
    "lm.fit(X_train,y_train)\n",
    "predictions=lm.predict(X_test)\n"
   ]
  },
  {
   "cell_type": "code",
   "execution_count": 153,
   "metadata": {},
   "outputs": [
    {
     "data": {
      "text/plain": [
       "array([4898.96013109, 5833.6681565 , 6764.34381744, ..., 4960.2703352 ,\n",
       "       3905.19832378, 4687.13801079])"
      ]
     },
     "execution_count": 153,
     "metadata": {},
     "output_type": "execute_result"
    }
   ],
   "source": [
    "predictions"
   ]
  },
  {
   "cell_type": "code",
   "execution_count": 154,
   "metadata": {},
   "outputs": [
    {
     "data": {
      "text/plain": [
       "0.39504217121133367"
      ]
     },
     "execution_count": 154,
     "metadata": {},
     "output_type": "execute_result"
    }
   ],
   "source": [
    "lm.score(X,y)"
   ]
  },
  {
   "cell_type": "code",
   "execution_count": 155,
   "metadata": {},
   "outputs": [
    {
     "data": {
      "text/plain": [
       "<matplotlib.collections.PathCollection at 0x22e3cdaaa60>"
      ]
     },
     "execution_count": 155,
     "metadata": {},
     "output_type": "execute_result"
    },
    {
     "data": {
      "image/png": "[encoded data removed]",
      "text/plain": [
       "<Figure size 432x288 with 1 Axes>"
      ]
     },
     "metadata": {
      "needs_background": "light"
     },
     "output_type": "display_data"
    }
   ],
   "source": [
    "plt.scatter(y_test,predictions)"
   ]
  },
  {
   "cell_type": "code",
   "execution_count": 156,
   "metadata": {},
   "outputs": [],
   "source": [
    "from sklearn import metrics"
   ]
  },
  {
   "cell_type": "code",
   "execution_count": 157,
   "metadata": {},
   "outputs": [
    {
     "data": {
      "text/plain": [
       "689.8002005815116"
      ]
     },
     "execution_count": 157,
     "metadata": {},
     "output_type": "execute_result"
    }
   ],
   "source": [
    "metrics.mean_absolute_error(y_test,predictions)"
   ]
  },
  {
   "cell_type": "code",
   "execution_count": 158,
   "metadata": {},
   "outputs": [
    {
     "data": {
      "text/plain": [
       "721151.7731409414"
      ]
     },
     "execution_count": 158,
     "metadata": {},
     "output_type": "execute_result"
    }
   ],
   "source": [
    "metrics.mean_squared_error(y_test,predictions)"
   ]
  },
  {
   "cell_type": "code",
   "execution_count": 159,
   "metadata": {},
   "outputs": [
    {
     "data": {
      "text/plain": [
       "0.030259431735202597"
      ]
     },
     "execution_count": 159,
     "metadata": {},
     "output_type": "execute_result"
    }
   ],
   "source": [
    "metrics.mean_squared_log_error(y_test,predictions)"
   ]
  },
  {
   "cell_type": "code",
   "execution_count": 160,
   "metadata": {},
   "outputs": [
    {
     "name": "stdout",
     "output_type": "stream",
     "text": [
      "7617.229393853575\n"
     ]
    }
   ],
   "source": [
    "print(lm.intercept_)"
   ]
  },
  {
   "cell_type": "code",
   "execution_count": 161,
   "metadata": {},
   "outputs": [
    {
     "data": {
      "text/html": [
       "<div>\n",
       "<style scoped>\n",
       "    .dataframe tbody tr th:only-of-type {\n",
       "        vertical-align: middle;\n",
       "    }\n",
       "\n",
       "    .dataframe tbody tr th {\n",
       "        vertical-align: top;\n",
       "    }\n",
       "\n",
       "    .dataframe thead th {\n",
       "        text-align: right;\n",
       "    }\n",
       "</style>\n",
       "<table border=\"1\" class=\"dataframe\">\n",
       "  <thead>\n",
       "    <tr style=\"text-align: right;\">\n",
       "      <th></th>\n",
       "      <th>Coefficient</th>\n",
       "    </tr>\n",
       "  </thead>\n",
       "  <tbody>\n",
       "    <tr>\n",
       "      <th>no.of_days_left</th>\n",
       "      <td>-0.119148</td>\n",
       "    </tr>\n",
       "    <tr>\n",
       "      <th>Cruidoilprice</th>\n",
       "      <td>0.011678</td>\n",
       "    </tr>\n",
       "    <tr>\n",
       "      <th>month</th>\n",
       "      <td>-0.252632</td>\n",
       "    </tr>\n",
       "    <tr>\n",
       "      <th>day</th>\n",
       "      <td>0.014796</td>\n",
       "    </tr>\n",
       "    <tr>\n",
       "      <th>isWEEKDAY</th>\n",
       "      <td>-0.001929</td>\n",
       "    </tr>\n",
       "    <tr>\n",
       "      <th>Dep_Time_min</th>\n",
       "      <td>-0.015826</td>\n",
       "    </tr>\n",
       "    <tr>\n",
       "      <th>Dep_Time_hr</th>\n",
       "      <td>-0.083235</td>\n",
       "    </tr>\n",
       "    <tr>\n",
       "      <th>Arrival_Time_min</th>\n",
       "      <td>-0.025771</td>\n",
       "    </tr>\n",
       "    <tr>\n",
       "      <th>Arrival_Time_hr</th>\n",
       "      <td>0.134378</td>\n",
       "    </tr>\n",
       "    <tr>\n",
       "      <th>Total_Duration</th>\n",
       "      <td>0.102519</td>\n",
       "    </tr>\n",
       "    <tr>\n",
       "      <th>Day_of_Week</th>\n",
       "      <td>0.004520</td>\n",
       "    </tr>\n",
       "    <tr>\n",
       "      <th>part_of_day</th>\n",
       "      <td>-0.081946</td>\n",
       "    </tr>\n",
       "  </tbody>\n",
       "</table>\n",
       "</div>"
      ],
      "text/plain": [
       "                  Coefficient\n",
       "no.of_days_left     -0.119148\n",
       "Cruidoilprice        0.011678\n",
       "month               -0.252632\n",
       "day                  0.014796\n",
       "isWEEKDAY           -0.001929\n",
       "Dep_Time_min        -0.015826\n",
       "Dep_Time_hr         -0.083235\n",
       "Arrival_Time_min    -0.025771\n",
       "Arrival_Time_hr      0.134378\n",
       "Total_Duration       0.102519\n",
       "Day_of_Week          0.004520\n",
       "part_of_day         -0.081946"
      ]
     },
     "execution_count": 161,
     "metadata": {},
     "output_type": "execute_result"
    }
   ],
   "source": [
    "coeff_df = pd.DataFrame(lm.coef_,X.columns,columns=['Coefficient'])\n",
    "coeff_df"
   ]
  },
  {
   "cell_type": "code",
   "execution_count": 162,
   "metadata": {},
   "outputs": [
    {
     "data": {
      "text/plain": [
       "array([7622.78612877])"
      ]
     },
     "execution_count": 162,
     "metadata": {},
     "output_type": "execute_result"
    }
   ],
   "source": [
    "lm.predict([[68,54,7,2,0,16,35,19,25,150,3,4]])"
   ]
  },
  {
   "cell_type": "markdown",
   "metadata": {},
   "source": [
    "# 3.Lasso Regression"
   ]
  },
  {
   "cell_type": "code",
   "execution_count": 163,
   "metadata": {},
   "outputs": [],
   "source": [
    "from sklearn.linear_model import Lasso\n",
    "lm=Lasso()\n",
    "lm.fit(X_train,y_train)\n",
    "predictions=lm.predict(X_test)"
   ]
  },
  {
   "cell_type": "code",
   "execution_count": 164,
   "metadata": {},
   "outputs": [
    {
     "data": {
      "text/plain": [
       "0.395042186645415"
      ]
     },
     "execution_count": 164,
     "metadata": {},
     "output_type": "execute_result"
    }
   ],
   "source": [
    "lm.score(X,y)"
   ]
  },
  {
   "cell_type": "markdown",
   "metadata": {},
   "source": [
    "# 4. Elastic Net Regression"
   ]
  },
  {
   "cell_type": "code",
   "execution_count": 165,
   "metadata": {},
   "outputs": [],
   "source": [
    "from sklearn.linear_model import ElasticNet\n",
    "lm=ElasticNet()\n",
    "lm.fit(X_train,y_train)\n",
    "predictions=lm.predict(X_test)"
   ]
  },
  {
   "cell_type": "code",
   "execution_count": 166,
   "metadata": {},
   "outputs": [
    {
     "data": {
      "text/plain": [
       "0.3950421721502875"
      ]
     },
     "execution_count": 166,
     "metadata": {},
     "output_type": "execute_result"
    }
   ],
   "source": [
    "lm.score(X,y)"
   ]
  },
  {
   "cell_type": "markdown",
   "metadata": {},
   "source": [
    "# 5.BayesianRidge"
   ]
  },
  {
   "cell_type": "code",
   "execution_count": 167,
   "metadata": {},
   "outputs": [],
   "source": [
    "from sklearn.linear_model import BayesianRidge\n",
    "lm=BayesianRidge()\n",
    "lm.fit(X_train,y_train)\n",
    "predictions=lm.predict(X_test)"
   ]
  },
  {
   "cell_type": "code",
   "execution_count": 168,
   "metadata": {},
   "outputs": [
    {
     "data": {
      "text/plain": [
       "0.39430714478395934"
      ]
     },
     "execution_count": 168,
     "metadata": {},
     "output_type": "execute_result"
    }
   ],
   "source": [
    "lm.score(X,y)"
   ]
  },
  {
   "cell_type": "markdown",
   "metadata": {},
   "source": [
    "# 6.XGBRegressor"
   ]
  },
  {
   "cell_type": "code",
   "execution_count": 170,
   "metadata": {},
   "outputs": [],
   "source": [
    "from xgboost import XGBRegressor"
   ]
  },
  {
   "cell_type": "code",
   "execution_count": 171,
   "metadata": {},
   "outputs": [],
   "source": [
    "rf = XGBRegressor(colsample_bytree=0.4603, gamma=0.0468, \n",
    "                             learning_rate=0.05, max_depth=3, \n",
    "                             min_child_weight=1.7817, n_estimators=2200,\n",
    "                             reg_alpha=0.4640, reg_lambda=0.8571,\n",
    "                             subsample=0.5213, silent=1,\n",
    "                             random_state =42, nthread = -1)"
   ]
  },
  {
   "cell_type": "code",
   "execution_count": 172,
   "metadata": {},
   "outputs": [
    {
     "name": "stdout",
     "output_type": "stream",
     "text": [
      "[18:52:56] WARNING: C:\\Users\\Administrator\\workspace\\xgboost-win64_release_1.2.0\\src\\learner.cc:516: \n",
      "Parameters: { silent } might not be used.\n",
      "\n",
      "  This may not be accurate due to some parameters are only used in language bindings but\n",
      "  passed down to XGBoost core.  Or some parameters are not used but slip through this\n",
      "  verification. Please open an issue if you find above cases.\n",
      "\n",
      "\n"
     ]
    },
    {
     "data": {
      "text/plain": [
       "XGBRegressor(base_score=0.5, booster='gbtree', colsample_bylevel=1,\n",
       "             colsample_bynode=1, colsample_bytree=0.4603, gamma=0.0468,\n",
       "             gpu_id=-1, importance_type='gain', interaction_constraints='',\n",
       "             learning_rate=0.05, max_delta_step=0, max_depth=3,\n",
       "             min_child_weight=1.7817, missing=nan, monotone_constraints='()',\n",
       "             n_estimators=2200, n_jobs=-1, nthread=-1, num_parallel_tree=1,\n",
       "             random_state=42, reg_alpha=0.464, reg_lambda=0.8571,\n",
       "             scale_pos_weight=1, silent=1, subsample=0.5213,\n",
       "             tree_method='exact', validate_parameters=1, verbosity=None)"
      ]
     },
     "execution_count": 172,
     "metadata": {},
     "output_type": "execute_result"
    }
   ],
   "source": [
    "rf.fit(X_train,y_train)"
   ]
  },
  {
   "cell_type": "code",
   "execution_count": 173,
   "metadata": {},
   "outputs": [
    {
     "data": {
      "text/plain": [
       "0.8767029689543357"
      ]
     },
     "execution_count": 173,
     "metadata": {},
     "output_type": "execute_result"
    }
   ],
   "source": [
    "rf.score(X,y)"
   ]
  },
  {
   "cell_type": "markdown",
   "metadata": {},
   "source": [
    "# 7.GradientBoostingRegressor "
   ]
  },
  {
   "cell_type": "code",
   "execution_count": 174,
   "metadata": {},
   "outputs": [],
   "source": [
    "from sklearn.ensemble import GradientBoostingRegressor "
   ]
  },
  {
   "cell_type": "code",
   "execution_count": 175,
   "metadata": {},
   "outputs": [],
   "source": [
    "rf = GradientBoostingRegressor()"
   ]
  },
  {
   "cell_type": "code",
   "execution_count": 176,
   "metadata": {},
   "outputs": [
    {
     "data": {
      "text/plain": [
       "GradientBoostingRegressor()"
      ]
     },
     "execution_count": 176,
     "metadata": {},
     "output_type": "execute_result"
    }
   ],
   "source": [
    "rf.fit(X_train,y_train)"
   ]
  },
  {
   "cell_type": "code",
   "execution_count": 177,
   "metadata": {},
   "outputs": [
    {
     "data": {
      "text/plain": [
       "0.7697821664565756"
      ]
     },
     "execution_count": 177,
     "metadata": {},
     "output_type": "execute_result"
    }
   ],
   "source": [
    "rf.score(X,y)"
   ]
  },
  {
   "cell_type": "code",
   "execution_count": 178,
   "metadata": {},
   "outputs": [
    {
     "data": {
      "text/plain": [
       "array([0.44076765, 0.00535306, 0.00684605, 0.02070068, 0.        ,\n",
       "       0.13392824, 0.0362064 , 0.04830896, 0.11265247, 0.12336386,\n",
       "       0.00269759, 0.06917503])"
      ]
     },
     "execution_count": 178,
     "metadata": {},
     "output_type": "execute_result"
    }
   ],
   "source": [
    "rf.feature_importances_"
   ]
  },
  {
   "cell_type": "code",
   "execution_count": 179,
   "metadata": {},
   "outputs": [
    {
     "data": {
      "text/plain": [
       "array([6007.49162234])"
      ]
     },
     "execution_count": 179,
     "metadata": {},
     "output_type": "execute_result"
    }
   ],
   "source": [
    "rf.predict([[68,54,7,2,0,16,35,19,25,150,3,4]])"
   ]
  },
  {
   "cell_type": "markdown",
   "metadata": {},
   "source": [
    "# 8.ExtraTreesRegressor"
   ]
  },
  {
   "cell_type": "code",
   "execution_count": 180,
   "metadata": {},
   "outputs": [],
   "source": [
    "from sklearn.ensemble import ExtraTreesRegressor"
   ]
  },
  {
   "cell_type": "code",
   "execution_count": 181,
   "metadata": {},
   "outputs": [],
   "source": [
    " rf = ExtraTreesRegressor()"
   ]
  },
  {
   "cell_type": "code",
   "execution_count": 182,
   "metadata": {},
   "outputs": [
    {
     "data": {
      "text/plain": [
       "ExtraTreesRegressor()"
      ]
     },
     "execution_count": 182,
     "metadata": {},
     "output_type": "execute_result"
    }
   ],
   "source": [
    "rf.fit(X_train,y_train)"
   ]
  },
  {
   "cell_type": "code",
   "execution_count": 183,
   "metadata": {},
   "outputs": [
    {
     "data": {
      "text/plain": [
       "0.9604856233561638"
      ]
     },
     "execution_count": 183,
     "metadata": {},
     "output_type": "execute_result"
    }
   ],
   "source": [
    "rf.score(X,y)"
   ]
  },
  {
   "cell_type": "code",
   "execution_count": 184,
   "metadata": {},
   "outputs": [],
   "source": [
    "predictions=rf.predict(X_test)"
   ]
  },
  {
   "cell_type": "code",
   "execution_count": 186,
   "metadata": {},
   "outputs": [
    {
     "data": {
      "text/plain": [
       "array([3402.48871049, 7117.13998996, 6800.09031611, 6399.2574009 ,\n",
       "       4052.83492223])"
      ]
     },
     "execution_count": 186,
     "metadata": {},
     "output_type": "execute_result"
    }
   ],
   "source": [
    "predictions[0:5]"
   ]
  },
  {
   "cell_type": "code",
   "execution_count": 185,
   "metadata": {},
   "outputs": [
    {
     "data": {
      "text/plain": [
       "2425    3294.029102\n",
       "2852    7115.403914\n",
       "2755    7115.403914\n",
       "62      6637.732062\n",
       "481     4023.582539\n",
       "Name: price , dtype: float64"
      ]
     },
     "execution_count": 185,
     "metadata": {},
     "output_type": "execute_result"
    }
   ],
   "source": [
    "y_test[0:5]"
   ]
  },
  {
   "cell_type": "code",
   "execution_count": 187,
   "metadata": {},
   "outputs": [
    {
     "data": {
      "text/plain": [
       "array([5591.98193678])"
      ]
     },
     "execution_count": 187,
     "metadata": {},
     "output_type": "execute_result"
    }
   ],
   "source": [
    "rf.predict([[68,54,7,2,0,16,35,19,25,150,3,4]])"
   ]
  },
  {
   "cell_type": "code",
   "execution_count": null,
   "metadata": {},
   "outputs": [],
   "source": []
  },
  {
   "cell_type": "code",
   "execution_count": null,
   "metadata": {},
   "outputs": [],
   "source": []
  },
  {
   "cell_type": "code",
   "execution_count": null,
   "metadata": {},
   "outputs": [],
   "source": [
    "\n"
   ]
  }
 ],
 "metadata": {
  "kernelspec": {
   "display_name": "Python 3",
   "language": "python",
   "name": "python3"
  },
  "language_info": {
   "codemirror_mode": {
    "name": "ipython",
    "version": 3
   },
   "file_extension": ".py",
   "mimetype": "text/x-python",
   "name": "python",
   "nbconvert_exporter": "python",
   "pygments_lexer": "ipython3",
   "version": "3.8.3"
  }
 },
 "nbformat": 4,
 "nbformat_minor": 4
}
